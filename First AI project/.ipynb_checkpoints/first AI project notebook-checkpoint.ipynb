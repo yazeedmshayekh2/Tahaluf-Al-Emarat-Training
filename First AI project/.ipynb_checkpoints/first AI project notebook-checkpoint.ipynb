{
 "cells": [
  {
   "cell_type": "markdown",
   "id": "9b54728e",
   "metadata": {},
   "source": [
    "\n",
    "## Outlines\n",
    "\n",
    "- Data Wrangling\n",
    "- Data Cleaning\n",
    "- Visualizations\n",
    "\n",
    "## Notes\n",
    "- <span style=\"color:red\">**PROVE ALL YOUR ANSWERS WITH GRAPHS IF AVAILABLE**.\n",
    "- All problems **MUST** be solved.\n",
    "- Read the problems well, before you start solving.\n",
    "- The solution **MUST** pass all the test cases.\n",
    "- Feel free to add more cells to develope the program, **BUT** make sure you gather them in ONE adequately working code cell.  \n",
    "\n",
    "#### **Good Luck**"
   ]
  },
  {
   "cell_type": "markdown",
   "id": "56c7ebb6",
   "metadata": {},
   "source": [
    "## <span style=\"color:blue\">Problem statment\n",
    "\n",
    "A role of a job-agency, which receives thousands of resumes every month, but does not have time to classify these.\n",
    "Resumes come in, but we don't know exactly how these should be assigned. Is this applicant an engineer, HR or warehouse worker?\n",
    "You are expected to help in reading the resumes and provide a revision for all of them about the position, experience, skills, courses …. In a data frame and then doing some analysis.\n",
    "\n",
    "\n",
    "## <span style=\"color:blue\">Data Description\n",
    "\n",
    "Context\n",
    "    \n",
    "A collection of Resume Examples taken from livecareer.com for categorizing a given resume into any of the labels defined in the dataset.\n",
    "    \n",
    "Content\n",
    "    \n",
    "Contains 2400+ Resumes in string as well as PDF format.\n",
    "PDF stored in the data folder differentiated into their respective labels as folders with each resume residing inside the folder in pdf form with filename as the id defined in the csv.\n",
    "Inside the CSV:\n",
    "\n",
    "- ID: Unique identifier and file name for the respective pdf.\n",
    "\n",
    "- Resume_str : Contains the resume text only in string format.\n",
    "\n",
    "- Resume_str : Contains the resume text only in string format.\n",
    "\n",
    "- Category : Category of the job the resume was used to apply.\n",
    "\n",
    "    Present categories are\n",
    "HR, Designer, Information-Technology, Teacher, Advocate, Business-Development, Healthcare, Fitness, Agriculture, BPO, Sales, Consultant, Digital-Media, Automobile, Chef, Finance, Apparel, Engineering, Accountant, Construction, Public-Relations, Banking, Arts, Aviation\n"
   ]
  },
  {
   "cell_type": "markdown",
   "id": "ba6cd0bb",
   "metadata": {},
   "source": [
    "### <span style=\"color:orange\">Task 1\n",
    "\n",
    "Create a descriptive csv file from the plain-text samples with the followoing columns:\n",
    "\n",
    "- POSITION_TITLE: Job title.\n",
    "- resume number: the Id of resume that it was saved as\n",
    "- QUALIFICATIONS: The qualifications that each applicant had for the job\n",
    "- EDUCATION _TYPE: type of education that the applicant had (master, bachelor, diploma….)\n",
    "- SCHOOL_TYPE: The type of school the applicant study in (university, college, high school)\n",
    "- EDUCATION_MAJOR: The education major you study in this school.\n",
    "- EXPERIENCE_LENGTH: The number of experience years needed to apply for this job.\n",
    "- AWORDS: If the applicant had an award or not.\n",
    "- COMMUNITY SERVICE: If the applicant had a community service work or not.\n",
    "- VOLUNTEERING: If the applicant had any volunteering or not.\n",
    "- DRIVERS_LICENSE_AVAILABILITY: Is driver license available or not for this applicant.\n",
    "- SKILLS_COUNT: number of skills that the applicant had.\n",
    "- SKILLS: the skill that applicant had.\n",
    "- Languages: the number of languages for each applicant."
   ]
  },
  {
   "cell_type": "code",
   "execution_count": null,
   "id": "507bc1b6",
   "metadata": {},
   "outputs": [],
   "source": []
  },
  {
   "cell_type": "markdown",
   "id": "4cead856",
   "metadata": {},
   "source": [
    "### <span style=\"color:orange\">Task 2\n",
    "\n",
    "Assume you are a DA in a company and you are about to prepare a report to the LA governate about there jobs, by answering some questions and give insight about the data provided.\n",
    "\n",
    "### Note: This section will be a QA cells."
   ]
  },
  {
   "cell_type": "markdown",
   "id": "3eee6e9d",
   "metadata": {},
   "source": [
    "### <span style=\"color:brown\">Q1:\n",
    "\n",
    "Review the number of applicants for each position."
   ]
  },
  {
   "cell_type": "markdown",
   "id": "6a75fc50",
   "metadata": {},
   "source": [
    "### <span style=\"color:brown\">Q2:\n",
    "\n",
    "A concerned parents contacts you to tell them if there is a specific school type that would guaranteed for their child a good future if you can tell, and which is it ?"
   ]
  },
  {
   "cell_type": "markdown",
   "id": "e19b83b4",
   "metadata": {},
   "source": [
    "### <span style=\"color:brown\">Q3:\n",
    "\n",
    "what is the most common skills among all applications?"
   ]
  },
  {
   "cell_type": "code",
   "execution_count": 1,
   "id": "9a579422",
   "metadata": {
    "execution": {
     "iopub.execute_input": "2023-03-13T12:11:24.027749Z",
     "iopub.status.busy": "2023-03-13T12:11:24.027299Z",
     "iopub.status.idle": "2023-03-13T12:11:24.056637Z",
     "shell.execute_reply": "2023-03-13T12:11:24.055070Z",
     "shell.execute_reply.started": "2023-03-13T12:11:24.027710Z"
    }
   },
   "outputs": [],
   "source": [
    "### Write you code here ###\n"
   ]
  },
  {
   "cell_type": "markdown",
   "id": "cc00c66a",
   "metadata": {},
   "source": [
    "### <span style=\"color:brown\">Q4:\n",
    "\n",
    "Based on the data that you have, could you tell the most active and community helpful applicants are for what position?"
   ]
  },
  {
   "cell_type": "markdown",
   "id": "9b62ae87",
   "metadata": {},
   "source": [
    "### <span style=\"color:brown\">Q5:\n",
    "\n",
    "could you nominate the best job application for each position?"
   ]
  },
  {
   "cell_type": "code",
   "execution_count": 66,
   "id": "76a49656",
   "metadata": {},
   "outputs": [],
   "source": [
    "### Write you code here ###\n"
   ]
  },
  {
   "cell_type": "markdown",
   "id": "2752080d",
   "metadata": {},
   "source": [
    "### <span style=\"color:brown\">Q6:\n",
    "\n",
    "Do you think learning another language could effect the application, support your opinion."
   ]
  },
  {
   "cell_type": "code",
   "execution_count": 6,
   "id": "8991155a",
   "metadata": {
    "execution": {
     "iopub.execute_input": "2023-03-13T13:01:10.255826Z",
     "iopub.status.busy": "2023-03-13T13:01:10.255301Z",
     "iopub.status.idle": "2023-03-13T13:01:10.260758Z",
     "shell.execute_reply": "2023-03-13T13:01:10.259738Z",
     "shell.execute_reply.started": "2023-03-13T13:01:10.255777Z"
    }
   },
   "outputs": [],
   "source": [
    "### Write you code here ###\n"
   ]
  },
  {
   "cell_type": "markdown",
   "id": "9aef678f",
   "metadata": {},
   "source": [
    "## <span style=\"color:brown\">Q7:\n",
    "\n",
    "Give a full statistical description for all numrical data columns including all insights and needed figures to visualize them."
   ]
  },
  {
   "cell_type": "code",
   "execution_count": 4,
   "id": "2756cbf7",
   "metadata": {
    "execution": {
     "iopub.execute_input": "2023-03-13T12:22:55.187765Z",
     "iopub.status.busy": "2023-03-13T12:22:55.186793Z",
     "iopub.status.idle": "2023-03-13T12:22:55.194342Z",
     "shell.execute_reply": "2023-03-13T12:22:55.192514Z",
     "shell.execute_reply.started": "2023-03-13T12:22:55.187709Z"
    }
   },
   "outputs": [],
   "source": [
    "### Write you code here ###\n",
    "#note: use_univariate with continouius\n"
   ]
  },
  {
   "cell_type": "markdown",
   "id": "abae88d1",
   "metadata": {},
   "source": [
    "## <span style=\"color:brown\">Q8:\n",
    "\n",
    "Give a full statistical description for the categorical data columns that can be descriped including all insights and needed figures to visualize them.\n"
   ]
  },
  {
   "cell_type": "code",
   "execution_count": 5,
   "id": "511192ad",
   "metadata": {
    "execution": {
     "iopub.execute_input": "2023-03-13T12:26:48.756489Z",
     "iopub.status.busy": "2023-03-13T12:26:48.755533Z",
     "iopub.status.idle": "2023-03-13T12:26:48.762900Z",
     "shell.execute_reply": "2023-03-13T12:26:48.760703Z",
     "shell.execute_reply.started": "2023-03-13T12:26:48.756434Z"
    }
   },
   "outputs": [],
   "source": [
    "### Write you code here ###\n",
    "#note: use_univariate with catergircal\n"
   ]
  },
  {
   "cell_type": "markdown",
   "id": "c2ca860d",
   "metadata": {
    "hide_input": false
   },
   "source": [
    "## Great Job."
   ]
  }
 ],
 "metadata": {
  "kernelspec": {
   "display_name": "Python 3 (ipykernel)",
   "language": "python",
   "name": "python3"
  },
  "language_info": {
   "codemirror_mode": {
    "name": "ipython",
    "version": 3
   },
   "file_extension": ".py",
   "mimetype": "text/x-python",
   "name": "python",
   "nbconvert_exporter": "python",
   "pygments_lexer": "ipython3",
   "version": "3.10.9"
  },
  "varInspector": {
   "cols": {
    "lenName": 16,
    "lenType": 16,
    "lenVar": 40
   },
   "kernels_config": {
    "python": {
     "delete_cmd_postfix": "",
     "delete_cmd_prefix": "del ",
     "library": "var_list.py",
     "varRefreshCmd": "print(var_dic_list())"
    },
    "r": {
     "delete_cmd_postfix": ") ",
     "delete_cmd_prefix": "rm(",
     "library": "var_list.r",
     "varRefreshCmd": "cat(var_dic_list()) "
    }
   },
   "position": {
    "height": "144.844px",
    "left": "1550px",
    "right": "20px",
    "top": "119px",
    "width": "350px"
   },
   "types_to_exclude": [
    "module",
    "function",
    "builtin_function_or_method",
    "instance",
    "_Feature"
   ],
   "window_display": false
  }
 },
 "nbformat": 4,
 "nbformat_minor": 5
}
