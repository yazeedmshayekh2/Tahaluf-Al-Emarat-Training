{
 "cells": [
  {
   "cell_type": "markdown",
   "metadata": {
    "id": "MXcAarklOTmf"
   },
   "source": [
    "# Python Course"
   ]
  },
  {
   "cell_type": "markdown",
   "metadata": {
    "id": "oc8pZ6v-OblZ"
   },
   "source": [
    "## Course Content\n",
    "\n",
    "\n",
    "* Introduction to Programming\n",
    "* Variables and Data Types \n",
    "  * Numbers\n",
    "  * Strings\n",
    "  * Boolean\n",
    "* Type Conversion\n",
    "* Expressions\n",
    "* Python Operators\n",
    "    *   Assignment Operators\n",
    "    *   Comparison Operators\n",
    "    *   Logical Operators\n",
    "    *   Identity Operators\n",
    "    *   Membership Operators\n",
    "    *   Bitwise Operators\n",
    "\n",
    "* Control Flow Tools \n",
    "  * If statements\n",
    "  * Loops (for and while statements)\n",
    "  * The  range() function\n",
    "  * Break, continue and pass\n",
    "  \n",
    "* Functions\n",
    "  * Arguments\n",
    "  * Keyword Arguments\n",
    "  * Special Parameters\n",
    "  * Positional-or-Keyword Arguments\n",
    "  * Positional-Only Parameters\n",
    "  * Keyword-Only Arguments\n",
    "  * Arbitrary Argument Lists\n",
    "  * Unpacking Argument Lists\n",
    "  * Lambda Expressions\n",
    "  * Documentation Strings\n",
    "  * Math Functions \n",
    "  * Recursion    \n",
    "  * Global Keyword\n",
    "\n",
    "* File handling \n",
    "\n",
    "* Classes and OOP \n",
    "  * A Word About Names and Objects\n",
    "  * Python Scopes and Namespaces\n",
    "  * A First Look at Classes\n",
    "    * Constructors and Deconstructors \n",
    "    * Class Objects, Instance Objects and Method Objects\n",
    "    * Class and Instance Variables\n",
    "\n",
    "* Numpy Tutorial\n",
    "* Pandas Tutorial\n",
    "\n",
    "\n"
   ]
  },
  {
   "cell_type": "markdown",
   "metadata": {
    "id": "q-TFYtp9gQZ2"
   },
   "source": [
    "## Introduction to programming Agenda:\n",
    "\n",
    "* [Introduction to Programming](#introduction_to_programming)\n",
    "* [Variables and Data Types](#variables_and_data_types) \n",
    "  * Numbers\n",
    "  * Strings\n",
    "  * Boolean\n",
    "* [Type Conversion](#type_conversions)\n",
    "* [Expressions](#expressions)\n",
    "* [Python Operators](#python_operators)\n",
    "    *   [Assignment Operators](#assignment_operators)\n",
    "    *   [Comparison Operators](#comparison_operators)\n",
    "    *   [Logical Operators](#logical_operators)\n",
    "    *   [Identity Operators](#identity_operators)\n",
    "    *   [Membership Operators](#membership_operators)\n",
    "    *   [Bitwise Operators](#bitwise_operators)\n",
    " \n",
    "* [Strings](#strings)\n",
    "    *   [Defining a string](#ds)\n",
    "    *   [Indexing String](#is)\n",
    "    *   [Concatenating Strings](#cs)\n",
    "    *   [Playing with strings](#ps)    \n",
    "    *   [String conversions](#sc)\n",
    "    *   [String methods](#sm)\n",
    "    *   [String formating](#sf)"
   ]
  },
  {
   "cell_type": "markdown",
   "metadata": {
    "id": "oa8LoGa_Q1U6"
   },
   "source": [
    "### <a id='introduction_to_programming'></a> Introduction to Programming\n",
    "\n",
    "\n",
    "1. a program is a sequence of <span style=\"color:blue\">definitions and commands</span>\n",
    "definitions evaluated \n",
    "2. commands executed by <span style=\"color:blue\">Python interpreter</span> in a shell\n",
    "3. Commands (statements) instruct interpreter to do something\n",
    "can be typed directly in a shell or stored in a file that is read into the shell and evaluated"
   ]
  },
  {
   "cell_type": "markdown",
   "metadata": {
    "id": "HQ_sdbS7SQ4d"
   },
   "source": [
    "#### Python Objects\n",
    "\n",
    "* programs manipulate data objects\n",
    "* objects have a type that defines the kinds of things programs can do to them\n",
    "  * Ana is a human so she can walk, speak English, etc. \n",
    "  * Chewbacca is a wookie so he canwalk, “mwaaarhrhh”, etc.\n",
    "* objects are\n",
    "  * <span style=\"color:blue\">scalar</span> (cannot be subdivided) like integers ,float,etc\n",
    "  * <span style=\"color:blue\">non-scalar</span> (have internal structure that can be accessed) like a list (of numbers, strings, etc)"
   ]
  },
  {
   "cell_type": "markdown",
   "metadata": {
    "id": "HJ5KYSyHWiOL"
   },
   "source": [
    "### <a id='variables_and_data_types' ></a> Variables and data types\n",
    "\n",
    "\n",
    "* int  –represents <span style=\"color:blue\">integers</span>, ex. 5\n",
    "* float –represents <span style=\"color:blue\">real numbers</span>, ex. 3.27\n",
    "* bool  –represents <span style=\"color:blue\">Boolean values True and False</span>\n",
    "* NoneType –special and has one value, None\n",
    "* Use *type()* to see the type of an object\n",
    "\n"
   ]
  },
  {
   "cell_type": "markdown",
   "metadata": {
    "id": "Ek--aV6aGg7M"
   },
   "source": [
    "Let's start by defining some basic datatypes.\n",
    "\n",
    "Defining an integer variable which represents a scalar object."
   ]
  },
  {
   "cell_type": "code",
   "execution_count": 1,
   "metadata": {},
   "outputs": [
    {
     "ename": "NameError",
     "evalue": "name 'x' is not defined",
     "output_type": "error",
     "traceback": [
      "\u001b[1;31m---------------------------------------------------------------------------\u001b[0m",
      "\u001b[1;31mNameError\u001b[0m                                 Traceback (most recent call last)",
      "Cell \u001b[1;32mIn[1], line 1\u001b[0m\n\u001b[1;32m----> 1\u001b[0m \u001b[38;5;28mprint\u001b[39m(\u001b[43mx\u001b[49m)\n",
      "\u001b[1;31mNameError\u001b[0m: name 'x' is not defined"
     ]
    }
   ],
   "source": [
    "print(x)"
   ]
  },
  {
   "cell_type": "code",
   "execution_count": 2,
   "metadata": {
    "colab": {
     "base_uri": "https://localhost:8080/"
    },
    "executionInfo": {
     "elapsed": 665,
     "status": "ok",
     "timestamp": 1627156909015,
     "user": {
      "displayName": "Mohamed Sabry",
      "photoUrl": "https://lh3.googleusercontent.com/a-/AOh14GhbLJv6CX3dgBgLfw9OYqdgZmRW7NR-K1ZYgxL4=s64",
      "userId": "05412214076873003430"
     },
     "user_tz": -120
    },
    "id": "TDIWCwiFV_7c",
    "outputId": "bc5efa30-f21e-4cce-a7af-d7c24f176114"
   },
   "outputs": [
    {
     "name": "stdout",
     "output_type": "stream",
     "text": [
      "<class 'int'>\n"
     ]
    }
   ],
   "source": [
    "# defining an integer\n",
    "x = 3\n",
    "# print the type of the x variable\n",
    "print(type(x))"
   ]
  },
  {
   "cell_type": "code",
   "execution_count": null,
   "metadata": {
    "colab": {
     "base_uri": "https://localhost:8080/"
    },
    "executionInfo": {
     "elapsed": 16,
     "status": "ok",
     "timestamp": 1627156895294,
     "user": {
      "displayName": "Mohamed Sabry",
      "photoUrl": "https://lh3.googleusercontent.com/a-/AOh14GhbLJv6CX3dgBgLfw9OYqdgZmRW7NR-K1ZYgxL4=s64",
      "userId": "05412214076873003430"
     },
     "user_tz": -120
    },
    "id": "duoYPiu3W6UH",
    "outputId": "5b9a5dd4-ddcd-4081-8e32-b5acfeaf15fb"
   },
   "outputs": [],
   "source": [
    "print(3)\n",
    "print(type(3))"
   ]
  },
  {
   "cell_type": "markdown",
   "metadata": {
    "id": "bHCrw63kG1gN"
   },
   "source": [
    "Defining a float variable"
   ]
  },
  {
   "cell_type": "code",
   "execution_count": 3,
   "metadata": {
    "colab": {
     "base_uri": "https://localhost:8080/"
    },
    "executionInfo": {
     "elapsed": 376,
     "status": "ok",
     "timestamp": 1627156959388,
     "user": {
      "displayName": "Mohamed Sabry",
      "photoUrl": "https://lh3.googleusercontent.com/a-/AOh14GhbLJv6CX3dgBgLfw9OYqdgZmRW7NR-K1ZYgxL4=s64",
      "userId": "05412214076873003430"
     },
     "user_tz": -120
    },
    "id": "DmtSdO16WGk4",
    "outputId": "e66771f9-7b0b-4c3d-a837-32a2575299fe",
    "scrolled": true
   },
   "outputs": [
    {
     "name": "stdout",
     "output_type": "stream",
     "text": [
      "<class 'float'>\n"
     ]
    }
   ],
   "source": [
    "# defining a float\n",
    "x = 3.0 \n",
    "print(type(x))"
   ]
  },
  {
   "cell_type": "markdown",
   "metadata": {
    "id": "50WqwFMPHT9N"
   },
   "source": [
    "Defining a boolean variable\n",
    "\n",
    "\n"
   ]
  },
  {
   "cell_type": "code",
   "execution_count": 4,
   "metadata": {
    "colab": {
     "base_uri": "https://localhost:8080/"
    },
    "executionInfo": {
     "elapsed": 429,
     "status": "ok",
     "timestamp": 1627157034866,
     "user": {
      "displayName": "Mohamed Sabry",
      "photoUrl": "https://lh3.googleusercontent.com/a-/AOh14GhbLJv6CX3dgBgLfw9OYqdgZmRW7NR-K1ZYgxL4=s64",
      "userId": "05412214076873003430"
     },
     "user_tz": -120
    },
    "id": "U_bN4ySkWbgK",
    "outputId": "fb7e1369-0db8-49dd-c06e-2eae129a10cc",
    "scrolled": true
   },
   "outputs": [
    {
     "name": "stdout",
     "output_type": "stream",
     "text": [
      "<class 'bool'>\n",
      "<class 'bool'>\n"
     ]
    }
   ],
   "source": [
    "# defining a float variable which represents a scalar object\n",
    "x = True\n",
    "print(type(x))\n",
    "x = False\n",
    "print(type(x))"
   ]
  },
  {
   "cell_type": "markdown",
   "metadata": {
    "id": "MWb_FLmTHhAl"
   },
   "source": [
    "Defining a string or character.\n",
    "\n",
    "Characters and Strings are treated the same way in python and they are defined using '' or \"\"\n"
   ]
  },
  {
   "cell_type": "code",
   "execution_count": 5,
   "metadata": {
    "colab": {
     "base_uri": "https://localhost:8080/"
    },
    "executionInfo": {
     "elapsed": 265,
     "status": "ok",
     "timestamp": 1626473079911,
     "user": {
      "displayName": "Mohamed Sabry",
      "photoUrl": "https://lh3.googleusercontent.com/a-/AOh14GhbLJv6CX3dgBgLfw9OYqdgZmRW7NR-K1ZYgxL4=s64",
      "userId": "05412214076873003430"
     },
     "user_tz": -120
    },
    "id": "TTyUMIbKWX53",
    "outputId": "bbf4649d-0fd6-4c81-9f73-7b85470bf2b8"
   },
   "outputs": [
    {
     "name": "stdout",
     "output_type": "stream",
     "text": [
      "<class 'str'>\n"
     ]
    }
   ],
   "source": [
    "x = 'h'\n",
    "print(type(x))"
   ]
  },
  {
   "cell_type": "code",
   "execution_count": 6,
   "metadata": {
    "colab": {
     "base_uri": "https://localhost:8080/"
    },
    "executionInfo": {
     "elapsed": 277,
     "status": "ok",
     "timestamp": 1626473066497,
     "user": {
      "displayName": "Mohamed Sabry",
      "photoUrl": "https://lh3.googleusercontent.com/a-/AOh14GhbLJv6CX3dgBgLfw9OYqdgZmRW7NR-K1ZYgxL4=s64",
      "userId": "05412214076873003430"
     },
     "user_tz": -120
    },
    "id": "oYD-q396WK7s",
    "outputId": "3b4d8f3c-a609-4d15-d041-24c5bffe155e"
   },
   "outputs": [
    {
     "name": "stdout",
     "output_type": "stream",
     "text": [
      "<class 'str'>\n"
     ]
    }
   ],
   "source": [
    "x = \"hello world\"\n",
    "print(type(x))"
   ]
  },
  {
   "cell_type": "markdown",
   "metadata": {
    "id": "tH-O2CLMWwS1"
   },
   "source": [
    "### <a id='type_conversions'></a>Type Conversions (TYPE CASTING)\n",
    "\n",
    "Frequently we may need to convert the datatypes of variables, so we use type casting.\n",
    "\n",
    "* can convert object of one type to another\n",
    "* float(3) converts integer 3 to float 3.0\n",
    "* int(3.9) truncates float 3.9to integer 3 \n",
    "\n"
   ]
  },
  {
   "cell_type": "code",
   "execution_count": 7,
   "metadata": {
    "colab": {
     "base_uri": "https://localhost:8080/"
    },
    "executionInfo": {
     "elapsed": 317,
     "status": "ok",
     "timestamp": 1627157181543,
     "user": {
      "displayName": "Mohamed Sabry",
      "photoUrl": "https://lh3.googleusercontent.com/a-/AOh14GhbLJv6CX3dgBgLfw9OYqdgZmRW7NR-K1ZYgxL4=s64",
      "userId": "05412214076873003430"
     },
     "user_tz": -120
    },
    "id": "eGpRSQ5INg4d",
    "outputId": "fdec1190-f165-4d0c-b17e-e5355528a8d9"
   },
   "outputs": [
    {
     "data": {
      "text/plain": [
       "3.0"
      ]
     },
     "execution_count": 7,
     "metadata": {},
     "output_type": "execute_result"
    }
   ],
   "source": [
    "num = 3\n",
    "float(num)"
   ]
  },
  {
   "cell_type": "code",
   "execution_count": 8,
   "metadata": {
    "colab": {
     "base_uri": "https://localhost:8080/"
    },
    "executionInfo": {
     "elapsed": 461,
     "status": "ok",
     "timestamp": 1627583822671,
     "user": {
      "displayName": "Mohamed Sabry",
      "photoUrl": "https://lh3.googleusercontent.com/a-/AOh14GhbLJv6CX3dgBgLfw9OYqdgZmRW7NR-K1ZYgxL4=s64",
      "userId": "05412214076873003430"
     },
     "user_tz": -120
    },
    "id": "inNJMT_YjTsN",
    "outputId": "cfb5b77a-c8d6-4581-9524-59d5decd50dc"
   },
   "outputs": [
    {
     "name": "stdout",
     "output_type": "stream",
     "text": [
      "True\n",
      "True\n",
      "False\n"
     ]
    }
   ],
   "source": [
    "print(bool(5.3)) #casting an int to boolean\n",
    "print(bool(-1)) #casting an int to boolean\n",
    "print(bool(0))"
   ]
  },
  {
   "cell_type": "code",
   "execution_count": 9,
   "metadata": {
    "colab": {
     "base_uri": "https://localhost:8080/"
    },
    "executionInfo": {
     "elapsed": 457,
     "status": "ok",
     "timestamp": 1627583859379,
     "user": {
      "displayName": "Mohamed Sabry",
      "photoUrl": "https://lh3.googleusercontent.com/a-/AOh14GhbLJv6CX3dgBgLfw9OYqdgZmRW7NR-K1ZYgxL4=s64",
      "userId": "05412214076873003430"
     },
     "user_tz": -120
    },
    "id": "2qZyKkp9jkaq",
    "outputId": "5073d1a3-b5b2-4695-856d-2c857f9bc858"
   },
   "outputs": [
    {
     "name": "stdout",
     "output_type": "stream",
     "text": [
      "5\n"
     ]
    }
   ],
   "source": [
    "s = str(5)\n",
    "print(s)"
   ]
  },
  {
   "cell_type": "code",
   "execution_count": 14,
   "metadata": {},
   "outputs": [
    {
     "data": {
      "text/plain": [
       "'555'"
      ]
     },
     "execution_count": 14,
     "metadata": {},
     "output_type": "execute_result"
    }
   ],
   "source": [
    "s*3"
   ]
  },
  {
   "cell_type": "code",
   "execution_count": 13,
   "metadata": {},
   "outputs": [
    {
     "data": {
      "text/plain": [
       "'53'"
      ]
     },
     "execution_count": 13,
     "metadata": {},
     "output_type": "execute_result"
    }
   ],
   "source": [
    "s+\"3\""
   ]
  },
  {
   "cell_type": "code",
   "execution_count": 15,
   "metadata": {},
   "outputs": [
    {
     "data": {
      "text/plain": [
       "True"
      ]
     },
     "execution_count": 15,
     "metadata": {},
     "output_type": "execute_result"
    }
   ],
   "source": [
    "bool(\"sdfghjk\")"
   ]
  },
  {
   "cell_type": "code",
   "execution_count": 16,
   "metadata": {},
   "outputs": [
    {
     "data": {
      "text/plain": [
       "False"
      ]
     },
     "execution_count": 16,
     "metadata": {},
     "output_type": "execute_result"
    }
   ],
   "source": [
    "bool(\"\")"
   ]
  },
  {
   "cell_type": "code",
   "execution_count": null,
   "metadata": {},
   "outputs": [],
   "source": [
    "type(s)"
   ]
  },
  {
   "cell_type": "code",
   "execution_count": null,
   "metadata": {},
   "outputs": [],
   "source": []
  },
  {
   "cell_type": "code",
   "execution_count": 17,
   "metadata": {
    "colab": {
     "base_uri": "https://localhost:8080/"
    },
    "executionInfo": {
     "elapsed": 459,
     "status": "ok",
     "timestamp": 1627583861866,
     "user": {
      "displayName": "Mohamed Sabry",
      "photoUrl": "https://lh3.googleusercontent.com/a-/AOh14GhbLJv6CX3dgBgLfw9OYqdgZmRW7NR-K1ZYgxL4=s64",
      "userId": "05412214076873003430"
     },
     "user_tz": -120
    },
    "id": "ZTJ_ptOjjpaq",
    "outputId": "b4d7e8cc-3bf2-4a2e-a850-2ca2c9b98d89"
   },
   "outputs": [
    {
     "data": {
      "text/plain": [
       "5"
      ]
     },
     "execution_count": 17,
     "metadata": {},
     "output_type": "execute_result"
    }
   ],
   "source": [
    "s = '5'\n",
    "s = int(s)\n",
    "s"
   ]
  },
  {
   "cell_type": "code",
   "execution_count": 18,
   "metadata": {},
   "outputs": [
    {
     "data": {
      "text/plain": [
       "int"
      ]
     },
     "execution_count": 18,
     "metadata": {},
     "output_type": "execute_result"
    }
   ],
   "source": [
    "type(s)"
   ]
  },
  {
   "cell_type": "markdown",
   "metadata": {
    "id": "vFskgQB4XK1c"
   },
   "source": [
    "### <a id='expressions'></a> Expressions\n",
    "\n",
    "* combine <span style=\"color:blue\">objects</span> and <span style=\"color:blue\">operators</span> to form expressions\n",
    "* an expression has a value, which has a type\n",
    "* syntax for a simple expression\n",
    "   * object operator object\n"
   ]
  },
  {
   "cell_type": "markdown",
   "metadata": {
    "id": "iXzLuaysXdtD"
   },
   "source": [
    "Example of OPERATORS ON ints and floats\n",
    "\n",
    "* i+j -> the sum\n",
    "* i-j -> the difference\n",
    "* i*j -> the product\n",
    "* i/j -> division\n",
    "* i%j -> the remainder when i is divided by j\n",
    "* i**j -> I to the power of j \n",
    "\n"
   ]
  },
  {
   "cell_type": "markdown",
   "metadata": {
    "id": "dw_h6kUXPrEE"
   },
   "source": [
    "### <a id='python_operators'></a> Python Operators\n",
    "\n",
    "Operators are used to perform operations on variables and values.\n",
    "\n",
    "Python divides the operators in the following groups:\n",
    "\n",
    "Arithmetic operators\n",
    "\n",
    "*   Assignment operators\n",
    "*   Comparison operators\n",
    "*   Logical operators\n",
    "*   Identity operators\n",
    "*   Membership operators\n",
    "*   Bitwise operators\n",
    "\n",
    "\n",
    "\n",
    "\n"
   ]
  },
  {
   "cell_type": "markdown",
   "metadata": {
    "id": "5AR3XAqPW-Za"
   },
   "source": [
    "### <a id='arithmatic_operators'></a>Arithmatic Operators\n",
    "\n",
    "Arithmetic operators are used with numeric values to perform <span style=\"color:blue\">common mathematical operations</span>\n",
    "\n",
    "\n",
    "Arithmatic Operators are +, -, *, /, %, **, //\n"
   ]
  },
  {
   "cell_type": "markdown",
   "metadata": {
    "id": "ROc7ahBXQfaD"
   },
   "source": [
    "| Operator | Name           | Example  |  |\n",
    "| -------- | -------------- | -------- |  |\n",
    "|  |\n",
    "| +        | Addition       | x + y    |  |\n",
    "| \\-       | Subtraction    | x - y    |  |\n",
    "| \\*       | Multiplication | x \\* y   |  |\n",
    "| /        | Division       | x / y    |  |\n",
    "| %        | Modulus        | x % y    |  |\n",
    "| \\*\\*     | Exponentiation | x \\*\\* y |  |\n",
    "| //       | Floor division | x // y   |"
   ]
  },
  {
   "cell_type": "code",
   "execution_count": null,
   "metadata": {
    "colab": {
     "base_uri": "https://localhost:8080/"
    },
    "executionInfo": {
     "elapsed": 409,
     "status": "ok",
     "timestamp": 1627158424379,
     "user": {
      "displayName": "Mohamed Sabry",
      "photoUrl": "https://lh3.googleusercontent.com/a-/AOh14GhbLJv6CX3dgBgLfw9OYqdgZmRW7NR-K1ZYgxL4=s64",
      "userId": "05412214076873003430"
     },
     "user_tz": -120
    },
    "id": "iaR8Zra7XA3U",
    "outputId": "bfab234c-6c93-41a5-da3d-52e1a59dd560"
   },
   "outputs": [],
   "source": [
    "print(\"Sum is \", 3+3) \n",
    "print(\"Multiplication is \", 3*3)\n",
    "print(\"Diff is \", 3-3)\n",
    "print(\"Division is \",5/3)\n",
    "print(\"Modulus or remainder is \",3%3)\n",
    "print(\"quotient is \",5//3)\n",
    "print(\"Power is \", int(4**0.5))"
   ]
  },
  {
   "cell_type": "markdown",
   "metadata": {
    "id": "nmnfROR2X5y3"
   },
   "source": [
    "### <a id='assignment_operators'></a> Assignment Operators\n",
    "\n",
    "Assignment operators are used to <span style=\"color:blue\">assign values to variables.</span>\n",
    "\n",
    "Assignment Operators are  =, +=, -=, /=, *=, %=, //=, **=, &=, |=, ^=, >>=, <<=​\n"
   ]
  },
  {
   "cell_type": "markdown",
   "metadata": {
    "id": "PA2k1MVOQhSj"
   },
   "source": [
    "| Operator | Example |   Same As  |\n",
    "|:--------:|:-------:|:----------:|\n",
    "| =        | x = 5   | x = 5      |\n",
    "| +=       | x += 3  | x = x + 3  |\n",
    "| -=       | x -= 3  | x = x - 3  |\n",
    "| *=       | x *= 3  | x = x * 3  |\n",
    "| /=       | x /= 3  | x = x / 3  |\n",
    "| %=       | x %= 3  | x = x % 3  |\n",
    "| //=      | x //= 3 | x = x // 3 |\n",
    "| **=      | x **= 3 | x = x ** 3 |\n",
    "| &=       | x &= 3  | x = x & 3  |\n",
    "| \\|=      | x \\|= 3 | x = x \\| 3 |\n",
    "| ^=       | x ^= 3  | x = x ^ 3  |\n",
    "| >>=      | x >>= 3 | x = x >> 3 |\n",
    "| <<=      | x <<= 3 | x = x << 3 |"
   ]
  },
  {
   "cell_type": "code",
   "execution_count": null,
   "metadata": {
    "colab": {
     "base_uri": "https://localhost:8080/"
    },
    "executionInfo": {
     "elapsed": 12,
     "status": "ok",
     "timestamp": 1627158425398,
     "user": {
      "displayName": "Mohamed Sabry",
      "photoUrl": "https://lh3.googleusercontent.com/a-/AOh14GhbLJv6CX3dgBgLfw9OYqdgZmRW7NR-K1ZYgxL4=s64",
      "userId": "05412214076873003430"
     },
     "user_tz": -120
    },
    "id": "SPEN8jslX9_A",
    "outputId": "f9292835-86da-44a5-d9d1-1b171c9e823e"
   },
   "outputs": [],
   "source": [
    "x = 1 \n",
    "print(\"x is \",x)\n",
    "x += 1 # x = x + 1\n",
    "print(\"x is \",x)\n",
    "x -= 1\n",
    "print(\"x is \",x)\n",
    "x /= 2\n",
    "print(\"x is \",x)\n",
    "x *= 2 # x = 0.5 * 2 -> 1.0\n",
    "print(\"x is \",x)\n"
   ]
  },
  {
   "cell_type": "code",
   "execution_count": null,
   "metadata": {
    "colab": {
     "base_uri": "https://localhost:8080/"
    },
    "executionInfo": {
     "elapsed": 5,
     "status": "ok",
     "timestamp": 1627158425697,
     "user": {
      "displayName": "Mohamed Sabry",
      "photoUrl": "https://lh3.googleusercontent.com/a-/AOh14GhbLJv6CX3dgBgLfw9OYqdgZmRW7NR-K1ZYgxL4=s64",
      "userId": "05412214076873003430"
     },
     "user_tz": -120
    },
    "id": "OZwDVKH5ZHjr",
    "outputId": "fef35af7-dd0e-48b8-9ed4-458d51b5d330"
   },
   "outputs": [],
   "source": [
    "x = 5 \n",
    "print(\"x is \", x)\n",
    "x %= 2 # x = x % 2\n",
    "print(\"x modulus 2 is \",x)\n",
    "\n",
    "\n",
    "x = 4\n",
    "x //=2\n",
    "print(\"the quotient of dividing x by 2 is \",x)\n",
    "x **= 2 \n",
    "print(\"x to the power of 2 is \",x)\n"
   ]
  },
  {
   "cell_type": "code",
   "execution_count": 19,
   "metadata": {},
   "outputs": [],
   "source": [
    "s=\"xdtfyguhijok\""
   ]
  },
  {
   "cell_type": "code",
   "execution_count": 56,
   "metadata": {},
   "outputs": [
    {
     "name": "stdout",
     "output_type": "stream",
     "text": [
      "False\n"
     ]
    }
   ],
   "source": [
    "A=1000000000000\n",
    "B=5\n",
    "\n",
    "print(A == B)"
   ]
  },
  {
   "cell_type": "code",
   "execution_count": 33,
   "metadata": {},
   "outputs": [],
   "source": [
    "A+=3"
   ]
  },
  {
   "cell_type": "code",
   "execution_count": 34,
   "metadata": {},
   "outputs": [
    {
     "name": "stdout",
     "output_type": "stream",
     "text": [
      "1003 1000\n"
     ]
    }
   ],
   "source": [
    "print(A,B)"
   ]
  },
  {
   "cell_type": "code",
   "execution_count": 35,
   "metadata": {},
   "outputs": [
    {
     "name": "stdout",
     "output_type": "stream",
     "text": [
      "False\n"
     ]
    }
   ],
   "source": [
    "print(A is B)"
   ]
  },
  {
   "cell_type": "code",
   "execution_count": null,
   "metadata": {
    "colab": {
     "base_uri": "https://localhost:8080/"
    },
    "executionInfo": {
     "elapsed": 12,
     "status": "ok",
     "timestamp": 1627158425987,
     "user": {
      "displayName": "Mohamed Sabry",
      "photoUrl": "https://lh3.googleusercontent.com/a-/AOh14GhbLJv6CX3dgBgLfw9OYqdgZmRW7NR-K1ZYgxL4=s64",
      "userId": "05412214076873003430"
     },
     "user_tz": -120
    },
    "id": "Owq1qfXdZZJP",
    "outputId": "0d78a9e5-163c-4b9b-e24c-df0c838eb745"
   },
   "outputs": [],
   "source": [
    "x = True # x= bool()\n",
    "y = False\n",
    "z = True\n",
    "\n",
    "# T and F --> F\n",
    "# T or F --> T\n",
    "\n",
    "print(\"x is \", x)\n",
    "print(\"y is \", y)\n",
    "x &= y #x= false\n",
    "print(\"x and y  is \", x)\n",
    "x |= y #x= false\n",
    "\n",
    "\n",
    "print(\"x or x is \",x)\n"
   ]
  },
  {
   "cell_type": "code",
   "execution_count": 47,
   "metadata": {},
   "outputs": [],
   "source": [
    "s=\"5\""
   ]
  },
  {
   "cell_type": "code",
   "execution_count": 50,
   "metadata": {},
   "outputs": [],
   "source": [
    "s=s*3"
   ]
  },
  {
   "cell_type": "code",
   "execution_count": 49,
   "metadata": {},
   "outputs": [
    {
     "data": {
      "text/plain": [
       "'5'"
      ]
     },
     "execution_count": 49,
     "metadata": {},
     "output_type": "execute_result"
    }
   ],
   "source": [
    "s"
   ]
  },
  {
   "cell_type": "code",
   "execution_count": 45,
   "metadata": {},
   "outputs": [],
   "source": [
    "a=[1,2,5,3,6]\n",
    "b=a"
   ]
  },
  {
   "cell_type": "code",
   "execution_count": 51,
   "metadata": {},
   "outputs": [
    {
     "ename": "AttributeError",
     "evalue": "'NoneType' object has no attribute 'append'",
     "output_type": "error",
     "traceback": [
      "\u001b[1;31m---------------------------------------------------------------------------\u001b[0m",
      "\u001b[1;31mAttributeError\u001b[0m                            Traceback (most recent call last)",
      "Cell \u001b[1;32mIn[51], line 1\u001b[0m\n\u001b[1;32m----> 1\u001b[0m \u001b[43mb\u001b[49m\u001b[38;5;241;43m.\u001b[39;49m\u001b[43mappend\u001b[49m(\u001b[38;5;241m5\u001b[39m)\n\u001b[0;32m      2\u001b[0m \u001b[38;5;28mprint\u001b[39m(a \u001b[38;5;129;01mis\u001b[39;00m b)\n",
      "\u001b[1;31mAttributeError\u001b[0m: 'NoneType' object has no attribute 'append'"
     ]
    }
   ],
   "source": [
    "b.append(5)\n",
    "print(a is b)"
   ]
  },
  {
   "cell_type": "code",
   "execution_count": 41,
   "metadata": {},
   "outputs": [
    {
     "name": "stdout",
     "output_type": "stream",
     "text": [
      "[1, 2, 5, 3, 6, 5] [3, 3]\n"
     ]
    }
   ],
   "source": [
    "b=[3,3]\n",
    "print(a,b)"
   ]
  },
  {
   "cell_type": "code",
   "execution_count": null,
   "metadata": {},
   "outputs": [],
   "source": [
    "x=True\n",
    "y=True\n",
    "\n",
    "x ^= y\n",
    "print(\"x xor y is \",x) \n"
   ]
  },
  {
   "cell_type": "code",
   "execution_count": null,
   "metadata": {
    "colab": {
     "base_uri": "https://localhost:8080/"
    },
    "executionInfo": {
     "elapsed": 278,
     "status": "ok",
     "timestamp": 1627158427487,
     "user": {
      "displayName": "Mohamed Sabry",
      "photoUrl": "https://lh3.googleusercontent.com/a-/AOh14GhbLJv6CX3dgBgLfw9OYqdgZmRW7NR-K1ZYgxL4=s64",
      "userId": "05412214076873003430"
     },
     "user_tz": -120
    },
    "id": "b4G_t8s0Z8_c",
    "outputId": "b6c21dcd-6e4a-4b13-cadc-6f43cae7559c"
   },
   "outputs": [],
   "source": [
    "x = 1 #0001 <<0010\n",
    "x <<= 1  #x = x << 1\n",
    "print(\"x shifted by 1 to the left is \", x)\n",
    "x >>= 2 # 0010 > 0001\n",
    "print(\"x shifted by 1 to the right is \", x)"
   ]
  },
  {
   "cell_type": "markdown",
   "metadata": {
    "id": "MGbepXGLar5O"
   },
   "source": [
    "### <a id='comparisioin_operators'></a>Comparison Operators\n",
    "\n",
    "Comparison operators are used to <span style=\"color:blue\">compare two values</span>\n",
    "\n",
    "Comparison Operators are ==, !=, >, <, >=, <="
   ]
  },
  {
   "cell_type": "markdown",
   "metadata": {
    "id": "8baywT4RT1rV"
   },
   "source": [
    "| Operator |           Name           | Example |\n",
    "|:--------:|:------------------------:|:-------:|\n",
    "|    ==    |           Equal          |  x == y |\n",
    "|    !=    |         Not equal        |  x != y |\n",
    "|     >    |       Greater than       |  x > y  |\n",
    "|     <    |         Less than        |  x < y  |\n",
    "|    >=    | Greater than or equal to |  x >= y |\n",
    "|    <=    |   Less than or equal to  |  x <= y |"
   ]
  },
  {
   "cell_type": "code",
   "execution_count": null,
   "metadata": {
    "colab": {
     "base_uri": "https://localhost:8080/"
    },
    "executionInfo": {
     "elapsed": 337,
     "status": "ok",
     "timestamp": 1627160373435,
     "user": {
      "displayName": "Mohamed Sabry",
      "photoUrl": "https://lh3.googleusercontent.com/a-/AOh14GhbLJv6CX3dgBgLfw9OYqdgZmRW7NR-K1ZYgxL4=s64",
      "userId": "05412214076873003430"
     },
     "user_tz": -120
    },
    "id": "G8Pe2c84W0tt",
    "outputId": "3b07d76d-e70a-4812-ac90-6e859024c29d",
    "scrolled": true
   },
   "outputs": [],
   "source": [
    "x = 2\n",
    "y = 2 \n",
    "\n",
    "print(f\"x equal to y { x == y}\")\n",
    "\n",
    "print(\"x not equal to y > \", x != y)\n",
    "\n",
    "print(\"x greater than y > \",x > y|x!y)\n",
    "\n",
    "print(\"x less than y > \", x < y)\n",
    "\n",
    "print(\"x greater than or equal y > \", x >= y) #2 >= 2 True\n",
    "\n",
    "print(\"x less than or equal y > \", x <= y)"
   ]
  },
  {
   "cell_type": "code",
   "execution_count": null,
   "metadata": {},
   "outputs": [],
   "source": [
    "x=5\n",
    "y=3"
   ]
  },
  {
   "cell_type": "code",
   "execution_count": null,
   "metadata": {},
   "outputs": [],
   "source": [
    "int(True)"
   ]
  },
  {
   "cell_type": "code",
   "execution_count": null,
   "metadata": {},
   "outputs": [],
   "source": []
  },
  {
   "cell_type": "code",
   "execution_count": null,
   "metadata": {},
   "outputs": [],
   "source": [
    "x>True!=y"
   ]
  },
  {
   "cell_type": "code",
   "execution_count": null,
   "metadata": {},
   "outputs": [],
   "source": [
    "1 | 1"
   ]
  },
  {
   "cell_type": "code",
   "execution_count": null,
   "metadata": {},
   "outputs": [],
   "source": [
    "0001 | 0001   0001"
   ]
  },
  {
   "cell_type": "code",
   "execution_count": null,
   "metadata": {},
   "outputs": [],
   "source": [
    "x > y or x != y"
   ]
  },
  {
   "cell_type": "code",
   "execution_count": null,
   "metadata": {},
   "outputs": [],
   "source": [
    "True|x!=y"
   ]
  },
  {
   "cell_type": "code",
   "execution_count": null,
   "metadata": {},
   "outputs": [],
   "source": []
  },
  {
   "cell_type": "markdown",
   "metadata": {
    "id": "r19Zg_KSYDlB"
   },
   "source": [
    "### <a id='logical_operators'></a>Logical Operators\n",
    "\n",
    "Logical operators are used to <span style=\"color:blue\">combine conditional statements</span>\n",
    "\n",
    "Logical Operators are and, or, not"
   ]
  },
  {
   "cell_type": "markdown",
   "metadata": {
    "id": "1_369baZUeGi"
   },
   "source": [
    "| Operator |                       Description                       |        Example        |   |\n",
    "|:--------:|:-------------------------------------------------------:|:---------------------:|:-:|\n",
    "| and      | Returns True if both statements are true                | x < 5 and x < 10      |   |\n",
    "| or       | Returns True if one of the statements is true           | x < 5 or x < 4        |   |\n",
    "| not      | Reverse the result, returns False if the result is true | not(x < 5 and x < 10) |   |"
   ]
  },
  {
   "cell_type": "code",
   "execution_count": null,
   "metadata": {
    "colab": {
     "base_uri": "https://localhost:8080/"
    },
    "executionInfo": {
     "elapsed": 417,
     "status": "ok",
     "timestamp": 1627157872517,
     "user": {
      "displayName": "Mohamed Sabry",
      "photoUrl": "https://lh3.googleusercontent.com/a-/AOh14GhbLJv6CX3dgBgLfw9OYqdgZmRW7NR-K1ZYgxL4=s64",
      "userId": "05412214076873003430"
     },
     "user_tz": -120
    },
    "id": "VbUMebY-W6NF",
    "outputId": "a3331e9a-754b-43b4-d574-380dbc324baf"
   },
   "outputs": [],
   "source": [
    "x = True\n",
    "y = False\n",
    "\n",
    "print(\"x and y  is \", x and y )\n",
    "print(\"x or y is \", x or y )\n",
    "print(\"Not y is \", not y )"
   ]
  },
  {
   "cell_type": "markdown",
   "metadata": {
    "id": "xVY2LQziYHjz"
   },
   "source": [
    "### <a id='identity_operators'></a>Identity Operators\n",
    "\n",
    "Identity operators are used <span style=\"color:blue\">to compare the objects</span>, not if they are equal, but if they are actually the same object, with the same memory location\n",
    "\n",
    "Identity Operators are 'is' and 'is not'"
   ]
  },
  {
   "cell_type": "markdown",
   "metadata": {
    "id": "v9wKgm_dUzzz"
   },
   "source": [
    "| Operator |                       Description                      |   Example  |\n",
    "|:--------:|:------------------------------------------------------:|:----------:|\n",
    "| is       | Returns true if both variables are the same object     | x is y     |\n",
    "| is not   | Returns true if both variables are not the same object | x is not y |"
   ]
  },
  {
   "cell_type": "code",
   "execution_count": null,
   "metadata": {
    "colab": {
     "base_uri": "https://localhost:8080/"
    },
    "executionInfo": {
     "elapsed": 280,
     "status": "ok",
     "timestamp": 1627160642385,
     "user": {
      "displayName": "Mohamed Sabry",
      "photoUrl": "https://lh3.googleusercontent.com/a-/AOh14GhbLJv6CX3dgBgLfw9OYqdgZmRW7NR-K1ZYgxL4=s64",
      "userId": "05412214076873003430"
     },
     "user_tz": -120
    },
    "id": "-AY74gvBYRZX",
    "outputId": "6ea4975f-80fe-4993-a3b1-7d8f68e78bef"
   },
   "outputs": [],
   "source": [
    "x = True\n",
    "\n",
    "print( x is True)\n",
    "print(x is not True)"
   ]
  },
  {
   "cell_type": "markdown",
   "metadata": {
    "id": "XBnLOEqgYL4t"
   },
   "source": [
    "### <a id=membership_operators></a> Membership Operators\n",
    "\n",
    "Membership operators are used to <span style=\"color:blue\">test if a sequence is presented in an object</span>\n",
    "\n",
    "Membership Operators are 'in' and 'not in'\n",
    "\n"
   ]
  },
  {
   "cell_type": "markdown",
   "metadata": {
    "id": "JHGzb7N-VSMv"
   },
   "source": [
    "| Operator |                                    Description                                   |   Example  |\n",
    "|:--------:|:--------------------------------------------------------------------------------:|:----------:|\n",
    "| in       | Returns True if a sequence with the specified value is present in the object     | x in y     |\n",
    "| not in   | Returns True if a sequence with the specified value is not present in the object | x not in y |"
   ]
  },
  {
   "cell_type": "code",
   "execution_count": null,
   "metadata": {
    "colab": {
     "base_uri": "https://localhost:8080/"
    },
    "executionInfo": {
     "elapsed": 232,
     "status": "ok",
     "timestamp": 1626474354123,
     "user": {
      "displayName": "Mohamed Sabry",
      "photoUrl": "https://lh3.googleusercontent.com/a-/AOh14GhbLJv6CX3dgBgLfw9OYqdgZmRW7NR-K1ZYgxL4=s64",
      "userId": "05412214076873003430"
     },
     "user_tz": -120
    },
    "id": "hmWp3n27YR-9",
    "outputId": "3473f61f-12d4-444c-82a1-05ab6e02aab9"
   },
   "outputs": [],
   "source": [
    "# will be visited more in lists\n",
    "\n",
    "x = [1,2,3]\n",
    "print(2 in x)\n",
    "print(2 not in x)"
   ]
  },
  {
   "cell_type": "markdown",
   "metadata": {
    "id": "G86MyenrYSaU"
   },
   "source": [
    "### <a id='bitwise_operators'></a> Bitwise Opertors\n",
    "\n",
    "Bitwise operators are used to <span style=\"color:blue\">compare (binary) numbers</span>\n",
    "\n",
    "Bitwise Opertors are &, |, ~, ^ "
   ]
  },
  {
   "cell_type": "markdown",
   "metadata": {
    "id": "P5N92vwINxnO"
   },
   "source": [
    "| Operator |         Name         |                                                Description                                               |\n",
    "|:--------:|:--------------------:|:--------------------------------------------------------------------------------------------------------:|\n",
    "|    &     |          AND         |                                   Sets each bit to 1 if both bits are 1                                  |\n",
    "|    \\|    |          OR          |                                Sets each bit to 1 if one of two bits is 1                                |\n",
    "|     ^    |          XOR         |                              Sets each bit to 1 if only one of two bits is 1                             |\n",
    "|    ~     |          NOT         |                                           Inverts all the bits                                           |\n",
    "|    <<    | Zero fill left shift |             Shift left by pushing zeros in from the right and let the leftmost bits fall  off            |\n",
    "|    >>    |  Signed right shift  | Shift right by pushing copies of the leftmost bit in from the left, and let  the rightmost bits fall off |"
   ]
  },
  {
   "cell_type": "code",
   "execution_count": null,
   "metadata": {
    "colab": {
     "base_uri": "https://localhost:8080/"
    },
    "executionInfo": {
     "elapsed": 278,
     "status": "ok",
     "timestamp": 1626474660036,
     "user": {
      "displayName": "Mohamed Sabry",
      "photoUrl": "https://lh3.googleusercontent.com/a-/AOh14GhbLJv6CX3dgBgLfw9OYqdgZmRW7NR-K1ZYgxL4=s64",
      "userId": "05412214076873003430"
     },
     "user_tz": -120
    },
    "id": "9ifvwsgBYV0T",
    "outputId": "8843d1a0-87a4-4b1f-b947-0b3a82ef00e0"
   },
   "outputs": [],
   "source": [
    " a = 10\n",
    "b = 4\n",
    "\n",
    "# Print bitwise AND operation\n",
    "print(\"a & b =\", a & b)\n",
    " \n",
    "# Print bitwise OR operation\n",
    "print(\"a | b =\", a | b)\n",
    " \n",
    "# Print bitwise NOT operation\n",
    "print(\"~a =\", ~a)\n",
    " \n",
    "# print bitwise XOR operation\n",
    "print(\"a ^ b =\", a ^ b)"
   ]
  },
  {
   "cell_type": "code",
   "execution_count": null,
   "metadata": {},
   "outputs": [],
   "source": [
    "2 & 4 #0001 & 0010 >>>>>>>0000"
   ]
  },
  {
   "cell_type": "code",
   "execution_count": null,
   "metadata": {
    "colab": {
     "base_uri": "https://localhost:8080/"
    },
    "executionInfo": {
     "elapsed": 453,
     "status": "ok",
     "timestamp": 1627488766789,
     "user": {
      "displayName": "Mohamed Sabry",
      "photoUrl": "https://lh3.googleusercontent.com/a-/AOh14GhbLJv6CX3dgBgLfw9OYqdgZmRW7NR-K1ZYgxL4=s64",
      "userId": "05412214076873003430"
     },
     "user_tz": -120
    },
    "id": "OUSn8PQQcV2S",
    "outputId": "e2e61b01-3cb5-46b1-914d-e1cb2d09e518"
   },
   "outputs": [],
   "source": [
    "a = 5\n",
    "b = 10\n",
    "print(\"a  = \", a)\n",
    "print(\"b  = \", b)\n",
    "print(\"binary of a is \",bin(a))\n",
    "print(\"binary of b is \",bin(b))\n",
    "# print bitwise left shift operator\n",
    "a_shifted = a << 1\n",
    "print(\"a << 1 =\", a_shifted)\n",
    "print(\"binary of a << 1 \", bin(a_shifted))\n",
    "b_shifted = b >> 1\n",
    "print(\"b << 1 =\", b_shifted)\n",
    "print(\"binary of b >> 1 \", bin(b_shifted))\n"
   ]
  },
  {
   "cell_type": "markdown",
   "metadata": {},
   "source": [
    "### <a id='strings'></a>Strings\n",
    "\n",
    "Strings in python are surrounded by either <span style=\"color:blue\">single</span> quotation marks, or <span style=\"color:blue\">double</span> quotation marks like 'hello' or \"hello\".\n",
    "\n",
    "Strings contains letters, special characters, spaces, digits\n",
    "\n",
    "\n"
   ]
  },
  {
   "cell_type": "markdown",
   "metadata": {},
   "source": [
    "### <a id='ds'></a> Defining a string"
   ]
  },
  {
   "cell_type": "code",
   "execution_count": null,
   "metadata": {
    "scrolled": false
   },
   "outputs": [],
   "source": [
    "s = \"Tahaluf\" # or s = 'Tahaluf'\n",
    "s"
   ]
  },
  {
   "cell_type": "code",
   "execution_count": null,
   "metadata": {},
   "outputs": [],
   "source": [
    "a = \"\"\"Lorem ipsum dolor sit amet,\n",
    "consectetur adipiscing elit,\n",
    "sed do eiusmod tempor incididunt\n",
    "ut labore et dolore magna aliqua.\"\"\"\n",
    "print(a)"
   ]
  },
  {
   "cell_type": "markdown",
   "metadata": {},
   "source": [
    "### <a id='is'></a>Indexing String\n",
    "\n",
    "Strings are Arrays\n",
    "\n",
    "Like many other popular programming languages, strings in Python are arrays of bytes representing <span style=\"color:blue\">unicode characters.</span>\n",
    "\n",
    "However, Python does not have a character data type, a single character is simply a string with a length of 1.\n",
    "\n",
    "<span style=\"color:blue\">Square brackets</span> can be used to <span style=\"color:blue\">access</span> elements of the string."
   ]
  },
  {
   "cell_type": "code",
   "execution_count": null,
   "metadata": {},
   "outputs": [],
   "source": [
    "s='Tahaluf'"
   ]
  },
  {
   "cell_type": "code",
   "execution_count": null,
   "metadata": {},
   "outputs": [],
   "source": [
    "#access or index the first char in the string\n",
    "\n",
    "s[0]"
   ]
  },
  {
   "cell_type": "code",
   "execution_count": null,
   "metadata": {},
   "outputs": [],
   "source": [
    "#access the first 4 chars in the string\n",
    "s[0:4]"
   ]
  },
  {
   "cell_type": "code",
   "execution_count": null,
   "metadata": {},
   "outputs": [],
   "source": [
    "# reverse the string\n",
    "s[::-1]"
   ]
  },
  {
   "cell_type": "code",
   "execution_count": null,
   "metadata": {},
   "outputs": [],
   "source": [
    "# access the last char only\n",
    "s[-1]"
   ]
  },
  {
   "cell_type": "code",
   "execution_count": null,
   "metadata": {},
   "outputs": [],
   "source": [
    "s"
   ]
  },
  {
   "cell_type": "code",
   "execution_count": null,
   "metadata": {},
   "outputs": [],
   "source": [
    "#access the last 2 chars in the string\n",
    "s[-2:]"
   ]
  },
  {
   "cell_type": "markdown",
   "metadata": {},
   "source": [
    "### <a id='cs'></a>Concatenating Strings"
   ]
  },
  {
   "cell_type": "code",
   "execution_count": null,
   "metadata": {},
   "outputs": [],
   "source": [
    "s\n",
    "s+\" \"+\"fghjn\"\n"
   ]
  },
  {
   "cell_type": "code",
   "execution_count": null,
   "metadata": {},
   "outputs": [],
   "source": [
    "s"
   ]
  },
  {
   "cell_type": "code",
   "execution_count": null,
   "metadata": {},
   "outputs": [],
   "source": [
    "# append a string to another string at the end\n",
    "s += \" is here\""
   ]
  },
  {
   "cell_type": "code",
   "execution_count": null,
   "metadata": {},
   "outputs": [],
   "source": [
    "s"
   ]
  },
  {
   "cell_type": "code",
   "execution_count": null,
   "metadata": {},
   "outputs": [],
   "source": [
    "s"
   ]
  },
  {
   "cell_type": "code",
   "execution_count": null,
   "metadata": {},
   "outputs": [],
   "source": [
    "# append string to another string at the begining\n",
    "s = \"hello \" + s"
   ]
  },
  {
   "cell_type": "code",
   "execution_count": null,
   "metadata": {},
   "outputs": [],
   "source": [
    "s"
   ]
  },
  {
   "cell_type": "markdown",
   "metadata": {},
   "source": [
    "### <a id='ps'></a>Playing with strings"
   ]
  },
  {
   "cell_type": "code",
   "execution_count": null,
   "metadata": {},
   "outputs": [],
   "source": [
    "s"
   ]
  },
  {
   "cell_type": "code",
   "execution_count": null,
   "metadata": {},
   "outputs": [],
   "source": [
    "#print while skipping chars\n",
    "print(s[0::2])"
   ]
  },
  {
   "cell_type": "code",
   "execution_count": null,
   "metadata": {},
   "outputs": [],
   "source": [
    "print(s[0:len(s):2])"
   ]
  },
  {
   "cell_type": "code",
   "execution_count": null,
   "metadata": {},
   "outputs": [],
   "source": [
    "s[::2]"
   ]
  },
  {
   "cell_type": "code",
   "execution_count": null,
   "metadata": {},
   "outputs": [],
   "source": [
    "s"
   ]
  },
  {
   "cell_type": "code",
   "execution_count": null,
   "metadata": {},
   "outputs": [],
   "source": [
    "# find length of string\n",
    "print(len(s))"
   ]
  },
  {
   "cell_type": "code",
   "execution_count": null,
   "metadata": {},
   "outputs": [],
   "source": [
    "s*3"
   ]
  },
  {
   "cell_type": "code",
   "execution_count": null,
   "metadata": {},
   "outputs": [],
   "source": [
    "s= s+ \" \""
   ]
  },
  {
   "cell_type": "code",
   "execution_count": null,
   "metadata": {},
   "outputs": [],
   "source": [
    "# repeat strings\n",
    "print(s * 3)"
   ]
  },
  {
   "cell_type": "code",
   "execution_count": null,
   "metadata": {},
   "outputs": [],
   "source": [
    "# print new lines\n",
    "s = 'Tahaluf'\n",
    "print(s + '\\n')\n",
    "print(s)\n",
    "\n",
    "# print horizontal tab \n",
    "print(s + '\\t' + s)\n",
    "\n",
    "# print backslash\n",
    "print(s + '\\\\')\n"
   ]
  },
  {
   "cell_type": "markdown",
   "metadata": {},
   "source": [
    "### <a id='sc'></a> String conversions"
   ]
  },
  {
   "cell_type": "code",
   "execution_count": null,
   "metadata": {},
   "outputs": [],
   "source": [
    "print(\"42\" + 1)"
   ]
  },
  {
   "cell_type": "code",
   "execution_count": null,
   "metadata": {},
   "outputs": [],
   "source": [
    "#casting string to int\n",
    "print(int(\"42\") + 1)"
   ]
  },
  {
   "cell_type": "code",
   "execution_count": null,
   "metadata": {},
   "outputs": [],
   "source": [
    "#cast int to string\n",
    "s = \"Hello\"\n",
    "x = 1 \n",
    "print(s + str(x)) "
   ]
  },
  {
   "cell_type": "markdown",
   "metadata": {},
   "source": [
    "### <a id='sm'></a> String methods"
   ]
  },
  {
   "cell_type": "code",
   "execution_count": null,
   "metadata": {},
   "outputs": [],
   "source": [
    "#using splitlines() method to split lines of a string\n",
    "s = \"Hi there, this is the first line\\n This is the second line\"\n",
    "s.splitlines()"
   ]
  },
  {
   "cell_type": "code",
   "execution_count": 61,
   "metadata": {},
   "outputs": [],
   "source": [
    "# use split() method to split a string by some character\n",
    "s = \"Hi there, this is the\\nfirst line\"\n",
    "s=s.split()"
   ]
  },
  {
   "cell_type": "code",
   "execution_count": 62,
   "metadata": {},
   "outputs": [
    {
     "data": {
      "text/plain": [
       "['Hi', 'there,', 'this', 'is', 'the', 'first', 'line']"
      ]
     },
     "execution_count": 62,
     "metadata": {},
     "output_type": "execute_result"
    }
   ],
   "source": [
    "s"
   ]
  },
  {
   "cell_type": "code",
   "execution_count": null,
   "metadata": {},
   "outputs": [],
   "source": [
    "# use title method to make some string a title\n",
    "s = \"Hi there\"\n",
    "s.title()"
   ]
  },
  {
   "cell_type": "code",
   "execution_count": null,
   "metadata": {},
   "outputs": [],
   "source": [
    "# use lower() method to make a string of lower case characters\n",
    "s = \"Hi There\"\n",
    "s.lower()"
   ]
  },
  {
   "cell_type": "code",
   "execution_count": null,
   "metadata": {},
   "outputs": [],
   "source": [
    "# use upper() method to make a string of upper case characters\n",
    "s = \"Hi There\"\n",
    "s.upper()"
   ]
  },
  {
   "cell_type": "markdown",
   "metadata": {},
   "source": [
    "| Method                                                                         | Description                                                                                   |\n",
    "| ------------------------------------------------------------------------------ | --------------------------------------------------------------------------------------------- |\n",
    "|  |\n",
    "| [capitalize()](https://www.w3schools.com/python/ref_string_capitalize.asp)     | Converts the first character to upper case                                                    |\n",
    "| [casefold()](https://www.w3schools.com/python/ref_string_casefold.asp)         | Converts string into lower case                                                               |\n",
    "| [center()](https://www.w3schools.com/python/ref_string_center.asp)             | Returns a centered string                                                                     |\n",
    "| [count()](https://www.w3schools.com/python/ref_string_count.asp)               | Returns the number of times a specified value occurs in a string                              |\n",
    "| [encode()](https://www.w3schools.com/python/ref_string_encode.asp)             | Returns an encoded version of the string                                                      |\n",
    "| [endswith()](https://www.w3schools.com/python/ref_string_endswith.asp)         | Returns true if the string ends with the specified value                                      |\n",
    "| [expandtabs()](https://www.w3schools.com/python/ref_string_expandtabs.asp)     | Sets the tab size of the string                                                               |\n",
    "| [find()](https://www.w3schools.com/python/ref_string_find.asp)                 | Searches the string for a specified value and returns the position of where it was found      |\n",
    "| [format()](https://www.w3schools.com/python/ref_string_format.asp)             | Formats specified values in a string                                                          |\n",
    "| format\\_map()                                                                  | Formats specified values in a string                                                          |\n",
    "| [index()](https://www.w3schools.com/python/ref_string_index.asp)               | Searches the string for a specified value and returns the position of where it was found      |\n",
    "| [isalnum()](https://www.w3schools.com/python/ref_string_isalnum.asp)           | Returns True if all characters in the string are alphanumeric                                 |\n",
    "| [isalpha()](https://www.w3schools.com/python/ref_string_isalpha.asp)           | Returns True if all characters in the string are in the alphabet                              |\n",
    "| [isascii()](https://www.w3schools.com/python/ref_string_isascii.asp)           | Returns True if all characters in the string are ascii characters                             |\n",
    "| [isdecimal()](https://www.w3schools.com/python/ref_string_isdecimal.asp)       | Returns True if all characters in the string are decimals                                     |\n",
    "| [isdigit()](https://www.w3schools.com/python/ref_string_isdigit.asp)           | Returns True if all characters in the string are digits                                       |\n",
    "| [isidentifier()](https://www.w3schools.com/python/ref_string_isidentifier.asp) | Returns True if the string is an identifier                                                   |\n",
    "| [islower()](https://www.w3schools.com/python/ref_string_islower.asp)           | Returns True if all characters in the string are lower case                                   |\n",
    "| [isnumeric()](https://www.w3schools.com/python/ref_string_isnumeric.asp)       | Returns True if all characters in the string are numeric                                      |\n",
    "| [isprintable()](https://www.w3schools.com/python/ref_string_isprintable.asp)   | Returns True if all characters in the string are printable                                    |\n",
    "| [isspace()](https://www.w3schools.com/python/ref_string_isspace.asp)           | Returns True if all characters in the string are whitespaces                                  |\n",
    "| [istitle()](https://www.w3schools.com/python/ref_string_istitle.asp)           | Returns True if the string follows the rules of a title                                       |\n",
    "| [isupper()](https://www.w3schools.com/python/ref_string_isupper.asp)           | Returns True if all characters in the string are upper case                                   |\n",
    "| [join()](https://www.w3schools.com/python/ref_string_join.asp)                 | Joins the elements of an iterable to the end of the string                                    |\n",
    "| [ljust()](https://www.w3schools.com/python/ref_string_ljust.asp)               | Returns a left justified version of the string                                                |\n",
    "| [lower()](https://www.w3schools.com/python/ref_string_lower.asp)               | Converts a string into lower case                                                             |\n",
    "| [lstrip()](https://www.w3schools.com/python/ref_string_lstrip.asp)             | Returns a left trim version of the string                                                     |\n",
    "| [maketrans()](https://www.w3schools.com/python/ref_string_maketrans.asp)       | Returns a translation table to be used in translations                                        |\n",
    "| [partition()](https://www.w3schools.com/python/ref_string_partition.asp)       | Returns a tuple where the string is parted into three parts                                   |\n",
    "| [replace()](https://www.w3schools.com/python/ref_string_replace.asp)           | Returns a string where a specified value is replaced with a specified value                   |\n",
    "| [rfind()](https://www.w3schools.com/python/ref_string_rfind.asp)               | Searches the string for a specified value and returns the last position of where it was found |\n",
    "| [rindex()](https://www.w3schools.com/python/ref_string_rindex.asp)             | Searches the string for a specified value and returns the last position of where it was found |\n",
    "| [rjust()](https://www.w3schools.com/python/ref_string_rjust.asp)               | Returns a right justified version of the string                                               |\n",
    "| [rpartition()](https://www.w3schools.com/python/ref_string_rpartition.asp)     | Returns a tuple where the string is parted into three parts                                   |\n",
    "| [rsplit()](https://www.w3schools.com/python/ref_string_rsplit.asp)             | Splits the string at the specified separator, and returns a list                              |\n",
    "| [rstrip()](https://www.w3schools.com/python/ref_string_rstrip.asp)             | Returns a right trim version of the string                                                    |\n",
    "| [split()](https://www.w3schools.com/python/ref_string_split.asp)               | Splits the string at the specified separator, and returns a list                              |\n",
    "| [splitlines()](https://www.w3schools.com/python/ref_string_splitlines.asp)     | Splits the string at line breaks and returns a list                                           |\n",
    "| [startswith()](https://www.w3schools.com/python/ref_string_startswith.asp)     | Returns true if the string starts with the specified value                                    |\n",
    "| [strip()](https://www.w3schools.com/python/ref_string_strip.asp)               | Returns a trimmed version of the string                                                       |\n",
    "| [swapcase()](https://www.w3schools.com/python/ref_string_swapcase.asp)         | Swaps cases, lower case becomes upper case and vice versa                                     |\n",
    "| [title()](https://www.w3schools.com/python/ref_string_title.asp)               | Converts the first character of each word to upper case                                       |\n",
    "| [translate()](https://www.w3schools.com/python/ref_string_translate.asp)       | Returns a translated string                                                                   |\n",
    "| [upper()](https://www.w3schools.com/python/ref_string_upper.asp)               | Converts a string into upper case                                                             |\n",
    "| [zfill()](https://www.w3schools.com/python/ref_string_zfill.asp)               | Fills the string with a specified number of 0 values at the beginning                         |"
   ]
  },
  {
   "cell_type": "code",
   "execution_count": null,
   "metadata": {},
   "outputs": [],
   "source": [
    "'The knights who say %d! '%exclamation"
   ]
  },
  {
   "cell_type": "markdown",
   "metadata": {},
   "source": [
    "### <a id='sf'></a> String formating"
   ]
  },
  {
   "cell_type": "code",
   "execution_count": null,
   "metadata": {},
   "outputs": [],
   "source": [
    "#string formating\n",
    "exclamation = \"zsxdcfgbhj\"\n",
    "\n",
    "'The knights who say %s! ' % exclamation\n"
   ]
  },
  {
   "cell_type": "code",
   "execution_count": null,
   "metadata": {},
   "outputs": [],
   "source": [
    "#type specific string formating\n",
    "'The knights who say Ni!'\n",
    "' %d %s %g you ' % (25.6, 'spam', 4)\n"
   ]
  },
  {
   "cell_type": "code",
   "execution_count": null,
   "metadata": {},
   "outputs": [],
   "source": [
    "#all types string formating\n",
    "'1 spam 4 you'\n",
    "' %s -- %s -- %s ' % (42, 3.14159, [1, 2, 3])"
   ]
  },
  {
   "cell_type": "code",
   "execution_count": null,
   "metadata": {},
   "outputs": [],
   "source": [
    "f\" {42} -- {3.14159} -- {[1,2,3]} \""
   ]
  },
  {
   "cell_type": "markdown",
   "metadata": {
    "id": "fDS_UHpN39y6"
   },
   "source": [
    "# Good Luck"
   ]
  }
 ],
 "metadata": {
  "colab": {
   "collapsed_sections": [],
   "name": "Introduction.ipynb",
   "provenance": []
  },
  "kernelspec": {
   "display_name": "Python 3 (ipykernel)",
   "language": "python",
   "name": "python3"
  },
  "language_info": {
   "codemirror_mode": {
    "name": "ipython",
    "version": 3
   },
   "file_extension": ".py",
   "mimetype": "text/x-python",
   "name": "python",
   "nbconvert_exporter": "python",
   "pygments_lexer": "ipython3",
   "version": "3.10.9"
  }
 },
 "nbformat": 4,
 "nbformat_minor": 1
}
