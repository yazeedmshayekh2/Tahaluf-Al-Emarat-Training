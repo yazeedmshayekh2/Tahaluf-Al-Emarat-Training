{
 "cells": [
  {
   "cell_type": "markdown",
   "metadata": {
    "id": "5l9MxuTyyHD8"
   },
   "source": [
    "# Functions Agenda:\n",
    "* [Functions](#functions)\n",
    "  * [Arguments](#Arguments)\n",
    "  * [Keyword Arguments](#keyword_arguments)\n",
    "  * [Type Definition and Type hints](#type_definition_and_type_hints)\n",
    "  * [Positional-or-Keyword Arguments](#positional_or_keyword_arguments)\n",
    "  * [Special Parameters](#special_parameters)\n",
    "  * [Default Values](#default_values)\n",
    "  * [Arguments Data Types](#arguments_data_types)\n",
    "  * [Exercise 1](#ex1)\n",
    "  * [Arbitrary Argument Lists](#arbitary_argument_lists)\n",
    "  * [Exercise 2](#ex2)\n",
    "  * [Lambda Expressions](#lambda_expressions)\n",
    "  * [Documentation Strings](#documentation_strings)\n",
    "  * [Variables scope and Global arguments](#variables_scope_and_global_arguments)\n",
    "  * [Global Keyword](#global_keyword)\n",
    "  * [Recursion](#recursion)\n",
    "  * [Exercise 3](#ex3)\n",
    "\n"
   ]
  },
  {
   "cell_type": "markdown",
   "metadata": {
    "id": "5fCEDCU_qrC0"
   },
   "source": [
    "# <a id='functions'></a> **Functions**\n",
    "\n",
    "A function is a block of code that do a specific task. This leads to \n",
    "- <span style=\"color:blue\">Code reuse</span>\n",
    "- <span style=\"color:blue\">Modularity</span>\n",
    "- <span style=\"color:blue\">Easy debugging</span>"
   ]
  },
  {
   "cell_type": "code",
   "execution_count": 1,
   "metadata": {
    "colab": {
     "base_uri": "https://localhost:8080/"
    },
    "id": "gJr_9dXGpJ05",
    "outputId": "2837a532-2aee-4d68-aadd-a9d5d85420f5"
   },
   "outputs": [
    {
     "name": "stdout",
     "output_type": "stream",
     "text": [
      "Hello World\n"
     ]
    }
   ],
   "source": [
    "print(\"Hello World\")"
   ]
  },
  {
   "cell_type": "code",
   "execution_count": 2,
   "metadata": {
    "colab": {
     "base_uri": "https://localhost:8080/"
    },
    "id": "MLWyvCHxkguR",
    "outputId": "a5cb0b76-25f9-4403-d0ee-edb56a600ef5"
   },
   "outputs": [
    {
     "name": "stdout",
     "output_type": "stream",
     "text": [
      "Hello World\n"
     ]
    }
   ],
   "source": [
    "def greetings():\n",
    "  print(\"Hello World\")\n",
    "\n",
    "greetings()"
   ]
  },
  {
   "cell_type": "markdown",
   "metadata": {
    "id": "YeXENBXsrPOF"
   },
   "source": [
    "## <a id='arguments'></a> **Arguments**\n",
    "Arguments are variables given to the function. These variable can be the data that the function will operate on, or flags/switches that change the behaviour of the function.\n",
    "\n",
    "A function can have <span style=\"color:blue\">any number of arguments</span>"
   ]
  },
  {
   "cell_type": "code",
   "execution_count": 3,
   "metadata": {
    "colab": {
     "base_uri": "https://localhost:8080/"
    },
    "id": "OSrRs6MJko9j",
    "outputId": "d049ba72-0cfd-4697-9d97-38186ea7e6d3"
   },
   "outputs": [
    {
     "name": "stdout",
     "output_type": "stream",
     "text": [
      "Hello Tahaluf\n"
     ]
    }
   ],
   "source": [
    "def greetings(name):\n",
    "  print(\"Hello \"+ name)\n",
    "\n",
    "greetings(\"Tahaluf\")"
   ]
  },
  {
   "cell_type": "markdown",
   "metadata": {
    "id": "oV1I3KBjW68Q"
   },
   "source": [
    "In the below function the argument **name** is the data. The argument **time** is a switch that changes the behaviour of the function."
   ]
  },
  {
   "cell_type": "code",
   "execution_count": null,
   "metadata": {
    "colab": {
     "base_uri": "https://localhost:8080/"
    },
    "id": "ewN9Mtvbk5WY",
    "outputId": "5cac3e7b-9400-49dd-cf8a-9242cdbe7aa7"
   },
   "outputs": [],
   "source": [
    "def greetings(name, time):\n",
    "    \n",
    "    if time == \"day\":\n",
    "        print(\"Good morning \" + name)\n",
    "    elif time == \"night\":\n",
    "        print(\"Good night \" + name)\n",
    "    else:\n",
    "        print(\"Hello \" + name)\n",
    "\n",
    "greetings(\"day\",\"Ahmed\")\n",
    "greetings(\"Youmna\", \"night\")\n",
    "greetings(\"XDO\", \"evening\")"
   ]
  },
  {
   "cell_type": "markdown",
   "metadata": {
    "id": "HM5ZJMWopkn4"
   },
   "source": [
    "### <a id='type_definition_and_type_hints'></a> Type Definition and Type hints\n"
   ]
  },
  {
   "cell_type": "code",
   "execution_count": 1,
   "metadata": {
    "colab": {
     "base_uri": "https://localhost:8080/"
    },
    "id": "ECgh8JM4pn2b",
    "outputId": "e967f52a-ea8e-4c5d-9c92-ce644d71fec6"
   },
   "outputs": [
    {
     "name": "stdout",
     "output_type": "stream",
     "text": [
      "1 <class 'int'>\n"
     ]
    },
    {
     "data": {
      "text/plain": [
       "'Hello '"
      ]
     },
     "execution_count": 1,
     "metadata": {},
     "output_type": "execute_result"
    }
   ],
   "source": [
    "def greeting(name: str):\n",
    "    print(name,type(name))\n",
    "    return 'Hello ' \n",
    "\n",
    "greeting(1)"
   ]
  },
  {
   "cell_type": "code",
   "execution_count": null,
   "metadata": {},
   "outputs": [],
   "source": [
    "l=[1,3]\n",
    "l.pop()\n",
    "greeting()"
   ]
  },
  {
   "cell_type": "markdown",
   "metadata": {
    "id": "jSd-9QD9yn9A"
   },
   "source": [
    "### <a id='positional_or_keyword_arguments'></a> **Positional and Keyword arguments**\n",
    "You can give the function arguments <span style=\"color:blue\">by the order (position) they are defined.</span> For example\n",
    "\n",
    "```\n",
    "def foo(x,y,z):\n",
    "  ...\n",
    "foo(3,4,5)\n",
    "```\n",
    "\n",
    "In this example x=3, y=4, z=5. This is called **Positional arguments**\n",
    "\n",
    "\n",
    "Another way is to pass the arguments using their name in the form argument_name=value.\n",
    "```\n",
    "foo(z=5, x=3, y=4)\n",
    "```\n",
    "This is called **Keyword arguments**. As you can see we don't have to pass the arguments in the order their are listed in the function definition\n",
    "\n"
   ]
  },
  {
   "cell_type": "markdown",
   "metadata": {
    "id": "zlmhxzfY0_i1"
   },
   "source": [
    "### <a id='special_parameters'></a>**Special parameters**\n",
    "You can limit the way an argument get passed, that is choose that it should be passed as positional or keyword or both.\n",
    "\n",
    "This is done using the special paramters * and /\n",
    "\n",
    "```\n",
    "def f(pos1, pos2, /, pos_or_kwd, *, kwd1, kwd2):\n",
    "      -----------    ----------     ----------\n",
    "        |             |                  |\n",
    "        |        Positional or keyword   |\n",
    "        |                                - Keyword only\n",
    "         -- Positional only\n",
    "```"
   ]
  },
  {
   "cell_type": "code",
   "execution_count": 2,
   "metadata": {
    "colab": {
     "base_uri": "https://localhost:8080/",
     "height": 129
    },
    "id": "Ux3qYhkU1e99",
    "outputId": "ac4345cf-0137-4781-f68a-8ceddfae353e"
   },
   "outputs": [
    {
     "name": "stdout",
     "output_type": "stream",
     "text": [
      "1 2\n"
     ]
    }
   ],
   "source": [
    "def f(*p,**s):\n",
    "      print(p[0],p[1])\n",
    "\n",
    "# Try fixing this\n",
    "kwd2=65\n",
    "f(1,2,3, p=7)"
   ]
  },
  {
   "cell_type": "markdown",
   "metadata": {
    "id": "UWdjRLbArXcG"
   },
   "source": [
    "### <a id='default_values'></a>**Default values**\n",
    "Can arguments have a default value?\n",
    "Yes, in Python arguments can have a default value that is used in case the user didn't pass a value for that argument.\n",
    "\n",
    "The below code will produce an ERROR because the user didnt pass a value for the argument **time** and the argument doesn't have a default value."
   ]
  },
  {
   "cell_type": "code",
   "execution_count": null,
   "metadata": {
    "id": "-6VFpI_Clmlg"
   },
   "outputs": [],
   "source": [
    "def greetings(name, time):\n",
    "    if time == \"day\":\n",
    "        print(\"Good morning \" + name)\n",
    "    elif time == \"night\":\n",
    "        print(\"Good night \" + name)\n",
    "    else:\n",
    "        print(\"Hello \" + name)\n",
    "\n",
    "greetings(\"XDO\",\"day\")"
   ]
  },
  {
   "cell_type": "markdown",
   "metadata": {
    "id": "jP6ZzJ6XYRch"
   },
   "source": [
    "We fix this ERROR by assigning a default value for the  argument **time**"
   ]
  },
  {
   "cell_type": "code",
   "execution_count": null,
   "metadata": {
    "id": "xq9WIvuwluth"
   },
   "outputs": [],
   "source": [
    "def greetings(name, time=\"day\"):\n",
    "  if time == \"day\":\n",
    "    print(\"Good morning \" + name)\n",
    "  elif time == \"night\":\n",
    "    print(\"Good night \" + name)\n",
    "  else:\n",
    "    print(\"Hello \" + name)\n",
    "\n",
    "greetings(\"XDO\")"
   ]
  },
  {
   "cell_type": "markdown",
   "metadata": {
    "id": "6Sl3IuyDrlxJ"
   },
   "source": [
    "When defining a function you should use put the arguments with no default arguments before arguments with default values.\n",
    "\n",
    "Try executing the below code and look at the ERROR. Try to fix that ERROR "
   ]
  },
  {
   "cell_type": "code",
   "execution_count": null,
   "metadata": {
    "id": "5uCV5fqrl_pR"
   },
   "outputs": [],
   "source": [
    "def greetings(name, time=\"day\"):\n",
    "  if time == \"day\":\n",
    "    print(\"Good morning \" + name)\n",
    "  elif time == \"night\":\n",
    "    print(\"Good night \" + name)\n",
    "  else:\n",
    "    print(\"Hello \" + name)\n",
    "\n",
    "greetings(name=\"XDO\", time=\"night\")\n",
    "greetings(time=\"night\", name=\"XDO\")"
   ]
  },
  {
   "cell_type": "markdown",
   "metadata": {
    "id": "ZLwchnSPsAhK"
   },
   "source": [
    "### <a id='arguments_data_types'></a>**Arguments data types**\n",
    "Arguments can be of any type string, number, lists, sets, dictionary or even classes."
   ]
  },
  {
   "cell_type": "code",
   "execution_count": null,
   "metadata": {
    "id": "keEt0NIxmWCO"
   },
   "outputs": [],
   "source": [
    "def greetings(name, time=\"day\"):\n",
    "  # Loop through the given list [name] and process them one by one\n",
    "  for single_name in name:\n",
    "    if time == \"day\":\n",
    "      print(\"Good morning \" + single_name)\n",
    "    elif time == \"night\":\n",
    "      print(\"Good night \" + single_name)\n",
    "    else:\n",
    "      print(\"Hello \" + single_name)\n",
    "\n",
    "greetings([\"Tahaluf\",\"Hassan\",\"Hala\"], time=\"night\")"
   ]
  },
  {
   "cell_type": "code",
   "execution_count": null,
   "metadata": {
    "id": "QM8wRw4hZlHA"
   },
   "outputs": [],
   "source": [
    "def greetings(name_time_dict):\n",
    "  # Loop through the given dict and process them one by one\n",
    "  for single_name, time in name_time_dict.items():\n",
    "    if time == \"day\":\n",
    "      print(\"Good morning \" + single_name)\n",
    "    elif time == \"night\":\n",
    "      print(\"Good night \" + single_name)\n",
    "    else:\n",
    "      print(\"Hello \" + single_name)\n",
    "\n",
    "greetings({\n",
    "           \"Tahaluf\": \"night\",\n",
    "           \"Hassan\": \"day\",\n",
    "           \"Hala\": None \n",
    "           })"
   ]
  },
  {
   "cell_type": "code",
   "execution_count": null,
   "metadata": {
    "id": "_jgvjDpom_pG"
   },
   "outputs": [],
   "source": [
    "def greetings(name, time=\"day\"):\n",
    "  #if type(name) == str:\n",
    "  #  name = [name]\n",
    "\n",
    "    for single_name in name:\n",
    "        if time == \"day\":\n",
    "            print(\"Good morning \" + single_name)\n",
    "        elif time == \"night\":\n",
    "            print(\"Good night \" + single_name)\n",
    "        else:\n",
    "            print(\"Hello \" + single_name)\n",
    "\n",
    "greetings(\"XDO\", time=\"night\")"
   ]
  },
  {
   "cell_type": "markdown",
   "metadata": {
    "id": "GdGx6_00ejkw"
   },
   "source": [
    "### <a id = 'ex1'></a>**Exercise 1**\n",
    "\n",
    "\n",
    "Define a fucniton that takes 3 arguments **a**, **b**, and **op** with default value of **'+'**.    \n",
    "* the function should apply the operation **(op)** on the 2 numbers **a** and **b**, and then return the result.\n",
    "* **op** can be either (**+**), (**-**), (**\\***),or (**/**) .\n",
    "* you then should call the functions 3 times:\n",
    "  * give it **a**, and **b** as positional argumetns and use default value of **op**.\n",
    "  * give it **a**, **b**, and **op** as positional arguments.\n",
    "  * give it **a** and **b** as positional argumetns but **op** as keyword argument.   \n"
   ]
  },
  {
   "cell_type": "code",
   "execution_count": 1,
   "metadata": {
    "id": "qr6QpHJug0tP"
   },
   "outputs": [
    {
     "ename": "TypeError",
     "evalue": "unsupported operand type(s) for +: 'int' and 'tuple'",
     "output_type": "error",
     "traceback": [
      "\u001b[1;31m---------------------------------------------------------------------------\u001b[0m",
      "\u001b[1;31mTypeError\u001b[0m                                 Traceback (most recent call last)",
      "Cell \u001b[1;32mIn[1], line 13\u001b[0m\n\u001b[0;32m     10\u001b[0m         \u001b[38;5;28;01mreturn\u001b[39;00m a\u001b[38;5;241m/\u001b[39mb\n\u001b[0;32m     12\u001b[0m \u001b[38;5;66;03m# first call\u001b[39;00m\n\u001b[1;32m---> 13\u001b[0m \u001b[38;5;28mprint\u001b[39m(\u001b[43mcalculate\u001b[49m\u001b[43m(\u001b[49m\u001b[38;5;241;43m1\u001b[39;49m\u001b[43m)\u001b[49m)\n\u001b[0;32m     14\u001b[0m \u001b[38;5;66;03m# second call\u001b[39;00m\n\u001b[0;32m     15\u001b[0m \u001b[38;5;28mprint\u001b[39m(calculate(\u001b[38;5;241m1\u001b[39m,\u001b[38;5;241m2\u001b[39m,\u001b[38;5;124m'\u001b[39m\u001b[38;5;124m*\u001b[39m\u001b[38;5;124m'\u001b[39m))\n",
      "Cell \u001b[1;32mIn[1], line 4\u001b[0m, in \u001b[0;36mcalculate\u001b[1;34m(a, op, *b)\u001b[0m\n\u001b[0;32m      2\u001b[0m \u001b[38;5;28;01mdef\u001b[39;00m \u001b[38;5;21mcalculate\u001b[39m(a,\u001b[38;5;241m*\u001b[39mb,op\u001b[38;5;241m=\u001b[39m\u001b[38;5;124m'\u001b[39m\u001b[38;5;124m+\u001b[39m\u001b[38;5;124m'\u001b[39m):\n\u001b[0;32m      3\u001b[0m     \u001b[38;5;28;01mif\u001b[39;00m op \u001b[38;5;241m==\u001b[39m\u001b[38;5;124m'\u001b[39m\u001b[38;5;124m+\u001b[39m\u001b[38;5;124m'\u001b[39m:\n\u001b[1;32m----> 4\u001b[0m         \u001b[38;5;28;01mreturn\u001b[39;00m \u001b[43ma\u001b[49m\u001b[38;5;241;43m+\u001b[39;49m\u001b[43mb\u001b[49m\n\u001b[0;32m      5\u001b[0m     \u001b[38;5;28;01melif\u001b[39;00m op \u001b[38;5;241m==\u001b[39m\u001b[38;5;124m'\u001b[39m\u001b[38;5;124m-\u001b[39m\u001b[38;5;124m'\u001b[39m:        \n\u001b[0;32m      6\u001b[0m         \u001b[38;5;28;01mreturn\u001b[39;00m a\u001b[38;5;241m-\u001b[39mb\n",
      "\u001b[1;31mTypeError\u001b[0m: unsupported operand type(s) for +: 'int' and 'tuple'"
     ]
    }
   ],
   "source": [
    "# define the function\n",
    "def calculate(a,*b,op='+'):\n",
    "    if op =='+':\n",
    "        return a+b\n",
    "    elif op =='-':        \n",
    "        return a-b\n",
    "    elif op =='*':        \n",
    "        return a*b\n",
    "    elif op =='/':       \n",
    "        return a/b\n",
    "\n",
    "# first call\n",
    "print(calculate(1))\n",
    "# second call\n",
    "print(calculate(1,2,'*'))\n",
    "# thrid call\n",
    "print(calculate(1,2,op= '/'))"
   ]
  },
  {
   "cell_type": "markdown",
   "metadata": {
    "id": "fjf3G_QdsNk0"
   },
   "source": [
    "### <a id = 'arbitary_argument_lists'></a>**Args and Kwargs (keyword arguments)**\n",
    "Functions can have <span style=\"color:blue\">variable</span> number of arguments\n",
    "\n",
    "This is achieved using \\*args and \\**kwargs.\n",
    "\n",
    "**args** are passed as a tuple, while **kwargs** are passed as a dict"
   ]
  },
  {
   "cell_type": "code",
   "execution_count": 2,
   "metadata": {
    "id": "yx0G4TDno89u"
   },
   "outputs": [
    {
     "name": "stdout",
     "output_type": "stream",
     "text": [
      "Passed args are:\n",
      "\n",
      "<class 'tuple'>\n",
      "-Ahmed\n",
      "\n",
      "-Hala\n",
      "\n",
      "-XDO\n",
      "\n",
      "0 is Ahmed\n",
      "1 is Hala\n",
      "2 is XDO\n"
     ]
    }
   ],
   "source": [
    "def print_args(*args):\n",
    "    \n",
    "    print(\"Passed args are:\\n\")\n",
    "    print(type(args))\n",
    "    for arg in args:\n",
    "        print(\"-\" + arg + \"\\n\")\n",
    "    \n",
    "    for i in range(len(args)):\n",
    "        print(i,\"is \" + args[i])\n",
    "\n",
    "print_args('Ahmed','Hala','XDO')"
   ]
  },
  {
   "cell_type": "code",
   "execution_count": 3,
   "metadata": {
    "id": "ZLJkOTeLpkgI"
   },
   "outputs": [
    {
     "name": "stdout",
     "output_type": "stream",
     "text": [
      "('first', 'Ahmed')\n",
      "('second', 'Hala')\n",
      "('third', 'XDO')\n"
     ]
    }
   ],
   "source": [
    "def print_args(**k):\n",
    "\n",
    "    for value in k.items():\n",
    "        print(value)\n",
    "\n",
    "  #print(\"First arg is \", kwargs['first'])\n",
    "\n",
    "print_args(first='Ahmed',second='Hala',third='XDO')"
   ]
  },
  {
   "cell_type": "markdown",
   "metadata": {
    "id": "_BRDc8pAsVL3"
   },
   "source": [
    "A function can have both (*args or * *kwargs ) and normal positional or keyword arguments\n",
    "\n",
    "Normally, these  *args will be last in the list of function arguments, because they scoop up all remaining input arguments that are passed to the function till it reaches a keyword argument."
   ]
  },
  {
   "cell_type": "code",
   "execution_count": 14,
   "metadata": {
    "id": "soxDtl8yseYB"
   },
   "outputs": [
    {
     "name": "stdout",
     "output_type": "stream",
     "text": [
      "args in *args are:\n",
      "-args\n",
      "\n",
      "Argument -name- :  Ahmed\n",
      "Last argument :  Menna\n"
     ]
    }
   ],
   "source": [
    "def print_args(name,last_argument, **args):\n",
    "  \n",
    "  print(\"args in *args are:\")\n",
    "  for arg in args:\n",
    "    print(\"-\" + arg)\n",
    "\n",
    "  print(\"\\nArgument -name- : \", name)\n",
    "  print(\"Last argument : \", last_argument)\n",
    "  \n",
    "\n",
    "print_args(name='Ahmed',args='Hala', last_argument=\"Menna\")"
   ]
  },
  {
   "cell_type": "markdown",
   "metadata": {
    "id": "PjT-ouvUheJt"
   },
   "source": [
    "### <a id = 'ex2'></a>**Exercise 2**\n",
    "\n",
    "Python max function.\n",
    "\n",
    "define a function that takes an arbitrary number of arguments and then return the max number in them.\n",
    "\n",
    "**NOTE**: don't use python **max** function.\n"
   ]
  },
  {
   "cell_type": "code",
   "execution_count": null,
   "metadata": {},
   "outputs": [],
   "source": [
    "#write your code here\n",
    "def max(*x):\n",
    "    current_max = x[0]  # Note we're assuming at least one argument was passed in. What if nothing was passed in?\n",
    "    for i in x:\n",
    "        if i > current_max:\n",
    "            current_max = i\n",
    "    return current_max\n",
    "max(1,22,3)"
   ]
  },
  {
   "cell_type": "code",
   "execution_count": null,
   "metadata": {},
   "outputs": [],
   "source": [
    "l=[1,2,3]\n",
    "popedvalue=l.pop(0)\n",
    "print(popedvalue)"
   ]
  },
  {
   "cell_type": "code",
   "execution_count": null,
   "metadata": {},
   "outputs": [],
   "source": [
    "insertedvalue=l.insert(2,5)"
   ]
  },
  {
   "cell_type": "code",
   "execution_count": null,
   "metadata": {},
   "outputs": [],
   "source": []
  },
  {
   "cell_type": "code",
   "execution_count": null,
   "metadata": {},
   "outputs": [],
   "source": [
    "print(insertedvalue)"
   ]
  },
  {
   "cell_type": "markdown",
   "metadata": {
    "id": "zFVd_R5KskuN"
   },
   "source": [
    "## <a id=lamda></a>**Lambda**\n",
    "Lambda are small functions with no name. They are usually used with things like map and filter (will be discussed in future sessions)."
   ]
  },
  {
   "cell_type": "code",
   "execution_count": 15,
   "metadata": {},
   "outputs": [],
   "source": [
    "def square(x):\n",
    "    \n",
    "    return(x,y)"
   ]
  },
  {
   "cell_type": "code",
   "execution_count": null,
   "metadata": {},
   "outputs": [],
   "source": [
    "def square(*x,y):\n",
    "    return x+y"
   ]
  },
  {
   "cell_type": "code",
   "execution_count": 22,
   "metadata": {},
   "outputs": [],
   "source": [
    "square =lambda *x,y:x+y"
   ]
  },
  {
   "cell_type": "code",
   "execution_count": 26,
   "metadata": {},
   "outputs": [
    {
     "data": {
      "text/plain": [
       "(4, 3, 5, 5)"
      ]
     },
     "execution_count": 26,
     "metadata": {},
     "output_type": "execute_result"
    }
   ],
   "source": [
    "square(4,3,5,y=(5,))"
   ]
  },
  {
   "cell_type": "code",
   "execution_count": null,
   "metadata": {
    "id": "-gE-Ez1qtyIA"
   },
   "outputs": [],
   "source": [
    "# #Functions\n",
    "# def add(x,y):\n",
    "#     return x + y\n",
    "\n",
    "# result = add(3,5)\n",
    "# print(result)\n",
    "\n",
    "#Lambda\n",
    "# The lambda itself has no name. Here we stored it in a varaiable\n",
    "# and called it \"sub\" but we can call it anything\n",
    "sub = lambda x,y: x-y\n",
    "\n",
    "result = sub(3,995)\n",
    "print(result)\n",
    "\n",
    "# def sub(x,y):\n",
    "#     return x-y\n",
    "# print(sub(3,5))"
   ]
  },
  {
   "cell_type": "markdown",
   "metadata": {
    "id": "6jrRFVz2dCiH"
   },
   "source": [
    "Lambda can also be used to generate different functions based on one definition.\n",
    "\n",
    "The function below gets a value \"n\" from the user that determines the type of powering function (square, cube, 4th power, etc) "
   ]
  },
  {
   "cell_type": "code",
   "execution_count": null,
   "metadata": {
    "id": "srt6sNMQdB2q"
   },
   "outputs": [],
   "source": [
    "def power_n(n):\n",
    "    return lambda x: x**n\n",
    "\n",
    "square_function = power_n(2)\n",
    "cube_function = power_n(3)\n",
    "\n",
    "print(\"The square of 5 is: \", square_function(5))\n",
    "print(\"The cube of 5 is: \", cube_function(5))\n"
   ]
  },
  {
   "cell_type": "code",
   "execution_count": null,
   "metadata": {},
   "outputs": [],
   "source": [
    "power_n()"
   ]
  },
  {
   "cell_type": "code",
   "execution_count": 28,
   "metadata": {},
   "outputs": [],
   "source": [
    "students_Mark=[20,18,17,15]"
   ]
  },
  {
   "cell_type": "code",
   "execution_count": 29,
   "metadata": {},
   "outputs": [],
   "source": [
    "updatedmarks=map(lambda x:x+3,students_Mark)"
   ]
  },
  {
   "cell_type": "code",
   "execution_count": 32,
   "metadata": {},
   "outputs": [
    {
     "name": "stdout",
     "output_type": "stream",
     "text": [
      "<class 'map'>\n"
     ]
    }
   ],
   "source": [
    "print(type(updatedmarks))"
   ]
  },
  {
   "cell_type": "code",
   "execution_count": 33,
   "metadata": {},
   "outputs": [
    {
     "name": "stdout",
     "output_type": "stream",
     "text": [
      "[23, 21, 20, 18]\n"
     ]
    }
   ],
   "source": [
    "print(list(updatedmarks))"
   ]
  },
  {
   "cell_type": "code",
   "execution_count": 34,
   "metadata": {},
   "outputs": [
    {
     "data": {
      "text/plain": [
       "[20, 18, 17, 15]"
      ]
     },
     "execution_count": 34,
     "metadata": {},
     "output_type": "execute_result"
    }
   ],
   "source": [
    "students_Mark"
   ]
  },
  {
   "cell_type": "code",
   "execution_count": null,
   "metadata": {
    "id": "9Y_uMCKQ88qC"
   },
   "outputs": [],
   "source": [
    "# write filter's method[false,True,False]"
   ]
  },
  {
   "cell_type": "code",
   "execution_count": null,
   "metadata": {
    "id": "6qLX4dAxokxu"
   },
   "outputs": [],
   "source": [
    "def between(number, min=0, max=100):\n",
    "    return max > number > min\n",
    "\n",
    "# Only returns number between 10 and 1000\n",
    "x= filter(lambda x: between(x, min=50,max=70), range(100))\n",
    "list(x)"
   ]
  },
  {
   "cell_type": "code",
   "execution_count": null,
   "metadata": {
    "id": "YL_mG5vamcRa"
   },
   "outputs": [],
   "source": [
    "list_1 = [1,2,3,4,5,6,7,8,9]\n",
    "filter(lambda x: x%2==0, list_1)### Results\n",
    "\n",
    "list(filter(lambda x: x%2==0, list_1))###Results\n"
   ]
  },
  {
   "cell_type": "code",
   "execution_count": 38,
   "metadata": {
    "id": "sz-GmonC9ROw"
   },
   "outputs": [
    {
     "ename": "TypeError",
     "evalue": "'int' object is not iterable",
     "output_type": "error",
     "traceback": [
      "\u001b[1;31m---------------------------------------------------------------------------\u001b[0m",
      "\u001b[1;31mTypeError\u001b[0m                                 Traceback (most recent call last)",
      "Cell \u001b[1;32mIn[38], line 6\u001b[0m\n\u001b[0;32m      3\u001b[0m \u001b[38;5;28;01mdef\u001b[39;00m \u001b[38;5;21msquare\u001b[39m(x):\n\u001b[0;32m      4\u001b[0m     \u001b[38;5;28;01mreturn\u001b[39;00m x \u001b[38;5;241m*\u001b[39m\u001b[38;5;241m*\u001b[39m \u001b[38;5;241m2\u001b[39m\n\u001b[1;32m----> 6\u001b[0m squared \u001b[38;5;241m=\u001b[39m \u001b[38;5;28;43mmap\u001b[39;49m\u001b[43m(\u001b[49m\u001b[43msquare\u001b[49m\u001b[43m,\u001b[49m\u001b[43m \u001b[49m\u001b[38;5;241;43m1\u001b[39;49m\u001b[43m)\u001b[49m\n\u001b[0;32m      7\u001b[0m \u001b[38;5;28mlist\u001b[39m(squared)\n",
      "\u001b[1;31mTypeError\u001b[0m: 'int' object is not iterable"
     ]
    }
   ],
   "source": [
    "list_1 = [1,2,3]\n",
    "\n",
    "def square(x):\n",
    "    return x ** 2\n",
    "\n",
    "squared = map(square, list_1)\n",
    "list(squared)"
   ]
  },
  {
   "cell_type": "code",
   "execution_count": 42,
   "metadata": {},
   "outputs": [
    {
     "name": "stdout",
     "output_type": "stream",
     "text": [
      "[1, 2]\n"
     ]
    }
   ],
   "source": [
    "print(list(range(1,3)))"
   ]
  },
  {
   "cell_type": "code",
   "execution_count": 46,
   "metadata": {
    "id": "rJj9DvNOnCRr"
   },
   "outputs": [
    {
     "name": "stdout",
     "output_type": "stream",
     "text": [
      "<map object at 0x0000027B2E2BBE80>\n",
      "[1, 8, 27, 64, 125, 216, 343, 512, 729]\n"
     ]
    }
   ],
   "source": [
    "list_1 = [1,2,3,4,5,6,7,8,9]\n",
    "cubed = map(lambda x: pow(x,3), list_1)\n",
    "print(cubed)\n",
    "print(list(cubed))\n"
   ]
  },
  {
   "cell_type": "code",
   "execution_count": null,
   "metadata": {
    "id": "VLCjKIlP991E"
   },
   "outputs": [],
   "source": [
    "#example on zip"
   ]
  },
  {
   "cell_type": "code",
   "execution_count": null,
   "metadata": {
    "id": "BXqhtFVho0Zw"
   },
   "outputs": [],
   "source": [
    "mylist = list(zip(range(40, 240), range(-100, 100)))\n",
    "print(type(mylist))\n",
    "sorted(mylist, key=lambda i: i[1])"
   ]
  },
  {
   "cell_type": "code",
   "execution_count": null,
   "metadata": {},
   "outputs": [],
   "source": [
    "(range(40, 240))"
   ]
  },
  {
   "cell_type": "code",
   "execution_count": null,
   "metadata": {},
   "outputs": [],
   "source": [
    "key=['name',\"mark\",\"aa\"]\n",
    "value=[\"ali\",30]\n",
    "#[(\"name\",\"ali\")(\"mark\",30)]"
   ]
  },
  {
   "cell_type": "code",
   "execution_count": null,
   "metadata": {},
   "outputs": [],
   "source": [
    "diction=[]\n",
    "for a,b in zip(key,value):\n",
    "    diction.append((a,b))\n",
    "    print(\"the value is : \",b)\n",
    "    \n",
    "print(diction)"
   ]
  },
  {
   "cell_type": "markdown",
   "metadata": {
    "id": "4oEXlxB-pECV"
   },
   "source": [
    "## <a id='documentation_strings'></a>**Documentation strings**\n",
    "\n",
    "\n",
    "Documentation strings are simply comments added in the beginning of your function definition to describe it for other users. The description is usually the behaviour of the function and information about the arguments to be passed."
   ]
  },
  {
   "cell_type": "code",
   "execution_count": 36,
   "metadata": {
    "id": "0KnD0mJ0pvuw"
   },
   "outputs": [
    {
     "name": "stdout",
     "output_type": "stream",
     "text": [
      "2 + 3 =  [2, 1, 1]\n"
     ]
    }
   ],
   "source": [
    "#single line docstring\n",
    "\n",
    "def clean_add(x, y):\n",
    "    \"\"\"\n",
    "   Returns the addition of two numbers as float\n",
    "  the two arguments (x, y) should be number or the function will produce unexpected results\n",
    "  \"\"\"\n",
    "    return x + y\n",
    "\n",
    "print(\"2 + 3 = \", clean_add([2,1],[1]) )"
   ]
  },
  {
   "cell_type": "code",
   "execution_count": 39,
   "metadata": {},
   "outputs": [
    {
     "name": "stdout",
     "output_type": "stream",
     "text": [
      "Help on function clean_add in module __main__:\n",
      "\n",
      "clean_add(x, y)\n",
      "     Returns the addition of two numbers as float\n",
      "    the two arguments (x, y) should be number or the function will produce unexpected results\n",
      "\n"
     ]
    }
   ],
   "source": [
    "help(clean_add)"
   ]
  },
  {
   "cell_type": "code",
   "execution_count": null,
   "metadata": {},
   "outputs": [],
   "source": [
    "clean_add()"
   ]
  },
  {
   "cell_type": "markdown",
   "metadata": {
    "id": "rcx5W1fRq8-Z"
   },
   "source": [
    "The difference between a doc string and a normal comment is that you can access it using the special variable **\\_\\_doc\\_\\_** .\n",
    "\n",
    "This can be of great help if you are using a function from a library in your code and you want some info about that function. Built_in functions have doc string too!"
   ]
  },
  {
   "cell_type": "code",
   "execution_count": null,
   "metadata": {
    "id": "hFLwGJMEqaQu"
   },
   "outputs": [],
   "source": [
    "print(clean_add.__doc__)"
   ]
  },
  {
   "cell_type": "code",
   "execution_count": null,
   "metadata": {
    "id": "4aa9UuJ9r2lL"
   },
   "outputs": [],
   "source": [
    "#multi line docstring\n",
    "def complex(g=2,*,real=0.0, imag=0.0):\n",
    "    \"\"\"Form a complex number.\n",
    "\n",
    "    Keyword arguments:\n",
    "    real -- the real part (default 0.0)\n",
    "    imag -- the imaginary part (default 0.0)\n",
    "    \"\"\"\n",
    "    if imag == 0.0 and real == 0.0:\n",
    "        return complex_zero\n",
    "    print(g)\n",
    "    return real+imag\n",
    "    \n",
    "\n",
    "print(complex(real=3,imag=4))\n",
    "print(complex.__doc__)"
   ]
  },
  {
   "cell_type": "markdown",
   "metadata": {
    "id": "qEf19wpgtN82"
   },
   "source": [
    "### Numpy docstring"
   ]
  },
  {
   "cell_type": "code",
   "execution_count": null,
   "metadata": {
    "id": "z716Gyy9qdkD"
   },
   "outputs": [],
   "source": [
    "def clean_add(x, y):\n",
    "  \"\"\"\n",
    "  Returns the addition of two numbers the two arguments (x, y) should be number or the function will produce unexpected results\n",
    "\n",
    "  Parameters\n",
    "  ==========\n",
    "\n",
    "  x : int \n",
    "    first number\n",
    "\n",
    "  y : int\n",
    "    second number\n",
    "\n",
    "  Returns\n",
    "  =======\n",
    "\n",
    "  x + y : int \n",
    "    summation\n",
    "\n",
    "  \"\"\"\n",
    "  return x + y\n",
    "\n",
    "print(\"2 + 3 = \", clean_add(2,3) )\n",
    "print(clean_add.__doc__)"
   ]
  },
  {
   "cell_type": "code",
   "execution_count": null,
   "metadata": {
    "id": "nkolkbPsrgTe"
   },
   "outputs": [],
   "source": [
    "# The doc string of the built in print function\n",
    "print(print.__doc__)"
   ]
  },
  {
   "cell_type": "markdown",
   "metadata": {
    "id": "brb3nRrNb5Qz"
   },
   "source": [
    "## <a id='variables_scope_and_global_arguments'></a>**Variables scope and Global arguments**\n"
   ]
  },
  {
   "cell_type": "markdown",
   "metadata": {
    "id": "V4oOCo3Lf-eI"
   },
   "source": [
    "### **Variable scopes**\n",
    "A variable scope is the location at which this \n",
    "variable is available.\n",
    "\n",
    "A variable created inside the function is said to be \"local\" to that function and have a \"local scope\". You can't access that variable from outside the function\n",
    "\n",
    "After exiting the function all the local variables are destroyed/deleted from the computer memory"
   ]
  },
  {
   "cell_type": "code",
   "execution_count": null,
   "metadata": {
    "colab": {
     "base_uri": "https://localhost:8080/",
     "height": 197
    },
    "id": "SywAzvf0b3cc",
    "outputId": "dd2776e4-f9b3-4c95-bdeb-17612ad3e05c"
   },
   "outputs": [],
   "source": [
    "def add(x,y):\n",
    "    local_var = x-y\n",
    "    return x+y\n",
    " \n",
    "result = add(3,5)\n",
    "print(result)"
   ]
  },
  {
   "cell_type": "markdown",
   "metadata": {
    "id": "mtclTPFhgSM4"
   },
   "source": [
    "If a variable has global scope it can be accessed from any place in the code.\n",
    "\n",
    "Here the variable x is global so it can be accessed inside the function"
   ]
  },
  {
   "cell_type": "code",
   "execution_count": null,
   "metadata": {
    "colab": {
     "base_uri": "https://localhost:8080/"
    },
    "id": "EvvrPBHjb-jT",
    "outputId": "2f2b0b62-8776-4b28-d449-58e52e9aa9d9"
   },
   "outputs": [],
   "source": [
    "\n",
    "def add_by_x(y):\n",
    "    \n",
    "    return x + y\n",
    "\n",
    "result = add_by_x(5)\n",
    "print(result,x)"
   ]
  },
  {
   "cell_type": "markdown",
   "metadata": {
    "id": "mbx98oc3gsTx"
   },
   "source": [
    "What if the function has an argument \"x\" like so -> add(x,y) and at the same time there is a global varaible called x?\n",
    "\n",
    "To solve this conflict the function will use the local variable, that is the one passed to it."
   ]
  },
  {
   "cell_type": "code",
   "execution_count": null,
   "metadata": {
    "colab": {
     "base_uri": "https://localhost:8080/"
    },
    "id": "1YTb2iG1cHAn",
    "outputId": "e8fe5629-080d-4cf6-92ac-fdce28f4af18"
   },
   "outputs": [],
   "source": [
    "x = 1 \n",
    "def add(x, y):\n",
    "  print(\"The value of x inside the function: \",x)\n",
    "  return x + y\n",
    "\n",
    "# The function will use the local varaible x=2\n",
    "result = add(x=2, y=5)\n",
    "print(\"Function output:\",result)\n",
    "\n",
    "# Notice that when we access x from outside the function we get\n",
    "# the global variable x = 1 and the local one is deleted when we exit the function\n",
    "print(\"The value of x outside the function: \",x)"
   ]
  },
  {
   "cell_type": "markdown",
   "metadata": {
    "id": "XpXW_SVnhtgA"
   },
   "source": [
    "### <a id='global_arguments'></a> **Global arguments**\n",
    "Any variable created within the function is local.\n",
    "\n",
    "The function below is trying change the value of x, but that doesn't work because the statement \"x = 5\" creates a new local variable that has no relation to the global variable x"
   ]
  },
  {
   "cell_type": "code",
   "execution_count": null,
   "metadata": {
    "id": "cpKo0KXKh6o7"
   },
   "outputs": [],
   "source": [
    "x = 1 \n",
    "def set_x():\n",
    "    x = 5\n",
    "    print(\"The value of x inside the function: \",x)\n",
    "\n",
    "set_x()\n",
    "print(\"The value of x outside the function: \",x)"
   ]
  },
  {
   "cell_type": "markdown",
   "metadata": {
    "id": "QIocwPMDjluL"
   },
   "source": [
    "To force the function to use the global variable x you should use the \"**global**\" keyword"
   ]
  },
  {
   "cell_type": "code",
   "execution_count": 45,
   "metadata": {
    "id": "2_Q2DN3ejxS6"
   },
   "outputs": [
    {
     "name": "stdout",
     "output_type": "stream",
     "text": [
      "The value of x inside the function:  3\n",
      "The value of x outside the function:  3\n",
      "The value of x inside the function:  3\n"
     ]
    },
    {
     "data": {
      "text/plain": [
       "3"
      ]
     },
     "execution_count": 45,
     "metadata": {},
     "output_type": "execute_result"
    }
   ],
   "source": [
    "x = 1 \n",
    "def set_x():\n",
    "    \n",
    "    global x\n",
    "    x = 3\n",
    "    print(\"The value of x inside the function: \",x)\n",
    "\n",
    "set_x()\n",
    "print(\"The value of x outside the function: \",x)\n",
    "set_x()\n",
    "x"
   ]
  },
  {
   "cell_type": "markdown",
   "metadata": {
    "id": "4wN0NycRkNZM"
   },
   "source": [
    "You can also use the **global** keyword to create a global variable inside the function that can be accessed from outside the function."
   ]
  },
  {
   "cell_type": "code",
   "execution_count": null,
   "metadata": {
    "id": "80_gWBklkwXD"
   },
   "outputs": [],
   "source": [
    "def make_global_var_y():\n",
    "    global y\n",
    "    y = 10\n",
    "\n",
    "make_global_var_y()\n",
    "print(\"Global variable y is: \", y)"
   ]
  },
  {
   "cell_type": "markdown",
   "metadata": {
    "id": "BMOMwjdKcSnR"
   },
   "source": [
    "## <a id='recursion'></a>**Recursion**\n",
    "\n",
    "Recursion is to call the function itself within the function... itself!\n",
    "\n",
    "For example lets say you want a function to print numbers from 10 to 0.\n",
    "```\n",
    "crazy_print(x=10):\n",
    "  print(x)\n",
    "  crazy_print(x-1)\n",
    "```\n",
    "<br>\n",
    "\n",
    "In the 1st iteration the function will print 10 and calls \n",
    "the same function again with x-1 (9).\n",
    "  \n",
    "\n",
    "> The called function will print 9 and calls the same function ... again with x-1 (8).\n",
    "\n",
    "> > The called function will print 8 and calls the same function ... again with x-1 (7).\n",
    " \n",
    "and so on.\n",
    "\n",
    "Let's try this now"
   ]
  },
  {
   "cell_type": "code",
   "execution_count": null,
   "metadata": {
    "id": "YArI1EQ2cNO9"
   },
   "outputs": [],
   "source": [
    "def crazy_print(x):\n",
    "    print(x)\n",
    "    crazy_print(x-1)\n",
    "\n",
    "print(\"I'm going into an infinte loop , Bye!\")\n",
    "crazy_print(10)"
   ]
  },
  {
   "cell_type": "markdown",
   "metadata": {
    "id": "yhGGMDW_n871"
   },
   "source": [
    "The code didn't work because the recursion keeps happening forever.\n",
    "\n",
    "We need a break condition to stop the function at some point"
   ]
  },
  {
   "cell_type": "code",
   "execution_count": null,
   "metadata": {
    "id": "1PpjF5ulcq-a"
   },
   "outputs": [],
   "source": [
    "def crazy_print(x):\n",
    "    print(x)\n",
    "    if (x > 0):\n",
    "      crazy_print(x-1)\n",
    "\n",
    "crazy_print(10)"
   ]
  },
  {
   "cell_type": "markdown",
   "metadata": {
    "id": "uK5ycxnXjuN8"
   },
   "source": [
    "### <a id = 'ex3'></a>**Exercise 3**\n",
    "\n",
    "factorial function.\n",
    "\n",
    "define a function that takes a number and calculate it factorial.\n",
    "\n",
    "\n",
    "\n",
    "**Note:** factorial of **N** is the product of all positive integers less than or equal to **N**: "
   ]
  },
  {
   "cell_type": "code",
   "execution_count": null,
   "metadata": {
    "id": "xQAT4MjzkRc9"
   },
   "outputs": [],
   "source": [
    "# def factorial(n): \n",
    "#     fact=1 \n",
    "#     for i in range(1,n+1): \n",
    "#         fact=fact*i \n",
    "#     return fact \n",
    "  \n",
    "# n=int(input(\"Enter positive number 'N': \")) \n",
    "# f=factorial(n) \n",
    "# print('Factorial is: ',f) "
   ]
  },
  {
   "cell_type": "markdown",
   "metadata": {},
   "source": [
    "# Good Luck"
   ]
  }
 ],
 "metadata": {
  "colab": {
   "collapsed_sections": [],
   "name": "Functions_ex.ipynb",
   "provenance": [],
   "toc_visible": true
  },
  "kernelspec": {
   "display_name": "Python 3 (ipykernel)",
   "language": "python",
   "name": "python3"
  },
  "language_info": {
   "codemirror_mode": {
    "name": "ipython",
    "version": 3
   },
   "file_extension": ".py",
   "mimetype": "text/x-python",
   "name": "python",
   "nbconvert_exporter": "python",
   "pygments_lexer": "ipython3",
   "version": "3.10.9"
  }
 },
 "nbformat": 4,
 "nbformat_minor": 1
}
