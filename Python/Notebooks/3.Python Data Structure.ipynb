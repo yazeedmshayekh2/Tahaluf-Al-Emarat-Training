{
 "cells": [
  {
   "cell_type": "markdown",
   "metadata": {
    "id": "q-TFYtp9gQZ2"
   },
   "source": [
    "# Data Structure Agenda:\n",
    "\n",
    "\n",
    "* [Data Strucutre Types:](#data_types) \n",
    "  * [Lists](#lists)\n",
    "  * [Dictionaries](#dictionaries)\n",
    "  * [Tuples](#tuples)\n"
   ]
  },
  {
   "cell_type": "markdown",
   "metadata": {
    "id": "jDv17ib41mSq"
   },
   "source": [
    "## <a id='lists'></a> Python lists"
   ]
  },
  {
   "cell_type": "markdown",
   "metadata": {
    "id": "D9WuASvvpLoN"
   },
   "source": [
    "The most basic data structure in Python is the sequence. Each element of a sequence is assigned a number - its position or index. The first index is zero, the second index is one, and so forth.\n",
    "\n",
    "Python has six built-in types of sequences, but the most common ones are lists, tuples and dictionaries, which we would see in this tutorial.\n",
    "\n",
    "There are certain things you can do with all sequence types. These operations include indexing, slicing, adding, multiplying, and checking for membership. In addition, Python has built-in functions for finding the length of a sequence and for finding its largest and smallest elements.\n",
    "\n",
    "Python Lists\n",
    "The list is a most versatile datatype available in Python which can be written as a list of comma-separated values (items) between square brackets. Important thing about a list is that items in a list need not be of the same type.\n",
    "\n",
    "Creating a list is as simple as putting different comma-separated values between square brackets."
   ]
  },
  {
   "cell_type": "markdown",
   "metadata": {
    "id": "2-nsRhrhppci"
   },
   "source": [
    "#### Defining a list"
   ]
  },
  {
   "cell_type": "code",
   "execution_count": 1,
   "metadata": {
    "colab": {
     "base_uri": "https://localhost:8080/"
    },
    "executionInfo": {
     "elapsed": 363,
     "status": "ok",
     "timestamp": 1627234116993,
     "user": {
      "displayName": "Mohamed Sabry",
      "photoUrl": "https://lh3.googleusercontent.com/a-/AOh14GhbLJv6CX3dgBgLfw9OYqdgZmRW7NR-K1ZYgxL4=s64",
      "userId": "05412214076873003430"
     },
     "user_tz": -120
    },
    "id": "avYU-L5Y15YA",
    "outputId": "9f7b4229-2497-4be1-b8de-21e7a05ff87a"
   },
   "outputs": [
    {
     "data": {
      "text/plain": [
       "[1, 2, 3, 4, 5]"
      ]
     },
     "execution_count": 1,
     "metadata": {},
     "output_type": "execute_result"
    }
   ],
   "source": [
    "#list of integers\n",
    "l = [1,2,3,4,5]\n",
    "l"
   ]
  },
  {
   "cell_type": "markdown",
   "metadata": {
    "id": "lj_kLNzspwOq"
   },
   "source": [
    "#### Indexing a list"
   ]
  },
  {
   "cell_type": "code",
   "execution_count": 2,
   "metadata": {
    "colab": {
     "base_uri": "https://localhost:8080/"
    },
    "executionInfo": {
     "elapsed": 4,
     "status": "ok",
     "timestamp": 1627234117290,
     "user": {
      "displayName": "Mohamed Sabry",
      "photoUrl": "https://lh3.googleusercontent.com/a-/AOh14GhbLJv6CX3dgBgLfw9OYqdgZmRW7NR-K1ZYgxL4=s64",
      "userId": "05412214076873003430"
     },
     "user_tz": -120
    },
    "id": "oZJQR0YU18tD",
    "outputId": "5b822421-4efe-43f2-9c69-b2dd343a0abd"
   },
   "outputs": [
    {
     "name": "stdout",
     "output_type": "stream",
     "text": [
      "1\n",
      "5\n",
      "[1, 2]\n",
      "[1, 2, 3]\n",
      "[5, 4, 3, 2, 1]\n"
     ]
    }
   ],
   "source": [
    "print(l[0]) # indexing the first element\n",
    "print(l[-1]) # indexing the last element\n",
    "print(l[:2]) # indexing the first two elements\n",
    "print(l[:-2]) # indexing all elements except the last two elements\n",
    "print(l[::-1]) # reverse the list"
   ]
  },
  {
   "cell_type": "code",
   "execution_count": 3,
   "metadata": {},
   "outputs": [
    {
     "data": {
      "text/plain": [
       "[1, 2, 3, 4, 5]"
      ]
     },
     "execution_count": 3,
     "metadata": {},
     "output_type": "execute_result"
    }
   ],
   "source": [
    "l"
   ]
  },
  {
   "cell_type": "markdown",
   "metadata": {
    "id": "ILp93Ep8qYZ3"
   },
   "source": [
    "#### More on lists"
   ]
  },
  {
   "cell_type": "code",
   "execution_count": 4,
   "metadata": {
    "colab": {
     "base_uri": "https://localhost:8080/"
    },
    "executionInfo": {
     "elapsed": 5,
     "status": "ok",
     "timestamp": 1627234117701,
     "user": {
      "displayName": "Mohamed Sabry",
      "photoUrl": "https://lh3.googleusercontent.com/a-/AOh14GhbLJv6CX3dgBgLfw9OYqdgZmRW7NR-K1ZYgxL4=s64",
      "userId": "05412214076873003430"
     },
     "user_tz": -120
    },
    "id": "YVwVviIpfmh0",
    "outputId": "d1597fc0-82b0-42b3-ab83-ce6d57f39adc"
   },
   "outputs": [
    {
     "name": "stdout",
     "output_type": "stream",
     "text": [
      "[]\n",
      "[123, '123', 1.23]\n"
     ]
    }
   ],
   "source": [
    "#empty list\n",
    "l = []\n",
    "print(l)\n",
    "#list of 3 different data types\n",
    "l = [123,'123', 1.23]\n",
    "print(l)"
   ]
  },
  {
   "cell_type": "code",
   "execution_count": 5,
   "metadata": {
    "colab": {
     "base_uri": "https://localhost:8080/"
    },
    "executionInfo": {
     "elapsed": 5,
     "status": "ok",
     "timestamp": 1627234118254,
     "user": {
      "displayName": "Mohamed Sabry",
      "photoUrl": "https://lh3.googleusercontent.com/a-/AOh14GhbLJv6CX3dgBgLfw9OYqdgZmRW7NR-K1ZYgxL4=s64",
      "userId": "05412214076873003430"
     },
     "user_tz": -120
    },
    "id": "0c0rCakYf4jV",
    "outputId": "e59d737c-94b0-4144-e19c-42fd1d190a70"
   },
   "outputs": [
    {
     "name": "stdout",
     "output_type": "stream",
     "text": [
      "30.0\n"
     ]
    }
   ],
   "source": [
    "#nested lists\n",
    "l = ['Jo', 30.0, ['Jo', 30.0]]\n",
    "print(l[2][1])"
   ]
  },
  {
   "cell_type": "code",
   "execution_count": 6,
   "metadata": {
    "colab": {
     "base_uri": "https://localhost:8080/"
    },
    "executionInfo": {
     "elapsed": 5,
     "status": "ok",
     "timestamp": 1627234118528,
     "user": {
      "displayName": "Mohamed Sabry",
      "photoUrl": "https://lh3.googleusercontent.com/a-/AOh14GhbLJv6CX3dgBgLfw9OYqdgZmRW7NR-K1ZYgxL4=s64",
      "userId": "05412214076873003430"
     },
     "user_tz": -120
    },
    "id": "Fzq80nTNgEMw",
    "outputId": "8b6dcd9c-9a7b-4ada-83e5-a8add9058773"
   },
   "outputs": [
    {
     "name": "stdout",
     "output_type": "stream",
     "text": [
      "['s', 'p', 'a', 'm']\n"
     ]
    }
   ],
   "source": [
    "#list of iterables elements\n",
    "l = list('spam')\n",
    "print(l)"
   ]
  },
  {
   "cell_type": "code",
   "execution_count": 7,
   "metadata": {},
   "outputs": [
    {
     "data": {
      "text/plain": [
       "\"['s', 'p', 'a', 'm']\""
      ]
     },
     "execution_count": 7,
     "metadata": {},
     "output_type": "execute_result"
    }
   ],
   "source": [
    "str(l)"
   ]
  },
  {
   "cell_type": "code",
   "execution_count": 8,
   "metadata": {},
   "outputs": [],
   "source": [
    "st=\"spam\""
   ]
  },
  {
   "cell_type": "code",
   "execution_count": 9,
   "metadata": {},
   "outputs": [
    {
     "data": {
      "text/plain": [
       "['s', 'p', 'a', 'm']"
      ]
     },
     "execution_count": 9,
     "metadata": {},
     "output_type": "execute_result"
    }
   ],
   "source": [
    "list(st)"
   ]
  },
  {
   "cell_type": "code",
   "execution_count": 10,
   "metadata": {},
   "outputs": [
    {
     "data": {
      "text/plain": [
       "['s', 'p', 'a', 'm']"
      ]
     },
     "execution_count": 10,
     "metadata": {},
     "output_type": "execute_result"
    }
   ],
   "source": [
    "[*st]"
   ]
  },
  {
   "cell_type": "code",
   "execution_count": 11,
   "metadata": {
    "colab": {
     "base_uri": "https://localhost:8080/"
    },
    "executionInfo": {
     "elapsed": 5,
     "status": "ok",
     "timestamp": 1627234118529,
     "user": {
      "displayName": "Mohamed Sabry",
      "photoUrl": "https://lh3.googleusercontent.com/a-/AOh14GhbLJv6CX3dgBgLfw9OYqdgZmRW7NR-K1ZYgxL4=s64",
      "userId": "05412214076873003430"
     },
     "user_tz": -120
    },
    "id": "nWmsUccUgNFz",
    "outputId": "471871cf-4d27-4ac5-fc54-384335f98f3f"
   },
   "outputs": [
    {
     "name": "stdout",
     "output_type": "stream",
     "text": [
      "list is  [-4, -3, -2, -1, 0, 1, 2, 3]\n",
      "type is  <class 'list'>\n"
     ]
    }
   ],
   "source": [
    "l = list(range(-4,4))\n",
    "print('list is ', l)\n",
    "print('type is ', type(l))\n",
    "\n",
    "\n"
   ]
  },
  {
   "cell_type": "code",
   "execution_count": 12,
   "metadata": {},
   "outputs": [
    {
     "name": "stdout",
     "output_type": "stream",
     "text": [
      "[-4, -3, -2, -1, 0, 1, 2, 3]\n",
      "type is  <class 'list'>\n"
     ]
    }
   ],
   "source": [
    "l =[*range(-4,4)]\n",
    "print(l)\n",
    "print('type is ', type(l))"
   ]
  },
  {
   "cell_type": "code",
   "execution_count": 13,
   "metadata": {
    "colab": {
     "base_uri": "https://localhost:8080/"
    },
    "executionInfo": {
     "elapsed": 3,
     "status": "ok",
     "timestamp": 1627234119173,
     "user": {
      "displayName": "Mohamed Sabry",
      "photoUrl": "https://lh3.googleusercontent.com/a-/AOh14GhbLJv6CX3dgBgLfw9OYqdgZmRW7NR-K1ZYgxL4=s64",
      "userId": "05412214076873003430"
     },
     "user_tz": -120
    },
    "id": "64R-6sCW2Cjt",
    "outputId": "f00775b8-6f71-42fd-f642-cb65d2f11239"
   },
   "outputs": [
    {
     "data": {
      "text/plain": [
       "[[1, 'mohamed'], [2, 'ahmed']]"
      ]
     },
     "execution_count": 13,
     "metadata": {},
     "output_type": "execute_result"
    }
   ],
   "source": [
    "l = [[1,\"mohamed\"],[2,\"ahmed\"]]\n",
    "\n",
    "l"
   ]
  },
  {
   "cell_type": "code",
   "execution_count": 14,
   "metadata": {
    "colab": {
     "base_uri": "https://localhost:8080/"
    },
    "executionInfo": {
     "elapsed": 5,
     "status": "ok",
     "timestamp": 1627234119517,
     "user": {
      "displayName": "Mohamed Sabry",
      "photoUrl": "https://lh3.googleusercontent.com/a-/AOh14GhbLJv6CX3dgBgLfw9OYqdgZmRW7NR-K1ZYgxL4=s64",
      "userId": "05412214076873003430"
     },
     "user_tz": -120
    },
    "id": "Zc_GbKt12Lc8",
    "outputId": "1ba6352d-56a0-4566-a6d3-79e643546cef"
   },
   "outputs": [
    {
     "data": {
      "text/plain": [
       "[1, 'mohamed']"
      ]
     },
     "execution_count": 14,
     "metadata": {},
     "output_type": "execute_result"
    }
   ],
   "source": [
    "l[0]"
   ]
  },
  {
   "cell_type": "code",
   "execution_count": 15,
   "metadata": {
    "colab": {
     "base_uri": "https://localhost:8080/",
     "height": 35
    },
    "executionInfo": {
     "elapsed": 491,
     "status": "ok",
     "timestamp": 1627234120004,
     "user": {
      "displayName": "Mohamed Sabry",
      "photoUrl": "https://lh3.googleusercontent.com/a-/AOh14GhbLJv6CX3dgBgLfw9OYqdgZmRW7NR-K1ZYgxL4=s64",
      "userId": "05412214076873003430"
     },
     "user_tz": -120
    },
    "id": "F2V91m0S2OBi",
    "outputId": "5b03a6c4-0f91-4ab5-87b8-34a9686d493b"
   },
   "outputs": [
    {
     "data": {
      "text/plain": [
       "'mohamed'"
      ]
     },
     "execution_count": 15,
     "metadata": {},
     "output_type": "execute_result"
    }
   ],
   "source": [
    "l[0][1]"
   ]
  },
  {
   "cell_type": "markdown",
   "metadata": {
    "id": "hXPXNekFqito"
   },
   "source": [
    "#### Delete list elements"
   ]
  },
  {
   "cell_type": "code",
   "execution_count": 16,
   "metadata": {
    "colab": {
     "base_uri": "https://localhost:8080/"
    },
    "executionInfo": {
     "elapsed": 11,
     "status": "ok",
     "timestamp": 1627234120005,
     "user": {
      "displayName": "Mohamed Sabry",
      "photoUrl": "https://lh3.googleusercontent.com/a-/AOh14GhbLJv6CX3dgBgLfw9OYqdgZmRW7NR-K1ZYgxL4=s64",
      "userId": "05412214076873003430"
     },
     "user_tz": -120
    },
    "id": "XoW7ORSaql7c",
    "outputId": "8112d70c-d6b0-48ab-9b32-d7996e75e656"
   },
   "outputs": [
    {
     "data": {
      "text/plain": [
       "1"
      ]
     },
     "execution_count": 16,
     "metadata": {},
     "output_type": "execute_result"
    }
   ],
   "source": [
    "del l[0]\n",
    "len(l)"
   ]
  },
  {
   "cell_type": "code",
   "execution_count": 17,
   "metadata": {},
   "outputs": [
    {
     "data": {
      "text/plain": [
       "2"
      ]
     },
     "execution_count": 17,
     "metadata": {},
     "output_type": "execute_result"
    }
   ],
   "source": [
    "len(l[0])"
   ]
  },
  {
   "cell_type": "code",
   "execution_count": 18,
   "metadata": {},
   "outputs": [
    {
     "data": {
      "text/plain": [
       "'ahmed'"
      ]
     },
     "execution_count": 18,
     "metadata": {},
     "output_type": "execute_result"
    }
   ],
   "source": [
    "l[0][1]"
   ]
  },
  {
   "cell_type": "code",
   "execution_count": 19,
   "metadata": {},
   "outputs": [
    {
     "data": {
      "text/plain": [
       "2"
      ]
     },
     "execution_count": 19,
     "metadata": {},
     "output_type": "execute_result"
    }
   ],
   "source": [
    "len(l[0])"
   ]
  },
  {
   "cell_type": "code",
   "execution_count": 20,
   "metadata": {},
   "outputs": [],
   "source": [
    "l=4"
   ]
  },
  {
   "cell_type": "code",
   "execution_count": 21,
   "metadata": {},
   "outputs": [],
   "source": [
    "l+=2"
   ]
  },
  {
   "cell_type": "code",
   "execution_count": 22,
   "metadata": {},
   "outputs": [
    {
     "data": {
      "text/plain": [
       "6"
      ]
     },
     "execution_count": 22,
     "metadata": {},
     "output_type": "execute_result"
    }
   ],
   "source": [
    "l"
   ]
  },
  {
   "cell_type": "markdown",
   "metadata": {
    "id": "2oSXqgqG2TVS"
   },
   "source": [
    "## Operations on list"
   ]
  },
  {
   "cell_type": "markdown",
   "metadata": {
    "id": "sf9Kjy10rExF"
   },
   "source": [
    "#### List length"
   ]
  },
  {
   "cell_type": "code",
   "execution_count": 23,
   "metadata": {
    "colab": {
     "base_uri": "https://localhost:8080/"
    },
    "executionInfo": {
     "elapsed": 5,
     "status": "ok",
     "timestamp": 1627234122337,
     "user": {
      "displayName": "Mohamed Sabry",
      "photoUrl": "https://lh3.googleusercontent.com/a-/AOh14GhbLJv6CX3dgBgLfw9OYqdgZmRW7NR-K1ZYgxL4=s64",
      "userId": "05412214076873003430"
     },
     "user_tz": -120
    },
    "id": "26Yjgv0rgj9M",
    "outputId": "6d52402b-d08a-4df1-8124-6a29ce4546ef"
   },
   "outputs": [],
   "source": [
    "#len of list\n",
    "l=[1,2,3,4]"
   ]
  },
  {
   "cell_type": "code",
   "execution_count": 26,
   "metadata": {},
   "outputs": [
    {
     "ename": "TypeError",
     "evalue": "insert expected 2 arguments, got 0",
     "output_type": "error",
     "traceback": [
      "\u001b[1;31m---------------------------------------------------------------------------\u001b[0m",
      "\u001b[1;31mTypeError\u001b[0m                                 Traceback (most recent call last)",
      "Cell \u001b[1;32mIn[26], line 1\u001b[0m\n\u001b[1;32m----> 1\u001b[0m \u001b[43ml\u001b[49m\u001b[38;5;241;43m.\u001b[39;49m\u001b[43minsert\u001b[49m\u001b[43m(\u001b[49m\u001b[43m)\u001b[49m\n",
      "\u001b[1;31mTypeError\u001b[0m: insert expected 2 arguments, got 0"
     ]
    }
   ],
   "source": [
    "l.insert()"
   ]
  },
  {
   "cell_type": "markdown",
   "metadata": {
    "id": "WLVw7vL7rIVx"
   },
   "source": [
    "#### Concatenating two lists"
   ]
  },
  {
   "cell_type": "code",
   "execution_count": 29,
   "metadata": {
    "colab": {
     "base_uri": "https://localhost:8080/"
    },
    "executionInfo": {
     "elapsed": 4,
     "status": "ok",
     "timestamp": 1627234122813,
     "user": {
      "displayName": "Mohamed Sabry",
      "photoUrl": "https://lh3.googleusercontent.com/a-/AOh14GhbLJv6CX3dgBgLfw9OYqdgZmRW7NR-K1ZYgxL4=s64",
      "userId": "05412214076873003430"
     },
     "user_tz": -120
    },
    "id": "d_HlRasFgo94",
    "outputId": "42efee0c-dc70-4080-e850-3ecb6c83c12d"
   },
   "outputs": [
    {
     "name": "stdout",
     "output_type": "stream",
     "text": [
      "[1, 2, 3, 1, 2, 3]\n"
     ]
    }
   ],
   "source": [
    "l = [1,2,3]*2\n",
    "print(l)\n"
   ]
  },
  {
   "cell_type": "code",
   "execution_count": 30,
   "metadata": {
    "colab": {
     "base_uri": "https://localhost:8080/",
     "height": 35
    },
    "executionInfo": {
     "elapsed": 6,
     "status": "ok",
     "timestamp": 1627234123785,
     "user": {
      "displayName": "Mohamed Sabry",
      "photoUrl": "https://lh3.googleusercontent.com/a-/AOh14GhbLJv6CX3dgBgLfw9OYqdgZmRW7NR-K1ZYgxL4=s64",
      "userId": "05412214076873003430"
     },
     "user_tz": -120
    },
    "id": "peCPQUwLg3OH",
    "outputId": "9dfd5f95-1f78-48aa-839c-63d405c4a024"
   },
   "outputs": [
    {
     "ename": "TypeError",
     "evalue": "can only concatenate list (not \"str\") to list",
     "output_type": "error",
     "traceback": [
      "\u001b[1;31m---------------------------------------------------------------------------\u001b[0m",
      "\u001b[1;31mTypeError\u001b[0m                                 Traceback (most recent call last)",
      "Cell \u001b[1;32mIn[30], line 1\u001b[0m\n\u001b[1;32m----> 1\u001b[0m \u001b[43m[\u001b[49m\u001b[38;5;241;43m1\u001b[39;49m\u001b[43m,\u001b[49m\u001b[38;5;241;43m2\u001b[39;49m\u001b[43m]\u001b[49m\u001b[43m \u001b[49m\u001b[38;5;241;43m+\u001b[39;49m\u001b[43m \u001b[49m\u001b[38;5;124;43m\"\u001b[39;49m\u001b[38;5;124;43m34\u001b[39;49m\u001b[38;5;124;43m\"\u001b[39;49m\n",
      "\u001b[1;31mTypeError\u001b[0m: can only concatenate list (not \"str\") to list"
     ]
    }
   ],
   "source": [
    "[1,2] + \"34\" #[1,2]34, 1234"
   ]
  },
  {
   "cell_type": "code",
   "execution_count": 31,
   "metadata": {},
   "outputs": [
    {
     "data": {
      "text/plain": [
       "[]"
      ]
     },
     "execution_count": 31,
     "metadata": {},
     "output_type": "execute_result"
    }
   ],
   "source": [
    "list()"
   ]
  },
  {
   "cell_type": "code",
   "execution_count": 32,
   "metadata": {},
   "outputs": [
    {
     "data": {
      "text/plain": [
       "[1, 2, '3', '4']"
      ]
     },
     "execution_count": 32,
     "metadata": {},
     "output_type": "execute_result"
    }
   ],
   "source": [
    "[1,2]+list((\"34\"))"
   ]
  },
  {
   "cell_type": "code",
   "execution_count": 33,
   "metadata": {},
   "outputs": [
    {
     "data": {
      "text/plain": [
       "['s', 'p', 'a', 'm']"
      ]
     },
     "execution_count": 33,
     "metadata": {},
     "output_type": "execute_result"
    }
   ],
   "source": [
    "list(\"spam\")"
   ]
  },
  {
   "cell_type": "code",
   "execution_count": 34,
   "metadata": {},
   "outputs": [
    {
     "ename": "TypeError",
     "evalue": "'int' object is not iterable",
     "output_type": "error",
     "traceback": [
      "\u001b[1;31m---------------------------------------------------------------------------\u001b[0m",
      "\u001b[1;31mTypeError\u001b[0m                                 Traceback (most recent call last)",
      "Cell \u001b[1;32mIn[34], line 1\u001b[0m\n\u001b[1;32m----> 1\u001b[0m \u001b[38;5;28;43mlist\u001b[39;49m\u001b[43m(\u001b[49m\u001b[38;5;241;43m34\u001b[39;49m\u001b[43m)\u001b[49m\n",
      "\u001b[1;31mTypeError\u001b[0m: 'int' object is not iterable"
     ]
    }
   ],
   "source": [
    "list(34)\n"
   ]
  },
  {
   "cell_type": "code",
   "execution_count": 35,
   "metadata": {},
   "outputs": [],
   "source": [
    "l=[1,2]"
   ]
  },
  {
   "cell_type": "code",
   "execution_count": 36,
   "metadata": {},
   "outputs": [
    {
     "data": {
      "text/plain": [
       "[1, 2, 1]"
      ]
     },
     "execution_count": 36,
     "metadata": {},
     "output_type": "execute_result"
    }
   ],
   "source": [
    "l+[1]"
   ]
  },
  {
   "cell_type": "code",
   "execution_count": 37,
   "metadata": {},
   "outputs": [
    {
     "name": "stdout",
     "output_type": "stream",
     "text": [
      "3 <class 'int'>\n"
     ]
    }
   ],
   "source": [
    "t=len([1,2,3])\n",
    "print(t,type(t))"
   ]
  },
  {
   "cell_type": "code",
   "execution_count": 38,
   "metadata": {},
   "outputs": [],
   "source": [
    "s=\"34\"#[1,2,34],[1,2,3,4]"
   ]
  },
  {
   "cell_type": "code",
   "execution_count": 39,
   "metadata": {
    "colab": {
     "base_uri": "https://localhost:8080/"
    },
    "executionInfo": {
     "elapsed": 6,
     "status": "ok",
     "timestamp": 1627234125333,
     "user": {
      "displayName": "Mohamed Sabry",
      "photoUrl": "https://lh3.googleusercontent.com/a-/AOh14GhbLJv6CX3dgBgLfw9OYqdgZmRW7NR-K1ZYgxL4=s64",
      "userId": "05412214076873003430"
     },
     "user_tz": -120
    },
    "id": "MHRValnLgpCH",
    "outputId": "ad3cfa0f-baba-4956-961d-29978eb84e3a"
   },
   "outputs": [
    {
     "name": "stdout",
     "output_type": "stream",
     "text": [
      "None\n"
     ]
    }
   ],
   "source": [
    "l=[1,2]\n",
    "print(l.append(0))\n"
   ]
  },
  {
   "cell_type": "code",
   "execution_count": 40,
   "metadata": {},
   "outputs": [
    {
     "name": "stdout",
     "output_type": "stream",
     "text": [
      "0\n",
      "[1, 2]\n"
     ]
    }
   ],
   "source": [
    "print(l.pop(-1))\n",
    "print(l)"
   ]
  },
  {
   "cell_type": "code",
   "execution_count": 41,
   "metadata": {},
   "outputs": [
    {
     "data": {
      "text/plain": [
       "list"
      ]
     },
     "execution_count": 41,
     "metadata": {},
     "output_type": "execute_result"
    }
   ],
   "source": [
    "type(l)"
   ]
  },
  {
   "cell_type": "code",
   "execution_count": 42,
   "metadata": {},
   "outputs": [
    {
     "ename": "IndexError",
     "evalue": "list assignment index out of range",
     "output_type": "error",
     "traceback": [
      "\u001b[1;31m---------------------------------------------------------------------------\u001b[0m",
      "\u001b[1;31mIndexError\u001b[0m                                Traceback (most recent call last)",
      "Cell \u001b[1;32mIn[42], line 1\u001b[0m\n\u001b[1;32m----> 1\u001b[0m l[\u001b[38;5;241m2\u001b[39m]\u001b[38;5;241m=\u001b[39m\u001b[38;5;241m5\u001b[39m\n",
      "\u001b[1;31mIndexError\u001b[0m: list assignment index out of range"
     ]
    }
   ],
   "source": [
    "l[2]=5"
   ]
  },
  {
   "cell_type": "code",
   "execution_count": 43,
   "metadata": {},
   "outputs": [
    {
     "ename": "IndexError",
     "evalue": "list assignment index out of range",
     "output_type": "error",
     "traceback": [
      "\u001b[1;31m---------------------------------------------------------------------------\u001b[0m",
      "\u001b[1;31mIndexError\u001b[0m                                Traceback (most recent call last)",
      "Cell \u001b[1;32mIn[43], line 1\u001b[0m\n\u001b[1;32m----> 1\u001b[0m l[\u001b[38;5;241m2\u001b[39m]\u001b[38;5;241m=\u001b[39m\u001b[38;5;28mint\u001b[39m(s)\n\u001b[0;32m      2\u001b[0m l\n",
      "\u001b[1;31mIndexError\u001b[0m: list assignment index out of range"
     ]
    }
   ],
   "source": [
    "l[2]=int(s)\n",
    "l"
   ]
  },
  {
   "cell_type": "markdown",
   "metadata": {
    "id": "-F7-YyDUrOXV"
   },
   "source": [
    "#### List repetition"
   ]
  },
  {
   "cell_type": "code",
   "execution_count": 44,
   "metadata": {
    "colab": {
     "base_uri": "https://localhost:8080/"
    },
    "executionInfo": {
     "elapsed": 5,
     "status": "ok",
     "timestamp": 1627234126892,
     "user": {
      "displayName": "Mohamed Sabry",
      "photoUrl": "https://lh3.googleusercontent.com/a-/AOh14GhbLJv6CX3dgBgLfw9OYqdgZmRW7NR-K1ZYgxL4=s64",
      "userId": "05412214076873003430"
     },
     "user_tz": -120
    },
    "id": "ab-7s7TwgpAr",
    "outputId": "aabffe5f-29f6-4cd1-e262-82f6f027d568"
   },
   "outputs": [
    {
     "name": "stdout",
     "output_type": "stream",
     "text": [
      "[0, 0, 0, 0]\n"
     ]
    }
   ],
   "source": [
    "#repititon\n",
    "l =[0] * 4\n",
    "print(l)"
   ]
  },
  {
   "cell_type": "markdown",
   "metadata": {
    "id": "9NDRXpk-hSpX"
   },
   "source": [
    "### Iterations on lists"
   ]
  },
  {
   "cell_type": "code",
   "execution_count": 46,
   "metadata": {},
   "outputs": [
    {
     "name": "stdout",
     "output_type": "stream",
     "text": [
      "1\n",
      "2\n",
      "3\n"
     ]
    },
    {
     "data": {
      "text/plain": [
       "[None, None, None]"
      ]
     },
     "execution_count": 46,
     "metadata": {},
     "output_type": "execute_result"
    }
   ],
   "source": [
    "[print(i) for i in [1,2,3]]"
   ]
  },
  {
   "cell_type": "code",
   "execution_count": 47,
   "metadata": {
    "colab": {
     "base_uri": "https://localhost:8080/"
    },
    "executionInfo": {
     "elapsed": 5,
     "status": "ok",
     "timestamp": 1627234128127,
     "user": {
      "displayName": "Mohamed Sabry",
      "photoUrl": "https://lh3.googleusercontent.com/a-/AOh14GhbLJv6CX3dgBgLfw9OYqdgZmRW7NR-K1ZYgxL4=s64",
      "userId": "05412214076873003430"
     },
     "user_tz": -120
    },
    "id": "hsjtv9xkhVbN",
    "outputId": "4863f6af-98a6-4770-e872-a8d1c226b7ed"
   },
   "outputs": [
    {
     "name": "stdout",
     "output_type": "stream",
     "text": [
      "True\n"
     ]
    }
   ],
   "source": [
    "#check membership\n",
    "print(3 in [1,2,3])"
   ]
  },
  {
   "cell_type": "code",
   "execution_count": 48,
   "metadata": {},
   "outputs": [
    {
     "name": "stdout",
     "output_type": "stream",
     "text": [
      "please enter number \n"
     ]
    },
    {
     "data": {
      "text/plain": [
       "''"
      ]
     },
     "execution_count": 48,
     "metadata": {},
     "output_type": "execute_result"
    }
   ],
   "source": [
    "input(\"please enter number \")"
   ]
  },
  {
   "cell_type": "code",
   "execution_count": 49,
   "metadata": {
    "colab": {
     "base_uri": "https://localhost:8080/"
    },
    "executionInfo": {
     "elapsed": 10,
     "status": "ok",
     "timestamp": 1627234128435,
     "user": {
      "displayName": "Mohamed Sabry",
      "photoUrl": "https://lh3.googleusercontent.com/a-/AOh14GhbLJv6CX3dgBgLfw9OYqdgZmRW7NR-K1ZYgxL4=s64",
      "userId": "05412214076873003430"
     },
     "user_tz": -120
    },
    "id": "ITY_Jl8bhdi-",
    "outputId": "454498c0-04e9-45ff-82c7-4c914662576b"
   },
   "outputs": [
    {
     "name": "stdout",
     "output_type": "stream",
     "text": [
      "1\n",
      "2\n",
      "3\n"
     ]
    }
   ],
   "source": [
    "#iterations\n",
    "for x in [1,2,3]:\n",
    "    print(x, end='\\n')"
   ]
  },
  {
   "cell_type": "code",
   "execution_count": 50,
   "metadata": {
    "colab": {
     "base_uri": "https://localhost:8080/"
    },
    "executionInfo": {
     "elapsed": 10,
     "status": "ok",
     "timestamp": 1627234128436,
     "user": {
      "displayName": "Mohamed Sabry",
      "photoUrl": "https://lh3.googleusercontent.com/a-/AOh14GhbLJv6CX3dgBgLfw9OYqdgZmRW7NR-K1ZYgxL4=s64",
      "userId": "05412214076873003430"
     },
     "user_tz": -120
    },
    "id": "5A8Q5wJUhqR2",
    "outputId": "660524da-9363-493c-faa4-c8b8619b71ac"
   },
   "outputs": [
    {
     "data": {
      "text/plain": [
       "['sss', 'ppp', 'aaa', 'mmm']"
      ]
     },
     "execution_count": 50,
     "metadata": {},
     "output_type": "execute_result"
    }
   ],
   "source": [
    "res = []\n",
    "for c in 'spam':\n",
    "    res.append(c*3)\n",
    "res"
   ]
  },
  {
   "cell_type": "code",
   "execution_count": 51,
   "metadata": {
    "colab": {
     "base_uri": "https://localhost:8080/"
    },
    "executionInfo": {
     "elapsed": 5,
     "status": "ok",
     "timestamp": 1627234128436,
     "user": {
      "displayName": "Mohamed Sabry",
      "photoUrl": "https://lh3.googleusercontent.com/a-/AOh14GhbLJv6CX3dgBgLfw9OYqdgZmRW7NR-K1ZYgxL4=s64",
      "userId": "05412214076873003430"
     },
     "user_tz": -120
    },
    "id": "hcZnEaE6h6nQ",
    "outputId": "63710571-933d-4936-a116-df5ff7b49130"
   },
   "outputs": [
    {
     "name": "stdout",
     "output_type": "stream",
     "text": [
      "3\n",
      "4\n",
      "[2, 3, 4, 5]\n",
      "[4, 5]\n",
      "[1, 2, 3, 4]\n",
      "[5, 4, 3, 2, 1]\n"
     ]
    }
   ],
   "source": [
    "l = [1,2,3,4,5]\n",
    "print(l[2])\n",
    "print(l[-2])\n",
    "print(l[1:])\n",
    "print(l[-2:])\n",
    "print(l[:-1])\n",
    "print(l[::-1])"
   ]
  },
  {
   "cell_type": "markdown",
   "metadata": {
    "id": "i7cEb2XJrhuH"
   },
   "source": [
    "#### Multi-dimensional lists"
   ]
  },
  {
   "cell_type": "code",
   "execution_count": 52,
   "metadata": {
    "colab": {
     "base_uri": "https://localhost:8080/"
    },
    "executionInfo": {
     "elapsed": 2,
     "status": "ok",
     "timestamp": 1627234129002,
     "user": {
      "displayName": "Mohamed Sabry",
      "photoUrl": "https://lh3.googleusercontent.com/a-/AOh14GhbLJv6CX3dgBgLfw9OYqdgZmRW7NR-K1ZYgxL4=s64",
      "userId": "05412214076873003430"
     },
     "user_tz": -120
    },
    "id": "TLu4E015iSK2",
    "outputId": "2cc74d03-fcf9-44e9-ba4d-f6710e6a9bdb"
   },
   "outputs": [
    {
     "name": "stdout",
     "output_type": "stream",
     "text": [
      "[[1, 2, 3], [4, 5, 6], [7, 8, 9]]\n",
      "[4, 5, 6]\n",
      "6\n"
     ]
    }
   ],
   "source": [
    "matrix = [[1, 2, 3], [4, 5, 6], [7, 8, 9]]\n",
    "print(matrix)\n",
    "print(matrix[1])\n",
    "print(matrix[1][2])"
   ]
  },
  {
   "cell_type": "code",
   "execution_count": 53,
   "metadata": {
    "colab": {
     "base_uri": "https://localhost:8080/"
    },
    "executionInfo": {
     "elapsed": 8,
     "status": "ok",
     "timestamp": 1627234129592,
     "user": {
      "displayName": "Mohamed Sabry",
      "photoUrl": "https://lh3.googleusercontent.com/a-/AOh14GhbLJv6CX3dgBgLfw9OYqdgZmRW7NR-K1ZYgxL4=s64",
      "userId": "05412214076873003430"
     },
     "user_tz": -120
    },
    "id": "yqPR2aIMi79T",
    "outputId": "ea19ebfe-6a22-4069-ed11-b10fc7d5c294"
   },
   "outputs": [
    {
     "name": "stdout",
     "output_type": "stream",
     "text": [
      "['a', 'x', 'c']\n",
      "['z', 'x']\n"
     ]
    }
   ],
   "source": [
    "l = ['a', 'b', 'c']\n",
    "l[1] = 'x'\n",
    "print(l)\n",
    "l[0:] = ['z','x']\n",
    "print(l)"
   ]
  },
  {
   "cell_type": "markdown",
   "metadata": {
    "id": "yZ7m_-DVrqXu"
   },
   "source": [
    "#### List Methods"
   ]
  },
  {
   "cell_type": "markdown",
   "metadata": {
    "id": "Otlb_-6UrtUn"
   },
   "source": [
    "count() method counts the number of occurences of certain elements in a list if exists."
   ]
  },
  {
   "cell_type": "code",
   "execution_count": 54,
   "metadata": {
    "colab": {
     "base_uri": "https://localhost:8080/"
    },
    "executionInfo": {
     "elapsed": 916,
     "status": "ok",
     "timestamp": 1627584680765,
     "user": {
      "displayName": "Mohamed Sabry",
      "photoUrl": "https://lh3.googleusercontent.com/a-/AOh14GhbLJv6CX3dgBgLfw9OYqdgZmRW7NR-K1ZYgxL4=s64",
      "userId": "05412214076873003430"
     },
     "user_tz": -120
    },
    "id": "Hz79o7pS1EZT",
    "outputId": "24965401-2757-41aa-f685-c041d96d1578"
   },
   "outputs": [
    {
     "data": {
      "text/plain": [
       "2"
      ]
     },
     "execution_count": 54,
     "metadata": {},
     "output_type": "execute_result"
    }
   ],
   "source": [
    "fruits = ['orange', 'apple', 'pear', 'banana', 'kiwi', 'apple', 'banana']\n",
    "fruits.count('apple')"
   ]
  },
  {
   "cell_type": "code",
   "execution_count": 55,
   "metadata": {
    "colab": {
     "base_uri": "https://localhost:8080/"
    },
    "executionInfo": {
     "elapsed": 14,
     "status": "ok",
     "timestamp": 1627584680766,
     "user": {
      "displayName": "Mohamed Sabry",
      "photoUrl": "https://lh3.googleusercontent.com/a-/AOh14GhbLJv6CX3dgBgLfw9OYqdgZmRW7NR-K1ZYgxL4=s64",
      "userId": "05412214076873003430"
     },
     "user_tz": -120
    },
    "id": "NLa7qORF1qZ9",
    "outputId": "7bb30a3b-2ec6-4d83-8bc0-72f90eabd63c"
   },
   "outputs": [
    {
     "data": {
      "text/plain": [
       "0"
      ]
     },
     "execution_count": 55,
     "metadata": {},
     "output_type": "execute_result"
    }
   ],
   "source": [
    "fruits.count('tangerine')"
   ]
  },
  {
   "cell_type": "markdown",
   "metadata": {
    "id": "uYhOhTNSr6Pp"
   },
   "source": [
    "index() method finds the index of a certain element in a list if exists"
   ]
  },
  {
   "cell_type": "code",
   "execution_count": 56,
   "metadata": {
    "colab": {
     "base_uri": "https://localhost:8080/"
    },
    "executionInfo": {
     "elapsed": 12,
     "status": "ok",
     "timestamp": 1627584680767,
     "user": {
      "displayName": "Mohamed Sabry",
      "photoUrl": "https://lh3.googleusercontent.com/a-/AOh14GhbLJv6CX3dgBgLfw9OYqdgZmRW7NR-K1ZYgxL4=s64",
      "userId": "05412214076873003430"
     },
     "user_tz": -120
    },
    "id": "B-1H2Zyg1sPi",
    "outputId": "8e2744ed-5490-42f3-8d2d-574240c6787f"
   },
   "outputs": [
    {
     "data": {
      "text/plain": [
       "3"
      ]
     },
     "execution_count": 56,
     "metadata": {},
     "output_type": "execute_result"
    }
   ],
   "source": [
    "\n",
    "fruits.index('banana',0)\n"
   ]
  },
  {
   "cell_type": "code",
   "execution_count": 58,
   "metadata": {
    "colab": {
     "base_uri": "https://localhost:8080/"
    },
    "executionInfo": {
     "elapsed": 10,
     "status": "ok",
     "timestamp": 1627584680767,
     "user": {
      "displayName": "Mohamed Sabry",
      "photoUrl": "https://lh3.googleusercontent.com/a-/AOh14GhbLJv6CX3dgBgLfw9OYqdgZmRW7NR-K1ZYgxL4=s64",
      "userId": "05412214076873003430"
     },
     "user_tz": -120
    },
    "id": "jM1M5oT71t-P",
    "outputId": "6a846442-c279-4fb7-9edc-c3bfa890eb04"
   },
   "outputs": [
    {
     "ename": "ValueError",
     "evalue": "'banana' is not in list",
     "output_type": "error",
     "traceback": [
      "\u001b[1;31m---------------------------------------------------------------------------\u001b[0m",
      "\u001b[1;31mValueError\u001b[0m                                Traceback (most recent call last)",
      "Cell \u001b[1;32mIn[58], line 1\u001b[0m\n\u001b[1;32m----> 1\u001b[0m \u001b[43mfruits\u001b[49m\u001b[38;5;241;43m.\u001b[39;49m\u001b[43mindex\u001b[49m\u001b[43m(\u001b[49m\u001b[38;5;124;43m'\u001b[39;49m\u001b[38;5;124;43mbanana\u001b[39;49m\u001b[38;5;124;43m'\u001b[39;49m\u001b[43m,\u001b[49m\u001b[43m \u001b[49m\u001b[38;5;241;43m4\u001b[39;49m\u001b[43m,\u001b[49m\u001b[38;5;241;43m5\u001b[39;49m\u001b[43m)\u001b[49m\n",
      "\u001b[1;31mValueError\u001b[0m: 'banana' is not in list"
     ]
    }
   ],
   "source": [
    "\n",
    "fruits.index('banana', 4,5)  # Find next banana starting a position 4\n"
   ]
  },
  {
   "cell_type": "code",
   "execution_count": 59,
   "metadata": {},
   "outputs": [
    {
     "data": {
      "text/plain": [
       "['orange', 'apple', 'pear', 'banana', 'kiwi', 'apple', 'banana']"
      ]
     },
     "execution_count": 59,
     "metadata": {},
     "output_type": "execute_result"
    }
   ],
   "source": [
    "fruits"
   ]
  },
  {
   "cell_type": "code",
   "execution_count": 60,
   "metadata": {
    "colab": {
     "base_uri": "https://localhost:8080/",
     "height": 166
    },
    "executionInfo": {
     "elapsed": 8,
     "status": "error",
     "timestamp": 1627584680768,
     "user": {
      "displayName": "Mohamed Sabry",
      "photoUrl": "https://lh3.googleusercontent.com/a-/AOh14GhbLJv6CX3dgBgLfw9OYqdgZmRW7NR-K1ZYgxL4=s64",
      "userId": "05412214076873003430"
     },
     "user_tz": -120
    },
    "id": "sYW4Xv-3sKOf",
    "outputId": "93405550-83c3-42ae-f5b2-d4f0040111e6"
   },
   "outputs": [
    {
     "data": {
      "text/plain": [
       "1"
      ]
     },
     "execution_count": 60,
     "metadata": {},
     "output_type": "execute_result"
    }
   ],
   "source": [
    "fruits.index('apple')"
   ]
  },
  {
   "cell_type": "markdown",
   "metadata": {
    "id": "EF6Ek11Bse2u"
   },
   "source": [
    "reverse() method reverses the elements of a list"
   ]
  },
  {
   "cell_type": "code",
   "execution_count": 61,
   "metadata": {
    "colab": {
     "base_uri": "https://localhost:8080/"
    },
    "executionInfo": {
     "elapsed": 6,
     "status": "ok",
     "timestamp": 1627584682314,
     "user": {
      "displayName": "Mohamed Sabry",
      "photoUrl": "https://lh3.googleusercontent.com/a-/AOh14GhbLJv6CX3dgBgLfw9OYqdgZmRW7NR-K1ZYgxL4=s64",
      "userId": "05412214076873003430"
     },
     "user_tz": -120
    },
    "id": "87SXih3V1vn5",
    "outputId": "e9a7dfcb-4517-4e66-c79c-81515288fe8a"
   },
   "outputs": [
    {
     "data": {
      "text/plain": [
       "['banana', 'apple', 'kiwi', 'banana', 'pear', 'apple', 'orange']"
      ]
     },
     "execution_count": 61,
     "metadata": {},
     "output_type": "execute_result"
    }
   ],
   "source": [
    "\n",
    "fruits.reverse()\n",
    "fruits\n"
   ]
  },
  {
   "cell_type": "markdown",
   "metadata": {
    "id": "0zc5l5lzska6"
   },
   "source": [
    "append() method appends a new element to the list"
   ]
  },
  {
   "cell_type": "code",
   "execution_count": 62,
   "metadata": {
    "colab": {
     "base_uri": "https://localhost:8080/"
    },
    "executionInfo": {
     "elapsed": 6,
     "status": "ok",
     "timestamp": 1627584685623,
     "user": {
      "displayName": "Mohamed Sabry",
      "photoUrl": "https://lh3.googleusercontent.com/a-/AOh14GhbLJv6CX3dgBgLfw9OYqdgZmRW7NR-K1ZYgxL4=s64",
      "userId": "05412214076873003430"
     },
     "user_tz": -120
    },
    "id": "6VA7sYad1xQF",
    "outputId": "142ed559-ba57-4820-af6a-e3016e2b03ad"
   },
   "outputs": [
    {
     "data": {
      "text/plain": [
       "['banana', 'apple', 'kiwi', 'banana', 'pear', 'apple', 'orange', 'grape']"
      ]
     },
     "execution_count": 62,
     "metadata": {},
     "output_type": "execute_result"
    }
   ],
   "source": [
    "\n",
    "fruits.append('grape')\n",
    "fruits\n"
   ]
  },
  {
   "cell_type": "markdown",
   "metadata": {
    "id": "sR_c8RlhsphX"
   },
   "source": [
    "sort() method sorts the elements of a list"
   ]
  },
  {
   "cell_type": "code",
   "execution_count": 63,
   "metadata": {
    "colab": {
     "base_uri": "https://localhost:8080/"
    },
    "executionInfo": {
     "elapsed": 549,
     "status": "ok",
     "timestamp": 1627584688405,
     "user": {
      "displayName": "Mohamed Sabry",
      "photoUrl": "https://lh3.googleusercontent.com/a-/AOh14GhbLJv6CX3dgBgLfw9OYqdgZmRW7NR-K1ZYgxL4=s64",
      "userId": "05412214076873003430"
     },
     "user_tz": -120
    },
    "id": "GfmCqdJG1y40",
    "outputId": "7c5e14d6-5bb4-41a4-ae98-0b625d822355"
   },
   "outputs": [
    {
     "data": {
      "text/plain": [
       "['apple', 'apple', 'banana', 'banana', 'grape', 'kiwi', 'orange', 'pear']"
      ]
     },
     "execution_count": 63,
     "metadata": {},
     "output_type": "execute_result"
    }
   ],
   "source": [
    "\n",
    "fruits.sort()\n",
    "fruits\n"
   ]
  },
  {
   "cell_type": "markdown",
   "metadata": {
    "id": "kVpwWp9nswpO"
   },
   "source": [
    "pop() method removes the last element from a list"
   ]
  },
  {
   "cell_type": "code",
   "execution_count": 64,
   "metadata": {
    "colab": {
     "base_uri": "https://localhost:8080/"
    },
    "executionInfo": {
     "elapsed": 7,
     "status": "ok",
     "timestamp": 1627584689679,
     "user": {
      "displayName": "Mohamed Sabry",
      "photoUrl": "https://lh3.googleusercontent.com/a-/AOh14GhbLJv6CX3dgBgLfw9OYqdgZmRW7NR-K1ZYgxL4=s64",
      "userId": "05412214076873003430"
     },
     "user_tz": -120
    },
    "id": "545W1ltM10X0",
    "outputId": "694a2d63-3a6e-4e8b-f774-2c670bee77da"
   },
   "outputs": [
    {
     "data": {
      "text/plain": [
       "['apple', 'apple', 'banana', 'banana', 'grape', 'kiwi', 'orange']"
      ]
     },
     "execution_count": 64,
     "metadata": {},
     "output_type": "execute_result"
    }
   ],
   "source": [
    "\n",
    "fruits.pop()\n",
    "fruits"
   ]
  },
  {
   "cell_type": "markdown",
   "metadata": {
    "id": "C-f6D_b3mi4V"
   },
   "source": [
    "insert() method to insert element at some position"
   ]
  },
  {
   "cell_type": "code",
   "execution_count": 65,
   "metadata": {
    "colab": {
     "base_uri": "https://localhost:8080/"
    },
    "executionInfo": {
     "elapsed": 5,
     "status": "ok",
     "timestamp": 1627584691928,
     "user": {
      "displayName": "Mohamed Sabry",
      "photoUrl": "https://lh3.googleusercontent.com/a-/AOh14GhbLJv6CX3dgBgLfw9OYqdgZmRW7NR-K1ZYgxL4=s64",
      "userId": "05412214076873003430"
     },
     "user_tz": -120
    },
    "id": "qbxzbtXAmY30",
    "outputId": "8332c8bb-b55c-4118-dca0-7dd6ae8bf20f"
   },
   "outputs": [
    {
     "data": {
      "text/plain": [
       "['apple',\n",
       " ['pineapple', 'pineapple'],\n",
       " 'apple',\n",
       " 'banana',\n",
       " 'banana',\n",
       " 'grape',\n",
       " 'kiwi',\n",
       " 'orange']"
      ]
     },
     "execution_count": 65,
     "metadata": {},
     "output_type": "execute_result"
    }
   ],
   "source": [
    "fruits.insert(1, [\"pineapple\",\"pineapple\"])\n",
    "fruits"
   ]
  },
  {
   "cell_type": "markdown",
   "metadata": {
    "id": "zaj9TAdKm4qc"
   },
   "source": [
    "remove() to remove element from list"
   ]
  },
  {
   "cell_type": "code",
   "execution_count": 66,
   "metadata": {},
   "outputs": [],
   "source": [
    "#fruits.drop(\"banana\")"
   ]
  },
  {
   "cell_type": "code",
   "execution_count": 67,
   "metadata": {
    "colab": {
     "base_uri": "https://localhost:8080/"
    },
    "executionInfo": {
     "elapsed": 564,
     "status": "ok",
     "timestamp": 1627584752566,
     "user": {
      "displayName": "Mohamed Sabry",
      "photoUrl": "https://lh3.googleusercontent.com/a-/AOh14GhbLJv6CX3dgBgLfw9OYqdgZmRW7NR-K1ZYgxL4=s64",
      "userId": "05412214076873003430"
     },
     "user_tz": -120
    },
    "id": "xIOKRKWZ6_Um",
    "outputId": "ae17a230-a873-4d3a-ff3e-50adfaaf376e"
   },
   "outputs": [
    {
     "data": {
      "text/plain": [
       "['apple',\n",
       " ['pineapple', 'pineapple'],\n",
       " 'apple',\n",
       " 'banana',\n",
       " 'banana',\n",
       " 'grape',\n",
       " 'kiwi',\n",
       " 'orange']"
      ]
     },
     "execution_count": 67,
     "metadata": {},
     "output_type": "execute_result"
    }
   ],
   "source": [
    "fruits.remove\n",
    "fruits"
   ]
  },
  {
   "cell_type": "markdown",
   "metadata": {
    "id": "ojZ0zE1OnPis"
   },
   "source": [
    "extend() method to extend a list with another list"
   ]
  },
  {
   "cell_type": "code",
   "execution_count": 68,
   "metadata": {
    "colab": {
     "base_uri": "https://localhost:8080/"
    },
    "executionInfo": {
     "elapsed": 272,
     "status": "ok",
     "timestamp": 1627584862611,
     "user": {
      "displayName": "Mohamed Sabry",
      "photoUrl": "https://lh3.googleusercontent.com/a-/AOh14GhbLJv6CX3dgBgLfw9OYqdgZmRW7NR-K1ZYgxL4=s64",
      "userId": "05412214076873003430"
     },
     "user_tz": -120
    },
    "id": "fTkAL2Zonf-Q",
    "outputId": "38c88751-aeab-416c-b89a-5230b8eac1d8"
   },
   "outputs": [
    {
     "data": {
      "text/plain": [
       "['apple',\n",
       " ['pineapple', 'pineapple'],\n",
       " 'apple',\n",
       " 'banana',\n",
       " 'banana',\n",
       " 'grape',\n",
       " 'kiwi',\n",
       " 'orange',\n",
       " 'orange',\n",
       " 'kiwi',\n",
       " 'orange',\n",
       " 'kiwi']"
      ]
     },
     "execution_count": 68,
     "metadata": {},
     "output_type": "execute_result"
    }
   ],
   "source": [
    "fruits.extend(['orange', 'kiwi'])\n",
    "fruits+['orange', 'kiwi']"
   ]
  },
  {
   "cell_type": "markdown",
   "metadata": {
    "id": "Gms99IXOllEi"
   },
   "source": [
    "\n",
    "\n",
    "## * Excersice 1\n",
    "\n",
    "\n",
    "    *   Assume you have alist contain the following values [1,2,3,4,5,6,7]\n",
    "        *   Write a Python program to sum all the items in a list.\n",
    "        *   Write a Python program to multiply all the items in a list\n",
    "        *   Write a Python program to get the smallest value in a list\n",
    "        *   Write a Python program to get the largest value in a list\n",
    "\n",
    "\n",
    "\n",
    "```\n",
    "Hint for sum\n",
    "\n",
    "    for x in items:\n",
    "        sum_numbers += x\n",
    "```\n",
    "```\n",
    "Hint for multiply\n",
    "\n",
    "    for x in items:\n",
    "        tot *= x\n",
    "```\n",
    "```\n",
    "Hint for smallest value\n",
    "\n",
    "    min = list[ 0 ]\n",
    "    for a in list:\n",
    "        if a < min:\n",
    "            min = a\n",
    "```\n",
    "```\n",
    "Hint for largest value\n",
    "\n",
    "    max = list[ 0 ]\n",
    "    for a in list:\n",
    "        if a > max:\n",
    "            max = a\n",
    "```\n",
    "\n",
    "\n",
    "\n",
    "\n",
    "\n"
   ]
  },
  {
   "cell_type": "code",
   "execution_count": null,
   "metadata": {
    "id": "KQXKKNWIBXNk"
   },
   "outputs": [],
   "source": [
    "#Type your code here\n",
    "l=[1,2,3,4,5,6,7]\n",
    "v=1\n",
    "for i in l:\n",
    "    v*=i\n",
    "print(v)\n",
    "\n",
    "\n",
    "\n",
    "\n"
   ]
  },
  {
   "cell_type": "code",
   "execution_count": null,
   "metadata": {},
   "outputs": [],
   "source": [
    "max=l[0]\n",
    "for i in l:\n",
    "    if i>max:\n",
    "        max=i\n",
    "print(max)"
   ]
  },
  {
   "cell_type": "markdown",
   "metadata": {
    "id": "A6p47uqdvDPw"
   },
   "source": [
    "## * Excersice   3.3\n",
    "\n",
    "    *   Given a two Python list. Iterate both lists simultaneously such that list1 should display item in original order and list2 in reverse order\n",
    "\n",
    "\n",
    "```\n",
    "Given:  list1 = [10, 20, 30, 40] , list2 = [100, 200, 300, 400]\n",
    "Expected output:  10 400\n",
    "                  20 300\n",
    "                  30 200\n",
    "                  40 100\n",
    "```\n",
    "\n",
    "```\n",
    "Hint : search and use zip() function\n",
    "```"
   ]
  },
  {
   "cell_type": "code",
   "execution_count": 70,
   "metadata": {},
   "outputs": [],
   "source": [
    "l1=[10,20,30,40]\n",
    "l2=[100,200,300,400]"
   ]
  },
  {
   "cell_type": "code",
   "execution_count": 72,
   "metadata": {},
   "outputs": [
    {
     "data": {
      "text/plain": [
       "40"
      ]
     },
     "execution_count": 72,
     "metadata": {},
     "output_type": "execute_result"
    }
   ],
   "source": [
    "l1.pop()"
   ]
  },
  {
   "cell_type": "code",
   "execution_count": null,
   "metadata": {},
   "outputs": [],
   "source": [
    "l=[]\n",
    "for i in range(len([10, 20, 30, 40])):\n",
    "    l.append((l1[i],l2[i])) \n",
    "print(l)"
   ]
  },
  {
   "cell_type": "code",
   "execution_count": null,
   "metadata": {},
   "outputs": [],
   "source": [
    "i,j=[20, 300]"
   ]
  },
  {
   "cell_type": "code",
   "execution_count": null,
   "metadata": {},
   "outputs": [],
   "source": [
    "print(i,j)"
   ]
  },
  {
   "cell_type": "code",
   "execution_count": null,
   "metadata": {},
   "outputs": [],
   "source": [
    "for i,j in zip([10, 20, 30, 40],[100, 200, 300, 400]):\n",
    "    print(i,j)"
   ]
  },
  {
   "cell_type": "code",
   "execution_count": null,
   "metadata": {
    "id": "OiY_ppX8wVZZ"
   },
   "outputs": [],
   "source": [
    "#Type your code here\n",
    "\n",
    "\n",
    "\n",
    "list1 = [10, 20, 30, 40]\n",
    "list2 = [100, 200, 300, 400]\n",
    "\n",
    "bb = list2[::-1]\n",
    "\n",
    "for (a,b) in zip(list1, bb):\n",
    "     print(a, b)\n",
    "\n",
    "\n",
    "\n"
   ]
  },
  {
   "cell_type": "code",
   "execution_count": null,
   "metadata": {},
   "outputs": [],
   "source": []
  },
  {
   "cell_type": "markdown",
   "metadata": {
    "id": "dCm5sbdN2juc"
   },
   "source": [
    "## <a id='tuples'></a> Tuples and Sequences\n",
    "We saw that lists and strings have many common properties, such as indexing and slicing operations. They are two examples of sequence data types (see Sequence Types — list, tuple, range). Since Python is an evolving language, other sequence data types may be added. There is also another standard sequence data type: the tuple.\n",
    "\n",
    "A tuple consists of a number of values separated by commas, for instance:"
   ]
  },
  {
   "cell_type": "markdown",
   "metadata": {
    "id": "POK07oR9tHRt"
   },
   "source": [
    "#### Defining a list"
   ]
  },
  {
   "cell_type": "code",
   "execution_count": null,
   "metadata": {
    "colab": {
     "base_uri": "https://localhost:8080/"
    },
    "executionInfo": {
     "elapsed": 376,
     "status": "ok",
     "timestamp": 1627234142990,
     "user": {
      "displayName": "Mohamed Sabry",
      "photoUrl": "https://lh3.googleusercontent.com/a-/AOh14GhbLJv6CX3dgBgLfw9OYqdgZmRW7NR-K1ZYgxL4=s64",
      "userId": "05412214076873003430"
     },
     "user_tz": -120
    },
    "id": "WRC9J5Ysjfaj",
    "outputId": "05cd6379-8c04-43f0-b51e-72522fc6ea0e"
   },
   "outputs": [],
   "source": [
    "#empty tuple\n",
    "t = ()\n",
    "print(t)\n",
    "print(type(t))"
   ]
  },
  {
   "cell_type": "code",
   "execution_count": null,
   "metadata": {
    "colab": {
     "base_uri": "https://localhost:8080/"
    },
    "executionInfo": {
     "elapsed": 995,
     "status": "ok",
     "timestamp": 1627234147001,
     "user": {
      "displayName": "Mohamed Sabry",
      "photoUrl": "https://lh3.googleusercontent.com/a-/AOh14GhbLJv6CX3dgBgLfw9OYqdgZmRW7NR-K1ZYgxL4=s64",
      "userId": "05412214076873003430"
     },
     "user_tz": -120
    },
    "id": "WgAbFOAv11vu",
    "outputId": "e9ecacb1-e7f8-4a72-e668-d523b44c69c5"
   },
   "outputs": [],
   "source": [
    "t = 12345, 54321, 'hello!'\n",
    "print(t[0])\n",
    "\n",
    "print(type(t))"
   ]
  },
  {
   "cell_type": "code",
   "execution_count": null,
   "metadata": {
    "colab": {
     "base_uri": "https://localhost:8080/"
    },
    "executionInfo": {
     "elapsed": 5,
     "status": "ok",
     "timestamp": 1627234147415,
     "user": {
      "displayName": "Mohamed Sabry",
      "photoUrl": "https://lh3.googleusercontent.com/a-/AOh14GhbLJv6CX3dgBgLfw9OYqdgZmRW7NR-K1ZYgxL4=s64",
      "userId": "05412214076873003430"
     },
     "user_tz": -120
    },
    "id": "8odeik_PjqZN",
    "outputId": "d6187504-8e5e-4816-f304-404f37868193"
   },
   "outputs": [],
   "source": [
    "t = (0,)\n",
    "print(len(t))"
   ]
  },
  {
   "cell_type": "markdown",
   "metadata": {
    "id": "SjTpwK6vtMGG"
   },
   "source": [
    "### Defining a list of different elements"
   ]
  },
  {
   "cell_type": "code",
   "execution_count": 19,
   "metadata": {
    "colab": {
     "base_uri": "https://localhost:8080/"
    },
    "executionInfo": {
     "elapsed": 3,
     "status": "ok",
     "timestamp": 1627234148883,
     "user": {
      "displayName": "Mohamed Sabry",
      "photoUrl": "https://lh3.googleusercontent.com/a-/AOh14GhbLJv6CX3dgBgLfw9OYqdgZmRW7NR-K1ZYgxL4=s64",
      "userId": "05412214076873003430"
     },
     "user_tz": -120
    },
    "id": "iu45sbaw2tTz",
    "outputId": "d8cd9a0b-47c4-4883-ffb8-c622190c7af0"
   },
   "outputs": [
    {
     "name": "stdout",
     "output_type": "stream",
     "text": [
      "(1, 2, [3, 5])\n"
     ]
    }
   ],
   "source": [
    "t = (1,2,[3,4])\n",
    "t[2][1]=5\n",
    "print(t)\n",
    "\n",
    "#t = (123,'123',1.23)\n",
    "#print(t[2][1])"
   ]
  },
  {
   "cell_type": "markdown",
   "metadata": {
    "id": "qCAPOzOStYfp"
   },
   "source": [
    "#### Nested tuples"
   ]
  },
  {
   "cell_type": "code",
   "execution_count": null,
   "metadata": {
    "colab": {
     "base_uri": "https://localhost:8080/"
    },
    "executionInfo": {
     "elapsed": 4,
     "status": "ok",
     "timestamp": 1627234149863,
     "user": {
      "displayName": "Mohamed Sabry",
      "photoUrl": "https://lh3.googleusercontent.com/a-/AOh14GhbLJv6CX3dgBgLfw9OYqdgZmRW7NR-K1ZYgxL4=s64",
      "userId": "05412214076873003430"
     },
     "user_tz": -120
    },
    "id": "dGTdDo-a2vCF",
    "outputId": "f3ff31ba-cdb9-4711-fa47-12e1b81b42a6"
   },
   "outputs": [],
   "source": [
    "# Tuples may be nested:\n",
    "u = t, (1, 2, 3, 4, 5)\n",
    "u\n"
   ]
  },
  {
   "cell_type": "markdown",
   "metadata": {
    "id": "bEFJtJehtS4N"
   },
   "source": [
    "Tuples immutability"
   ]
  },
  {
   "cell_type": "code",
   "execution_count": null,
   "metadata": {
    "colab": {
     "base_uri": "https://localhost:8080/",
     "height": 183
    },
    "executionInfo": {
     "elapsed": 309,
     "status": "error",
     "timestamp": 1627234160310,
     "user": {
      "displayName": "Mohamed Sabry",
      "photoUrl": "https://lh3.googleusercontent.com/a-/AOh14GhbLJv6CX3dgBgLfw9OYqdgZmRW7NR-K1ZYgxL4=s64",
      "userId": "05412214076873003430"
     },
     "user_tz": -120
    },
    "id": "2hvi2HZL2wZR",
    "outputId": "da04a6bd-7243-4818-a374-e93278dcb9d4"
   },
   "outputs": [],
   "source": [
    "# Tuples are immutable:\n",
    "t[0] = 88888"
   ]
  },
  {
   "cell_type": "markdown",
   "metadata": {
    "id": "SkVEn0thtWo4"
   },
   "source": []
  },
  {
   "cell_type": "code",
   "execution_count": null,
   "metadata": {
    "colab": {
     "base_uri": "https://localhost:8080/"
    },
    "executionInfo": {
     "elapsed": 743,
     "status": "ok",
     "timestamp": 1627234165088,
     "user": {
      "displayName": "Mohamed Sabry",
      "photoUrl": "https://lh3.googleusercontent.com/a-/AOh14GhbLJv6CX3dgBgLfw9OYqdgZmRW7NR-K1ZYgxL4=s64",
      "userId": "05412214076873003430"
     },
     "user_tz": -120
    },
    "id": "zgRPTJRz2x3_",
    "outputId": "12c538f9-3a8e-41a5-f10f-b4edf29138d5"
   },
   "outputs": [],
   "source": [
    "# but they can contain mutable objects:\n",
    "v = ([1, 2, 3], [3, 2, 1])\n",
    "v[0][1]=5\n",
    "v[0].pop()\n",
    "a,b=v\n",
    "print(a,b)"
   ]
  },
  {
   "cell_type": "markdown",
   "metadata": {
    "id": "MFmrPEbH3CPs"
   },
   "source": [
    "Though tuples may seem similar to lists, they are often used in different situations and for different purposes. Tuples are immutable, and usually contain a heterogeneous sequence of elements that are accessed via unpacking (see later in this section) or indexing (or even by attribute in the case of namedtuples). Lists are mutable, and their elements are usually homogeneous and are accessed by iterating over the list."
   ]
  },
  {
   "cell_type": "code",
   "execution_count": 94,
   "metadata": {
    "colab": {
     "base_uri": "https://localhost:8080/"
    },
    "executionInfo": {
     "elapsed": 526,
     "status": "ok",
     "timestamp": 1613210933504,
     "user": {
      "displayName": "Mohamed Sabry",
      "photoUrl": "https://lh3.googleusercontent.com/a-/AOh14GhbLJv6CX3dgBgLfw9OYqdgZmRW7NR-K1ZYgxL4=s64",
      "userId": "05412214076873003430"
     },
     "user_tz": -120
    },
    "id": "F6HPj1bX2ylp",
    "outputId": "0134ebdc-fd5f-4d86-fbc6-a8e24734d900"
   },
   "outputs": [
    {
     "name": "stdout",
     "output_type": "stream",
     "text": [
      "0\n",
      "1\n"
     ]
    },
    {
     "data": {
      "text/plain": [
       "('hi',)"
      ]
     },
     "execution_count": 94,
     "metadata": {},
     "output_type": "execute_result"
    }
   ],
   "source": [
    "empty = ()\n",
    "singleton = ('hi',)    # <-- note trailing comma\n",
    "print(len(empty))\n",
    "\n",
    "print(len(singleton))\n",
    "\n",
    "singleton\n"
   ]
  },
  {
   "cell_type": "code",
   "execution_count": 95,
   "metadata": {
    "colab": {
     "base_uri": "https://localhost:8080/",
     "height": 178
    },
    "executionInfo": {
     "elapsed": 566,
     "status": "error",
     "timestamp": 1613210998086,
     "user": {
      "displayName": "Mohamed Sabry",
      "photoUrl": "https://lh3.googleusercontent.com/a-/AOh14GhbLJv6CX3dgBgLfw9OYqdgZmRW7NR-K1ZYgxL4=s64",
      "userId": "05412214076873003430"
     },
     "user_tz": -120
    },
    "id": "bX1qL28P3VbK",
    "outputId": "649a0d92-c36e-4dbb-ff16-5be63b4c9e35"
   },
   "outputs": [
    {
     "ename": "IndexError",
     "evalue": "tuple index out of range",
     "output_type": "error",
     "traceback": [
      "\u001b[1;31m---------------------------------------------------------------------------\u001b[0m",
      "\u001b[1;31mIndexError\u001b[0m                                Traceback (most recent call last)",
      "Cell \u001b[1;32mIn[95], line 1\u001b[0m\n\u001b[1;32m----> 1\u001b[0m \u001b[43msingleton\u001b[49m\u001b[43m[\u001b[49m\u001b[38;5;241;43m1\u001b[39;49m\u001b[43m]\u001b[49m\n",
      "\u001b[1;31mIndexError\u001b[0m: tuple index out of range"
     ]
    }
   ],
   "source": [
    "singleton[1]"
   ]
  },
  {
   "cell_type": "code",
   "execution_count": null,
   "metadata": {
    "colab": {
     "base_uri": "https://localhost:8080/"
    },
    "executionInfo": {
     "elapsed": 407,
     "status": "ok",
     "timestamp": 1626862618147,
     "user": {
      "displayName": "Mohamed Sabry",
      "photoUrl": "https://lh3.googleusercontent.com/a-/AOh14GhbLJv6CX3dgBgLfw9OYqdgZmRW7NR-K1ZYgxL4=s64",
      "userId": "05412214076873003430"
     },
     "user_tz": -120
    },
    "id": "YbnrOjY1kUim",
    "outputId": "7360684f-5f8f-4e30-8394-4f9e65390894"
   },
   "outputs": [],
   "source": [
    "x = (40)\n",
    "print(type(x))"
   ]
  },
  {
   "cell_type": "code",
   "execution_count": null,
   "metadata": {
    "id": "Bthm1CDf3aM5"
   },
   "outputs": [],
   "source": [
    "t = 12345, 54321, 'hello!'\n",
    "\n",
    "x, y, z = t"
   ]
  },
  {
   "cell_type": "markdown",
   "metadata": {
    "id": "1MPtXIKmt0xa"
   },
   "source": [
    "#### Concatenating tuples"
   ]
  },
  {
   "cell_type": "code",
   "execution_count": null,
   "metadata": {
    "colab": {
     "base_uri": "https://localhost:8080/"
    },
    "executionInfo": {
     "elapsed": 330,
     "status": "ok",
     "timestamp": 1626862590107,
     "user": {
      "displayName": "Mohamed Sabry",
      "photoUrl": "https://lh3.googleusercontent.com/a-/AOh14GhbLJv6CX3dgBgLfw9OYqdgZmRW7NR-K1ZYgxL4=s64",
      "userId": "05412214076873003430"
     },
     "user_tz": -120
    },
    "id": "1DgPwMwokHW5",
    "outputId": "6909152a-ad25-4608-b685-dfd8e3c33d67"
   },
   "outputs": [],
   "source": [
    "t = (1,2) + (3,4)\n",
    "print(t)\n",
    "\n",
    "t = (1,2) * 2 \n",
    "print(t)\n"
   ]
  },
  {
   "cell_type": "code",
   "execution_count": null,
   "metadata": {
    "colab": {
     "base_uri": "https://localhost:8080/"
    },
    "executionInfo": {
     "elapsed": 356,
     "status": "ok",
     "timestamp": 1626862695616,
     "user": {
      "displayName": "Mohamed Sabry",
      "photoUrl": "https://lh3.googleusercontent.com/a-/AOh14GhbLJv6CX3dgBgLfw9OYqdgZmRW7NR-K1ZYgxL4=s64",
      "userId": "05412214076873003430"
     },
     "user_tz": -120
    },
    "id": "L23k97LYkdjL",
    "outputId": "b31a9564-cf95-4613-c95b-d0457ba071b8"
   },
   "outputs": [],
   "source": [
    "t = ('c', 'b', 'c', 'd')\n",
    "l = list(t)\n",
    "l.sort()\n",
    "print(l)\n",
    "t = tuple(l)\n",
    "print(t)"
   ]
  },
  {
   "cell_type": "markdown",
   "metadata": {
    "id": "b0kRlvO1kwEj"
   },
   "source": [
    "### Methods on tuples"
   ]
  },
  {
   "cell_type": "code",
   "execution_count": null,
   "metadata": {
    "colab": {
     "base_uri": "https://localhost:8080/",
     "height": 237
    },
    "executionInfo": {
     "elapsed": 427,
     "status": "error",
     "timestamp": 1626862754628,
     "user": {
      "displayName": "Mohamed Sabry",
      "photoUrl": "https://lh3.googleusercontent.com/a-/AOh14GhbLJv6CX3dgBgLfw9OYqdgZmRW7NR-K1ZYgxL4=s64",
      "userId": "05412214076873003430"
     },
     "user_tz": -120
    },
    "id": "WyV5FQaAkuGU",
    "outputId": "dd17f904-0c3c-4ead-cc37-de31575b1fca"
   },
   "outputs": [],
   "source": [
    "t = (1,2,3,2,2,4,5,3)\n",
    "print(t.index(2))\n",
    "print(t.count(2))\n",
    "print(t.sort())"
   ]
  },
  {
   "cell_type": "code",
   "execution_count": null,
   "metadata": {
    "colab": {
     "base_uri": "https://localhost:8080/",
     "height": 185
    },
    "executionInfo": {
     "elapsed": 330,
     "status": "error",
     "timestamp": 1626862802948,
     "user": {
      "displayName": "Mohamed Sabry",
      "photoUrl": "https://lh3.googleusercontent.com/a-/AOh14GhbLJv6CX3dgBgLfw9OYqdgZmRW7NR-K1ZYgxL4=s64",
      "userId": "05412214076873003430"
     },
     "user_tz": -120
    },
    "id": "8L6FaYSuk__J",
    "outputId": "26dcc0b0-c0d8-4909-ce6e-f0a005c93537"
   },
   "outputs": [],
   "source": [
    "t = (1,2,[1,2])\n",
    "t[1] = 2"
   ]
  },
  {
   "cell_type": "code",
   "execution_count": null,
   "metadata": {
    "colab": {
     "base_uri": "https://localhost:8080/"
    },
    "executionInfo": {
     "elapsed": 324,
     "status": "ok",
     "timestamp": 1626862824984,
     "user": {
      "displayName": "Mohamed Sabry",
      "photoUrl": "https://lh3.googleusercontent.com/a-/AOh14GhbLJv6CX3dgBgLfw9OYqdgZmRW7NR-K1ZYgxL4=s64",
      "userId": "05412214076873003430"
     },
     "user_tz": -120
    },
    "id": "xXZMmWZrlG9w",
    "outputId": "9d2f65e9-4948-4e62-b4be-a8bcb0523eb1"
   },
   "outputs": [],
   "source": [
    "t[2][0] = 2\n",
    "t"
   ]
  },
  {
   "cell_type": "markdown",
   "metadata": {
    "id": "2Qv448x7wY7_"
   },
   "source": [
    "## * Excersice   3.4\n",
    "\n",
    "    * Assume you have tuple contain the following values \n",
    "    \n",
    "    tuple_a =(10, 20, 30, 40, 50)\n",
    "    \n",
    "    *   Reverse the tuple \n",
    "       *   Swap the first and secind two vallues in tuples\n",
    "       \n",
    "       tuple_a =(20, 10, 40, 30, 50)\n",
    "       \n",
    "       *   Copy the Elements '10 , 20 ,30' to new tuple\n",
    "       *   Increament the value elements of tuple by 13\n",
    "\n",
    "\n",
    "\n"
   ]
  },
  {
   "cell_type": "code",
   "execution_count": null,
   "metadata": {},
   "outputs": [],
   "source": [
    "tuple_a =(20, 10, 30, 70, 50)\n",
    "l=list(tuple_a)\n",
    "l=l[::-1]\n",
    "tuple_a=tuple(l)"
   ]
  },
  {
   "cell_type": "code",
   "execution_count": null,
   "metadata": {},
   "outputs": [],
   "source": [
    "tuple_a"
   ]
  },
  {
   "cell_type": "code",
   "execution_count": null,
   "metadata": {},
   "outputs": [],
   "source": [
    "tuple_a =(20, 10, 30, 70, 50)\n",
    "swap_list=list(tuple_a)\n",
    "a=swap_list[0]\n",
    "swap_list[0]=swap_list[1]\n",
    "swap_list[1]=a\n",
    "tuple_a=tuple(swap_list)"
   ]
  },
  {
   "cell_type": "code",
   "execution_count": null,
   "metadata": {},
   "outputs": [],
   "source": [
    "tuple_a"
   ]
  },
  {
   "cell_type": "code",
   "execution_count": null,
   "metadata": {
    "id": "XpILg4B40SUj"
   },
   "outputs": [],
   "source": [
    "#Type your code here\n",
    "\n",
    "\n",
    "\n",
    "\n",
    "\n",
    "\n"
   ]
  },
  {
   "cell_type": "markdown",
   "metadata": {
    "id": "o7e-Z2no0UGy"
   },
   "source": [
    "\n",
    "\n",
    "##  Excersice   3.5\n",
    "    \n",
    "    *   Sort a tuple of tuples by 2nd item\n",
    "\n",
    "```\n",
    "Given tuple_a = (('a', 23),('b', 37),('c', 11), ('d',29))\n",
    "```\n",
    "```\n",
    "Expected Output = (('c', 11), ('a', 23), ('d', 29), ('b', 37))\n",
    "```\n",
    "    *Increament the value elements of tuple by 13"
   ]
  },
  {
   "cell_type": "code",
   "execution_count": null,
   "metadata": {
    "id": "y-FKLrOs0g9R"
   },
   "outputs": [],
   "source": [
    "#Type your code here\n",
    "\n",
    "\n",
    "\n",
    "\n"
   ]
  },
  {
   "cell_type": "markdown",
   "metadata": {
    "id": "hqyIRzjW027B"
   },
   "source": [
    "\n",
    "\n",
    "## * Excersice   3.6\n",
    "\n",
    "    *   Write a Python program to replace last value of tuples to 100.\n",
    "```\n",
    "Given : t = [(10, 20, 40), (40, 50, 60), (70, 80, 90)]\n",
    "```\n",
    "```\n",
    "Expected Output : [(10, 20, 100), (40, 50, 100), (70, 80, 100)]\n",
    "```"
   ]
  },
  {
   "cell_type": "code",
   "execution_count": null,
   "metadata": {},
   "outputs": [],
   "source": [
    "t = [(10, 20, 40), (40, 50, 60), (70, 80, 90)]\n",
    "for i in range(len(t)):\n",
    "    t[i]=list(t[i])\n",
    "    t[i][2]=100\n",
    "    t[i]=tuple(t[i])\n",
    "print(t)"
   ]
  },
  {
   "cell_type": "markdown",
   "metadata": {
    "id": "FOtZ3Aba4DxK"
   },
   "source": [
    "## <a id='dictionaries'></a> Dictionaries\n",
    "Another useful data type built into Python is the dictionary (see Mapping Types — dict). Dictionaries are sometimes found in other languages as “associative memories” or “associative arrays”. Unlike sequences, which are indexed by a range of numbers, dictionaries are indexed by keys, which can be any immutable type; strings and numbers can always be keys. Tuples can be used as keys if they contain only strings, numbers, or tuples; if a tuple contains any mutable object either directly or indirectly, it cannot be used as a key. You can’t use lists as keys, since lists can be modified in place using index assignments, slice assignments, or methods like append() and extend().\n",
    "\n",
    "It is best to think of a dictionary as a set of key: value pairs, with the requirement that the keys are unique (within one dictionary). A pair of braces creates an empty dictionary: {}. Placing a comma-separated list of key:value pairs within the braces adds initial key:value pairs to the dictionary; this is also the way dictionaries are written on output.\n",
    "\n",
    "The main operations on a dictionary are storing a value with some key and extracting the value given the key. It is also possible to delete a key:value pair with del. \n",
    "\n",
    "If you store using a key that is already in use, the old value associated with that key is forgotten. It is an error to extract a value using a non-existent key.\n",
    "\n",
    "Performing list(d) on a dictionary returns a list of all the keys used in the dictionary, in insertion order (if you want it sorted, just use sorted(d) instead). To check whether a single key is in the dictionary, use the in keyword."
   ]
  },
  {
   "cell_type": "code",
   "execution_count": null,
   "metadata": {},
   "outputs": [],
   "source": [
    "l=[1,2,3]\n",
    "l[0]=7\n",
    "l[4]=2"
   ]
  },
  {
   "cell_type": "code",
   "execution_count": null,
   "metadata": {},
   "outputs": [],
   "source": [
    "l"
   ]
  },
  {
   "cell_type": "markdown",
   "metadata": {
    "id": "OuPGDm9UuHRH"
   },
   "source": [
    "#### Defining a dictionary"
   ]
  },
  {
   "cell_type": "code",
   "execution_count": 20,
   "metadata": {
    "colab": {
     "base_uri": "https://localhost:8080/"
    },
    "executionInfo": {
     "elapsed": 333,
     "status": "ok",
     "timestamp": 1627234281737,
     "user": {
      "displayName": "Mohamed Sabry",
      "photoUrl": "https://lh3.googleusercontent.com/a-/AOh14GhbLJv6CX3dgBgLfw9OYqdgZmRW7NR-K1ZYgxL4=s64",
      "userId": "05412214076873003430"
     },
     "user_tz": -120
    },
    "id": "sEJhQ3No4AUN",
    "outputId": "9c26f9a1-da93-4aa7-edca-67eb8adcad73"
   },
   "outputs": [
    {
     "data": {
      "text/plain": [
       "{'jack': 4098, 'sape': 4139, 'guido': 4127}"
      ]
     },
     "execution_count": 20,
     "metadata": {},
     "output_type": "execute_result"
    }
   ],
   "source": [
    "tel = {'jack': 4098, 'sape': 4139}\n",
    "tel['guido'] = 4127\n",
    "tel\n"
   ]
  },
  {
   "cell_type": "markdown",
   "metadata": {
    "id": "c94vT-YGuMM6"
   },
   "source": [
    "#### Indexing a dictionary"
   ]
  },
  {
   "cell_type": "code",
   "execution_count": 21,
   "metadata": {},
   "outputs": [
    {
     "data": {
      "text/plain": [
       "4098"
      ]
     },
     "execution_count": 21,
     "metadata": {},
     "output_type": "execute_result"
    }
   ],
   "source": [
    "tel[\"jack\"]"
   ]
  },
  {
   "cell_type": "code",
   "execution_count": 32,
   "metadata": {},
   "outputs": [
    {
     "name": "stdout",
     "output_type": "stream",
     "text": [
      "jack\n",
      "sape\n",
      "guido\n"
     ]
    }
   ],
   "source": [
    "for i in tel:print(i)"
   ]
  },
  {
   "cell_type": "markdown",
   "metadata": {
    "id": "7mWSygGbuRzH"
   },
   "source": [
    "#### Delete a dictionary item"
   ]
  },
  {
   "cell_type": "code",
   "execution_count": null,
   "metadata": {
    "colab": {
     "base_uri": "https://localhost:8080/"
    },
    "executionInfo": {
     "elapsed": 526,
     "status": "ok",
     "timestamp": 1627234323883,
     "user": {
      "displayName": "Mohamed Sabry",
      "photoUrl": "https://lh3.googleusercontent.com/a-/AOh14GhbLJv6CX3dgBgLfw9OYqdgZmRW7NR-K1ZYgxL4=s64",
      "userId": "05412214076873003430"
     },
     "user_tz": -120
    },
    "id": "VJaB4ENf4NHo",
    "outputId": "94382eee-87a1-4c99-c95d-8dcce1a281b0"
   },
   "outputs": [],
   "source": [
    "del tel['sape']\n",
    "tel['irv'] = 4127\n",
    "tel\n"
   ]
  },
  {
   "cell_type": "markdown",
   "metadata": {
    "id": "DW1aS-O-uZcy"
   },
   "source": [
    "#### Converting list keys to a dictionary"
   ]
  },
  {
   "cell_type": "code",
   "execution_count": null,
   "metadata": {},
   "outputs": [],
   "source": [
    "for i in tel.values(): print(i)"
   ]
  },
  {
   "cell_type": "code",
   "execution_count": null,
   "metadata": {
    "colab": {
     "base_uri": "https://localhost:8080/"
    },
    "executionInfo": {
     "elapsed": 309,
     "status": "ok",
     "timestamp": 1627234359758,
     "user": {
      "displayName": "Mohamed Sabry",
      "photoUrl": "https://lh3.googleusercontent.com/a-/AOh14GhbLJv6CX3dgBgLfw9OYqdgZmRW7NR-K1ZYgxL4=s64",
      "userId": "05412214076873003430"
     },
     "user_tz": -120
    },
    "id": "unNKONUK4OlZ",
    "outputId": "5dae84fd-9c60-4bad-9d10-87db9a09423c"
   },
   "outputs": [],
   "source": [
    "\n",
    "list(tel.values())\n",
    "\n",
    "\n",
    "\n"
   ]
  },
  {
   "cell_type": "markdown",
   "metadata": {
    "id": "3PdULEFNuhNb"
   },
   "source": [
    "#### Membership operations on dictionary"
   ]
  },
  {
   "cell_type": "code",
   "execution_count": null,
   "metadata": {
    "colab": {
     "base_uri": "https://localhost:8080/"
    },
    "executionInfo": {
     "elapsed": 334,
     "status": "ok",
     "timestamp": 1627234392095,
     "user": {
      "displayName": "Mohamed Sabry",
      "photoUrl": "https://lh3.googleusercontent.com/a-/AOh14GhbLJv6CX3dgBgLfw9OYqdgZmRW7NR-K1ZYgxL4=s64",
      "userId": "05412214076873003430"
     },
     "user_tz": -120
    },
    "id": "A4qp4Wyf4QYU",
    "outputId": "e453aa2d-b0fe-4561-a051-b9c690108919"
   },
   "outputs": [],
   "source": [
    "4098 in tel\n",
    "\n"
   ]
  },
  {
   "cell_type": "code",
   "execution_count": null,
   "metadata": {
    "colab": {
     "base_uri": "https://localhost:8080/"
    },
    "executionInfo": {
     "elapsed": 6,
     "status": "ok",
     "timestamp": 1627234393383,
     "user": {
      "displayName": "Mohamed Sabry",
      "photoUrl": "https://lh3.googleusercontent.com/a-/AOh14GhbLJv6CX3dgBgLfw9OYqdgZmRW7NR-K1ZYgxL4=s64",
      "userId": "05412214076873003430"
     },
     "user_tz": -120
    },
    "id": "uucZi8xv4RYf",
    "outputId": "b63070c3-04ae-4226-aac5-a7e19547cfdd"
   },
   "outputs": [],
   "source": [
    "'jack' not in tel"
   ]
  },
  {
   "cell_type": "markdown",
   "metadata": {
    "id": "-4WZ9LvGupUD"
   },
   "source": [
    "#### Casting a list to dictionary"
   ]
  },
  {
   "cell_type": "code",
   "execution_count": 36,
   "metadata": {
    "colab": {
     "base_uri": "https://localhost:8080/"
    },
    "executionInfo": {
     "elapsed": 356,
     "status": "ok",
     "timestamp": 1627234436023,
     "user": {
      "displayName": "Mohamed Sabry",
      "photoUrl": "https://lh3.googleusercontent.com/a-/AOh14GhbLJv6CX3dgBgLfw9OYqdgZmRW7NR-K1ZYgxL4=s64",
      "userId": "05412214076873003430"
     },
     "user_tz": -120
    },
    "id": "mcuykhcw4RxG",
    "outputId": "52147779-3756-4d76-f952-4532a591a6d2"
   },
   "outputs": [
    {
     "ename": "ValueError",
     "evalue": "dictionary update sequence element #0 has length 4; 2 is required",
     "output_type": "error",
     "traceback": [
      "\u001b[1;31m---------------------------------------------------------------------------\u001b[0m",
      "\u001b[1;31mValueError\u001b[0m                                Traceback (most recent call last)",
      "Cell \u001b[1;32mIn[36], line 1\u001b[0m\n\u001b[1;32m----> 1\u001b[0m \u001b[38;5;28;43mdict\u001b[39;49m\u001b[43m(\u001b[49m\u001b[43m[\u001b[49m\u001b[38;5;124;43m'\u001b[39;49m\u001b[38;5;124;43msape\u001b[39;49m\u001b[38;5;124;43m'\u001b[39;49m\u001b[43m,\u001b[49m\u001b[43m \u001b[49m\u001b[38;5;241;43m4139\u001b[39;49m\u001b[43m]\u001b[49m\u001b[43m)\u001b[49m\n",
      "\u001b[1;31mValueError\u001b[0m: dictionary update sequence element #0 has length 4; 2 is required"
     ]
    }
   ],
   "source": [
    "dict(['sape', 4139])\n"
   ]
  },
  {
   "cell_type": "markdown",
   "metadata": {
    "id": "lgsSDfU_u9kt"
   },
   "source": [
    "#### Nested dictionaries"
   ]
  },
  {
   "cell_type": "code",
   "execution_count": null,
   "metadata": {
    "colab": {
     "base_uri": "https://localhost:8080/"
    },
    "executionInfo": {
     "elapsed": 357,
     "status": "ok",
     "timestamp": 1627234511717,
     "user": {
      "displayName": "Mohamed Sabry",
      "photoUrl": "https://lh3.googleusercontent.com/a-/AOh14GhbLJv6CX3dgBgLfw9OYqdgZmRW7NR-K1ZYgxL4=s64",
      "userId": "05412214076873003430"
     },
     "user_tz": -120
    },
    "id": "41nMYfyomG1r",
    "outputId": "109a1d0e-1296-410f-cc58-03df0434f8fb"
   },
   "outputs": [],
   "source": [
    "d = {'cto': {'name': 'Bob', 'age': 40}\n",
    "d['cto']\n"
   ]
  },
  {
   "cell_type": "markdown",
   "metadata": {
    "id": "W0pJzJOOvHvc"
   },
   "source": [
    "#### More on lists"
   ]
  },
  {
   "cell_type": "code",
   "execution_count": null,
   "metadata": {
    "colab": {
     "base_uri": "https://localhost:8080/"
    },
    "executionInfo": {
     "elapsed": 305,
     "status": "ok",
     "timestamp": 1627234548569,
     "user": {
      "displayName": "Mohamed Sabry",
      "photoUrl": "https://lh3.googleusercontent.com/a-/AOh14GhbLJv6CX3dgBgLfw9OYqdgZmRW7NR-K1ZYgxL4=s64",
      "userId": "05412214076873003430"
     },
     "user_tz": -120
    },
    "id": "qukA8XhMmMs-",
    "outputId": "f269731e-e7ed-40fb-f30f-ce85ec0fa76c"
   },
   "outputs": [],
   "source": [
    "d = dict(name='bob', age=40)\n",
    "d"
   ]
  },
  {
   "cell_type": "code",
   "execution_count": null,
   "metadata": {
    "executionInfo": {
     "elapsed": 2,
     "status": "ok",
     "timestamp": 1627234548855,
     "user": {
      "displayName": "Mohamed Sabry",
      "photoUrl": "https://lh3.googleusercontent.com/a-/AOh14GhbLJv6CX3dgBgLfw9OYqdgZmRW7NR-K1ZYgxL4=s64",
      "userId": "05412214076873003430"
     },
     "user_tz": -120
    },
    "id": "TpnTX1djmMvQ"
   },
   "outputs": [],
   "source": [
    "d  = dict([('name', 'Bob'), ('age', 40)])"
   ]
  },
  {
   "cell_type": "code",
   "execution_count": null,
   "metadata": {
    "colab": {
     "base_uri": "https://localhost:8080/"
    },
    "executionInfo": {
     "elapsed": 457,
     "status": "ok",
     "timestamp": 1627234551140,
     "user": {
      "displayName": "Mohamed Sabry",
      "photoUrl": "https://lh3.googleusercontent.com/a-/AOh14GhbLJv6CX3dgBgLfw9OYqdgZmRW7NR-K1ZYgxL4=s64",
      "userId": "05412214076873003430"
     },
     "user_tz": -120
    },
    "id": "qD7sM09pmMx6",
    "outputId": "1c2276e5-1ce2-45c5-bfd0-73b3449ce261"
   },
   "outputs": [],
   "source": [
    "D = {'spam': 2, 'ham': 1, 'eggs': 3} \n",
    "D['spam']"
   ]
  },
  {
   "cell_type": "markdown",
   "metadata": {
    "id": "gjrxYo5Vv9EH"
   },
   "source": [
    "#### Delete list elements"
   ]
  },
  {
   "cell_type": "code",
   "execution_count": null,
   "metadata": {
    "id": "anKYaqcYmM9I"
   },
   "outputs": [],
   "source": [
    "del D['eggs']"
   ]
  },
  {
   "cell_type": "code",
   "execution_count": null,
   "metadata": {
    "colab": {
     "base_uri": "https://localhost:8080/"
    },
    "executionInfo": {
     "elapsed": 316,
     "status": "ok",
     "timestamp": 1627234554341,
     "user": {
      "displayName": "Mohamed Sabry",
      "photoUrl": "https://lh3.googleusercontent.com/a-/AOh14GhbLJv6CX3dgBgLfw9OYqdgZmRW7NR-K1ZYgxL4=s64",
      "userId": "05412214076873003430"
     },
     "user_tz": -120
    },
    "id": "8b_73yx8mM0e",
    "outputId": "355e013a-26f8-430c-f3ae-644be8bfbbc7"
   },
   "outputs": [],
   "source": [
    "len(D)"
   ]
  },
  {
   "cell_type": "code",
   "execution_count": null,
   "metadata": {
    "colab": {
     "base_uri": "https://localhost:8080/"
    },
    "executionInfo": {
     "elapsed": 2,
     "status": "ok",
     "timestamp": 1627234554653,
     "user": {
      "displayName": "Mohamed Sabry",
      "photoUrl": "https://lh3.googleusercontent.com/a-/AOh14GhbLJv6CX3dgBgLfw9OYqdgZmRW7NR-K1ZYgxL4=s64",
      "userId": "05412214076873003430"
     },
     "user_tz": -120
    },
    "id": "1mrs1bFwmM3a",
    "outputId": "e8eec91d-5044-446a-997c-c68bfb5e8c3f"
   },
   "outputs": [],
   "source": [
    "print('ham' in D)"
   ]
  },
  {
   "cell_type": "code",
   "execution_count": null,
   "metadata": {
    "colab": {
     "base_uri": "https://localhost:8080/"
    },
    "executionInfo": {
     "elapsed": 316,
     "status": "ok",
     "timestamp": 1626863586193,
     "user": {
      "displayName": "Mohamed Sabry",
      "photoUrl": "https://lh3.googleusercontent.com/a-/AOh14GhbLJv6CX3dgBgLfw9OYqdgZmRW7NR-K1ZYgxL4=s64",
      "userId": "05412214076873003430"
     },
     "user_tz": -120
    },
    "id": "wj_ZOR_5mM57",
    "outputId": "05058358-5ad0-4f25-9db7-18ea40ebd88f"
   },
   "outputs": [],
   "source": [
    "list(D.keys())"
   ]
  },
  {
   "cell_type": "code",
   "execution_count": null,
   "metadata": {
    "colab": {
     "base_uri": "https://localhost:8080/"
    },
    "executionInfo": {
     "elapsed": 6,
     "status": "ok",
     "timestamp": 1626863611223,
     "user": {
      "displayName": "Mohamed Sabry",
      "photoUrl": "https://lh3.googleusercontent.com/a-/AOh14GhbLJv6CX3dgBgLfw9OYqdgZmRW7NR-K1ZYgxL4=s64",
      "userId": "05412214076873003430"
     },
     "user_tz": -120
    },
    "id": "RK5ecIcDmM_C",
    "outputId": "bb1df605-6c0d-4693-8ff2-303d65a655aa"
   },
   "outputs": [],
   "source": [
    "D"
   ]
  },
  {
   "cell_type": "code",
   "execution_count": null,
   "metadata": {},
   "outputs": [],
   "source": [
    "l=[x**2 for x in (2,4,6)]\n",
    "l"
   ]
  },
  {
   "cell_type": "code",
   "execution_count": 37,
   "metadata": {
    "colab": {
     "base_uri": "https://localhost:8080/"
    },
    "executionInfo": {
     "elapsed": 523,
     "status": "ok",
     "timestamp": 1613211203272,
     "user": {
      "displayName": "Mohamed Sabry",
      "photoUrl": "https://lh3.googleusercontent.com/a-/AOh14GhbLJv6CX3dgBgLfw9OYqdgZmRW7NR-K1ZYgxL4=s64",
      "userId": "05412214076873003430"
     },
     "user_tz": -120
    },
    "id": "cOp_G4F_4UNX",
    "outputId": "d78ad069-1160-46fb-ba2f-c1fd03af7531"
   },
   "outputs": [
    {
     "data": {
      "text/plain": [
       "{2: 4, 4: 16, 6: 36}"
      ]
     },
     "execution_count": 37,
     "metadata": {},
     "output_type": "execute_result"
    }
   ],
   "source": [
    "{x: x**2 for x in [2, 4, 6]}\n"
   ]
  },
  {
   "cell_type": "markdown",
   "metadata": {
    "id": "EDCus440wHBS"
   },
   "source": [
    "#### Adding new elements to dictionaries"
   ]
  },
  {
   "cell_type": "code",
   "execution_count": 38,
   "metadata": {
    "colab": {
     "base_uri": "https://localhost:8080/"
    },
    "executionInfo": {
     "elapsed": 321,
     "status": "ok",
     "timestamp": 1626863632143,
     "user": {
      "displayName": "Mohamed Sabry",
      "photoUrl": "https://lh3.googleusercontent.com/a-/AOh14GhbLJv6CX3dgBgLfw9OYqdgZmRW7NR-K1ZYgxL4=s64",
      "userId": "05412214076873003430"
     },
     "user_tz": -120
    },
    "id": "zCwqnnRooLbX",
    "outputId": "7ab02de9-3500-49ad-d444-71c476cdb1df"
   },
   "outputs": [
    {
     "ename": "NameError",
     "evalue": "name 'D' is not defined",
     "output_type": "error",
     "traceback": [
      "\u001b[1;31m---------------------------------------------------------------------------\u001b[0m",
      "\u001b[1;31mNameError\u001b[0m                                 Traceback (most recent call last)",
      "Cell \u001b[1;32mIn[38], line 1\u001b[0m\n\u001b[1;32m----> 1\u001b[0m \u001b[43mD\u001b[49m[\u001b[38;5;124m'\u001b[39m\u001b[38;5;124mbrunch\u001b[39m\u001b[38;5;124m'\u001b[39m] \u001b[38;5;241m=\u001b[39m \u001b[38;5;124m'\u001b[39m\u001b[38;5;124mmeat\u001b[39m\u001b[38;5;124m'\u001b[39m\n\u001b[0;32m      2\u001b[0m D\n",
      "\u001b[1;31mNameError\u001b[0m: name 'D' is not defined"
     ]
    }
   ],
   "source": [
    "D['brunch'] = 'meat'\n",
    "D"
   ]
  },
  {
   "cell_type": "markdown",
   "metadata": {
    "id": "CRS2ShD-wnaZ"
   },
   "source": [
    "\n",
    "#### Accessing values of dictionaries or items \"key-value pairs\""
   ]
  },
  {
   "cell_type": "code",
   "execution_count": 39,
   "metadata": {
    "colab": {
     "base_uri": "https://localhost:8080/"
    },
    "executionInfo": {
     "elapsed": 390,
     "status": "ok",
     "timestamp": 1626863733636,
     "user": {
      "displayName": "Mohamed Sabry",
      "photoUrl": "https://lh3.googleusercontent.com/a-/AOh14GhbLJv6CX3dgBgLfw9OYqdgZmRW7NR-K1ZYgxL4=s64",
      "userId": "05412214076873003430"
     },
     "user_tz": -120
    },
    "id": "kUeK2giQoPp6",
    "outputId": "2e67ecec-6afa-412a-9c79-d1a269f0ff38"
   },
   "outputs": [
    {
     "data": {
      "text/plain": [
       "dict_values([2, 1, 3])"
      ]
     },
     "execution_count": 39,
     "metadata": {},
     "output_type": "execute_result"
    }
   ],
   "source": [
    "D = {'spam': 2, 'ham': 1, 'eggs': 3}\n",
    "D.values()\n"
   ]
  },
  {
   "cell_type": "code",
   "execution_count": 40,
   "metadata": {
    "colab": {
     "base_uri": "https://localhost:8080/"
    },
    "executionInfo": {
     "elapsed": 430,
     "status": "ok",
     "timestamp": 1626863755911,
     "user": {
      "displayName": "Mohamed Sabry",
      "photoUrl": "https://lh3.googleusercontent.com/a-/AOh14GhbLJv6CX3dgBgLfw9OYqdgZmRW7NR-K1ZYgxL4=s64",
      "userId": "05412214076873003430"
     },
     "user_tz": -120
    },
    "id": "cveZvuYWoohH",
    "outputId": "46102000-e5e1-44a9-b2ee-dc6a81eb1576"
   },
   "outputs": [
    {
     "data": {
      "text/plain": [
       "[('spam', 2), ('ham', 1), ('eggs', 3)]"
      ]
     },
     "execution_count": 40,
     "metadata": {},
     "output_type": "execute_result"
    }
   ],
   "source": [
    "list(D.items())"
   ]
  },
  {
   "cell_type": "markdown",
   "metadata": {
    "id": "qj3UIcBYvRsc"
   },
   "source": [
    "#### Dictionaries methods"
   ]
  },
  {
   "cell_type": "markdown",
   "metadata": {
    "id": "9r0nrl2XwzBI"
   },
   "source": [
    "get() method to get the value of some key"
   ]
  },
  {
   "cell_type": "code",
   "execution_count": 45,
   "metadata": {},
   "outputs": [
    {
     "ename": "KeyError",
     "evalue": "'toast'",
     "output_type": "error",
     "traceback": [
      "\u001b[1;31m---------------------------------------------------------------------------\u001b[0m",
      "\u001b[1;31mKeyError\u001b[0m                                  Traceback (most recent call last)",
      "Cell \u001b[1;32mIn[45], line 1\u001b[0m\n\u001b[1;32m----> 1\u001b[0m \u001b[43mD\u001b[49m\u001b[43m[\u001b[49m\u001b[38;5;124;43m\"\u001b[39;49m\u001b[38;5;124;43mtoast\u001b[39;49m\u001b[38;5;124;43m\"\u001b[39;49m\u001b[43m]\u001b[49m\n",
      "\u001b[1;31mKeyError\u001b[0m: 'toast'"
     ]
    }
   ],
   "source": [
    "D[\"toast\"]"
   ]
  },
  {
   "cell_type": "code",
   "execution_count": 41,
   "metadata": {
    "colab": {
     "base_uri": "https://localhost:8080/"
    },
    "executionInfo": {
     "elapsed": 325,
     "status": "ok",
     "timestamp": 1626863834626,
     "user": {
      "displayName": "Mohamed Sabry",
      "photoUrl": "https://lh3.googleusercontent.com/a-/AOh14GhbLJv6CX3dgBgLfw9OYqdgZmRW7NR-K1ZYgxL4=s64",
      "userId": "05412214076873003430"
     },
     "user_tz": -120
    },
    "id": "gOebv2owot85",
    "outputId": "f15140e0-c53e-486e-d194-37505c515f61"
   },
   "outputs": [
    {
     "data": {
      "text/plain": [
       "2"
      ]
     },
     "execution_count": 41,
     "metadata": {},
     "output_type": "execute_result"
    }
   ],
   "source": [
    "D.get('spam')"
   ]
  },
  {
   "cell_type": "code",
   "execution_count": 42,
   "metadata": {
    "colab": {
     "base_uri": "https://localhost:8080/"
    },
    "executionInfo": {
     "elapsed": 327,
     "status": "ok",
     "timestamp": 1626863862942,
     "user": {
      "displayName": "Mohamed Sabry",
      "photoUrl": "https://lh3.googleusercontent.com/a-/AOh14GhbLJv6CX3dgBgLfw9OYqdgZmRW7NR-K1ZYgxL4=s64",
      "userId": "05412214076873003430"
     },
     "user_tz": -120
    },
    "id": "qbUZPR5Dowr6",
    "outputId": "e147fe95-8ba5-4883-915e-4d6356c34842"
   },
   "outputs": [
    {
     "name": "stdout",
     "output_type": "stream",
     "text": [
      "None\n"
     ]
    }
   ],
   "source": [
    "print(D.get('toast'))"
   ]
  },
  {
   "cell_type": "markdown",
   "metadata": {
    "id": "6qNVlDYfw7n6"
   },
   "source": [
    "update() method to add the new dict elemnts to an existing one only if they are not already there"
   ]
  },
  {
   "cell_type": "code",
   "execution_count": 43,
   "metadata": {
    "colab": {
     "base_uri": "https://localhost:8080/"
    },
    "executionInfo": {
     "elapsed": 292,
     "status": "ok",
     "timestamp": 1627235114839,
     "user": {
      "displayName": "Mohamed Sabry",
      "photoUrl": "https://lh3.googleusercontent.com/a-/AOh14GhbLJv6CX3dgBgLfw9OYqdgZmRW7NR-K1ZYgxL4=s64",
      "userId": "05412214076873003430"
     },
     "user_tz": -120
    },
    "id": "iYWjQKNFpCoW",
    "outputId": "bffd6d16-b713-4d78-fa89-883f28751994"
   },
   "outputs": [
    {
     "data": {
      "text/plain": [
       "{'spam': 2, 'ham': 5, 'eggs': 3, 'muffin': 5}"
      ]
     },
     "execution_count": 43,
     "metadata": {},
     "output_type": "execute_result"
    }
   ],
   "source": [
    "D2 = {'ham':5, 'muffin' : 5}\n",
    "D.update(D2)\n",
    "D\n",
    "\n"
   ]
  },
  {
   "cell_type": "markdown",
   "metadata": {
    "id": "E-uPqqgTxZ8U"
   },
   "source": [
    "Deleting key-value  pairs from a dictionary"
   ]
  },
  {
   "cell_type": "code",
   "execution_count": 46,
   "metadata": {
    "colab": {
     "base_uri": "https://localhost:8080/",
     "height": 201
    },
    "executionInfo": {
     "elapsed": 383,
     "status": "error",
     "timestamp": 1627235157375,
     "user": {
      "displayName": "Mohamed Sabry",
      "photoUrl": "https://lh3.googleusercontent.com/a-/AOh14GhbLJv6CX3dgBgLfw9OYqdgZmRW7NR-K1ZYgxL4=s64",
      "userId": "05412214076873003430"
     },
     "user_tz": -120
    },
    "id": "_uY-tWQXpQtL",
    "outputId": "2dcfb4c4-2049-4fca-b6a3-162d75fc7b8d"
   },
   "outputs": [
    {
     "data": {
      "text/plain": [
       "5"
      ]
     },
     "execution_count": 46,
     "metadata": {},
     "output_type": "execute_result"
    }
   ],
   "source": [
    "\n",
    "D.pop('muffin')\n",
    "\n"
   ]
  },
  {
   "cell_type": "code",
   "execution_count": 47,
   "metadata": {
    "colab": {
     "base_uri": "https://localhost:8080/",
     "height": 201
    },
    "executionInfo": {
     "elapsed": 8,
     "status": "error",
     "timestamp": 1627235157727,
     "user": {
      "displayName": "Mohamed Sabry",
      "photoUrl": "https://lh3.googleusercontent.com/a-/AOh14GhbLJv6CX3dgBgLfw9OYqdgZmRW7NR-K1ZYgxL4=s64",
      "userId": "05412214076873003430"
     },
     "user_tz": -120
    },
    "id": "2VivYx9jpSKL",
    "outputId": "2db6061e-5fc8-438c-a0de-ec34a401977a"
   },
   "outputs": [
    {
     "ename": "KeyError",
     "evalue": "'toast'",
     "output_type": "error",
     "traceback": [
      "\u001b[1;31m---------------------------------------------------------------------------\u001b[0m",
      "\u001b[1;31mKeyError\u001b[0m                                  Traceback (most recent call last)",
      "Cell \u001b[1;32mIn[47], line 1\u001b[0m\n\u001b[1;32m----> 1\u001b[0m \u001b[43mD\u001b[49m\u001b[38;5;241;43m.\u001b[39;49m\u001b[43mpop\u001b[49m\u001b[43m(\u001b[49m\u001b[38;5;124;43m'\u001b[39;49m\u001b[38;5;124;43mtoast\u001b[39;49m\u001b[38;5;124;43m'\u001b[39;49m\u001b[43m)\u001b[49m\n\u001b[0;32m      3\u001b[0m D\n",
      "\u001b[1;31mKeyError\u001b[0m: 'toast'"
     ]
    }
   ],
   "source": [
    "D.pop('toast')\n",
    "\n",
    "D"
   ]
  },
  {
   "cell_type": "code",
   "execution_count": 49,
   "metadata": {
    "id": "zoNLPr4MlhGz"
   },
   "outputs": [
    {
     "data": {
      "text/plain": [
       "'kggs'"
      ]
     },
     "execution_count": 49,
     "metadata": {},
     "output_type": "execute_result"
    }
   ],
   "source": [
    "#use max() method with dict\n",
    "D = {'apam': 2, 'ham': 5, 'kggs': 3}\n",
    "max(D)\n"
   ]
  },
  {
   "cell_type": "code",
   "execution_count": 50,
   "metadata": {
    "id": "sQvycrB3lo0n"
   },
   "outputs": [
    {
     "data": {
      "text/plain": [
       "'eggs'"
      ]
     },
     "execution_count": 50,
     "metadata": {},
     "output_type": "execute_result"
    }
   ],
   "source": [
    "#use min() method with dict\n",
    "\n",
    "D = {'spam': 2, 'ham': 1, 'eggs': 3}\n",
    "min(D)"
   ]
  },
  {
   "cell_type": "code",
   "execution_count": null,
   "metadata": {},
   "outputs": [],
   "source": [
    "D['a']=3\n",
    "D"
   ]
  },
  {
   "cell_type": "code",
   "execution_count": 51,
   "metadata": {
    "colab": {
     "base_uri": "https://localhost:8080/"
    },
    "executionInfo": {
     "elapsed": 511,
     "status": "ok",
     "timestamp": 1627584489372,
     "user": {
      "displayName": "Mohamed Sabry",
      "photoUrl": "https://lh3.googleusercontent.com/a-/AOh14GhbLJv6CX3dgBgLfw9OYqdgZmRW7NR-K1ZYgxL4=s64",
      "userId": "05412214076873003430"
     },
     "user_tz": -120
    },
    "id": "OO99GQ5flws2",
    "outputId": "ac03c024-3ed3-4bac-9387-11372e627cad"
   },
   "outputs": [],
   "source": [
    "# use setdefault() method with dict\n",
    "# Get the value of the \"color\" item, if the \"color\" item does not exist, insert \"color\" with the value \"white\":\n",
    "\n",
    "\n",
    "car = {\n",
    "  \"brand\": \"Ford\",\n",
    "  \"model\": \"Mustang\",\n",
    "  \"year\": 1964\n",
    "}\n",
    "\n",
    "car[\"color\"]=\"white\""
   ]
  },
  {
   "cell_type": "code",
   "execution_count": 52,
   "metadata": {},
   "outputs": [
    {
     "data": {
      "text/plain": [
       "{'brand': 'Ford', 'model': 'Mustang', 'year': 1964, 'color': 'white'}"
      ]
     },
     "execution_count": 52,
     "metadata": {},
     "output_type": "execute_result"
    }
   ],
   "source": [
    "car"
   ]
  },
  {
   "cell_type": "code",
   "execution_count": 53,
   "metadata": {},
   "outputs": [],
   "source": [
    "car[\"color\"]=\"Black\""
   ]
  },
  {
   "cell_type": "code",
   "execution_count": 54,
   "metadata": {},
   "outputs": [
    {
     "data": {
      "text/plain": [
       "{'brand': 'Ford', 'model': 'Mustang', 'year': 1964, 'color': 'Black'}"
      ]
     },
     "execution_count": 54,
     "metadata": {},
     "output_type": "execute_result"
    }
   ],
   "source": [
    "car"
   ]
  },
  {
   "cell_type": "code",
   "execution_count": 55,
   "metadata": {},
   "outputs": [
    {
     "name": "stdout",
     "output_type": "stream",
     "text": [
      "{'brand': 'Ford', 'model': 'Mustang', 'year': 1964, 'color': 'Black'}\n"
     ]
    }
   ],
   "source": [
    "car.setdefault(\"color\", \"white\")\n",
    "\n",
    "print(car)"
   ]
  },
  {
   "cell_type": "markdown",
   "metadata": {
    "id": "I_4mtLeNxjRQ"
   },
   "source": [
    "#### Looping through dictionaries"
   ]
  },
  {
   "cell_type": "code",
   "execution_count": null,
   "metadata": {
    "colab": {
     "base_uri": "https://localhost:8080/"
    },
    "executionInfo": {
     "elapsed": 6,
     "status": "ok",
     "timestamp": 1627235160926,
     "user": {
      "displayName": "Mohamed Sabry",
      "photoUrl": "https://lh3.googleusercontent.com/a-/AOh14GhbLJv6CX3dgBgLfw9OYqdgZmRW7NR-K1ZYgxL4=s64",
      "userId": "05412214076873003430"
     },
     "user_tz": -120
    },
    "id": "--qXfTR-pSoN",
    "outputId": "4b919b57-53f3-4464-cd83-473bc3762df7"
   },
   "outputs": [],
   "source": [
    "D = {'spam': 2, 'ham': 1, 'eggs': 3}\n",
    "for i in D.items():\n",
    "    a,b=i\n",
    "    print(a)"
   ]
  },
  {
   "cell_type": "code",
   "execution_count": null,
   "metadata": {
    "colab": {
     "base_uri": "https://localhost:8080/"
    },
    "executionInfo": {
     "elapsed": 5,
     "status": "ok",
     "timestamp": 1627235164649,
     "user": {
      "displayName": "Mohamed Sabry",
      "photoUrl": "https://lh3.googleusercontent.com/a-/AOh14GhbLJv6CX3dgBgLfw9OYqdgZmRW7NR-K1ZYgxL4=s64",
      "userId": "05412214076873003430"
     },
     "user_tz": -120
    },
    "id": "c8iWoQEZpfoL",
    "outputId": "5a3c4b34-fd61-41b6-be80-965280b81239"
   },
   "outputs": [],
   "source": [
    "for k in D.keys():\n",
    "  print(k)"
   ]
  },
  {
   "cell_type": "code",
   "execution_count": null,
   "metadata": {
    "colab": {
     "base_uri": "https://localhost:8080/"
    },
    "executionInfo": {
     "elapsed": 319,
     "status": "ok",
     "timestamp": 1626863987786,
     "user": {
      "displayName": "Mohamed Sabry",
      "photoUrl": "https://lh3.googleusercontent.com/a-/AOh14GhbLJv6CX3dgBgLfw9OYqdgZmRW7NR-K1ZYgxL4=s64",
      "userId": "05412214076873003430"
     },
     "user_tz": -120
    },
    "id": "tNPamFxJpjDN",
    "outputId": "aea47bdd-735a-4dd8-fd22-4aa0e8eedf0c",
    "scrolled": true
   },
   "outputs": [],
   "source": [
    "for v in D.values():\n",
    "  print(v)"
   ]
  },
  {
   "cell_type": "code",
   "execution_count": 6,
   "metadata": {},
   "outputs": [
    {
     "data": {
      "text/plain": [
       "6"
      ]
     },
     "execution_count": 6,
     "metadata": {},
     "output_type": "execute_result"
    }
   ],
   "source": [
    "sum(D.values())"
   ]
  },
  {
   "cell_type": "code",
   "execution_count": 5,
   "metadata": {},
   "outputs": [
    {
     "data": {
      "text/plain": [
       "'kggs'"
      ]
     },
     "execution_count": 5,
     "metadata": {},
     "output_type": "execute_result"
    }
   ],
   "source": [
    "max(D)"
   ]
  },
  {
   "cell_type": "code",
   "execution_count": 8,
   "metadata": {},
   "outputs": [
    {
     "ename": "TypeError",
     "evalue": "unsupported operand type(s) for +: 'dict' and 'dict'",
     "output_type": "error",
     "traceback": [
      "\u001b[1;31m---------------------------------------------------------------------------\u001b[0m",
      "\u001b[1;31mTypeError\u001b[0m                                 Traceback (most recent call last)",
      "Cell \u001b[1;32mIn[8], line 1\u001b[0m\n\u001b[1;32m----> 1\u001b[0m \u001b[43mD\u001b[49m\u001b[38;5;241;43m+\u001b[39;49m\u001b[43m{\u001b[49m\u001b[38;5;124;43m\"\u001b[39;49m\u001b[38;5;124;43ma\u001b[39;49m\u001b[38;5;124;43m\"\u001b[39;49m\u001b[43m:\u001b[49m\u001b[38;5;241;43m5\u001b[39;49m\u001b[43m}\u001b[49m\n",
      "\u001b[1;31mTypeError\u001b[0m: unsupported operand type(s) for +: 'dict' and 'dict'"
     ]
    }
   ],
   "source": [
    "D+{\"a\":5}"
   ]
  },
  {
   "cell_type": "code",
   "execution_count": null,
   "metadata": {},
   "outputs": [],
   "source": [
    "for i in D:print (i)"
   ]
  },
  {
   "cell_type": "markdown",
   "metadata": {
    "id": "pOgsGFhW9U8y"
   },
   "source": [
    "\n",
    "\n",
    "## * Excersice  3.7\n",
    "\n",
    "    *   Write a Python program to convert a tuple to a dictionary\n",
    "```\n",
    "Given tuplex = ((2, \"w\"),(3, \"r\"))\n",
    "```\n",
    "```\n",
    "output {'w': 2, 'r': 3}\n",
    "```\n",
    "```\n",
    "Hint : the line below is the solution\n",
    "print(dict((y, x) for x, y in tuplex))\n",
    "```"
   ]
  },
  {
   "cell_type": "code",
   "execution_count": null,
   "metadata": {
    "id": "qfMZL2yB-W55"
   },
   "outputs": [],
   "source": [
    "#Type your code here\n",
    "\n",
    "\n",
    "\n"
   ]
  },
  {
   "cell_type": "markdown",
   "metadata": {
    "id": "MZwWl-xU-cOI"
   },
   "source": [
    "\n",
    "\n",
    "## * Excersice   3.8\n",
    "\n",
    "    *   Assume you have a dictionary <br>\n",
    "     dict_1={'data1':100,'data2':-54,'data3':247}\n",
    "\n",
    "        *   Write a Python program to sum all the items in a dictionary.\n",
    "        *   Write a Python program to multiply all the items in a dictionary.\n",
    "        *   Write a Python program to get the maximum and minimum value in a dictionary."
   ]
  },
  {
   "cell_type": "code",
   "execution_count": null,
   "metadata": {
    "id": "LEQEdXQd_giY"
   },
   "outputs": [],
   "source": [
    "#Type your code here\n",
    "\n",
    "\n",
    "\n"
   ]
  },
  {
   "cell_type": "markdown",
   "metadata": {
    "id": "oR5sPQh4_144"
   },
   "source": [
    "\n",
    "\n",
    "## * Excersice   3.9\n",
    "\n",
    "    *   Write a Python script to merge two Python dictionaries.\n",
    "```\n",
    "Given\n",
    "d1 = {'a': 100, 'b': 200}\n",
    "d2 = {'x': 300, 'y': 200}\n",
    "```\n",
    "```\n",
    "{'x': 300, 'y': 200, 'a': 100, 'b': 200}\n",
    "```"
   ]
  },
  {
   "cell_type": "code",
   "execution_count": 75,
   "metadata": {
    "id": "h98JutSiAN_S"
   },
   "outputs": [
    {
     "data": {
      "text/plain": [
       "{'x': 200, 'y': 200, 'a': 100}"
      ]
     },
     "execution_count": 75,
     "metadata": {},
     "output_type": "execute_result"
    }
   ],
   "source": [
    "#Type your code here\n",
    "d1 = {'a': 100, 'x': 200}\n",
    "d2 = {'x': 300, 'y': 200}\n",
    "d2.update(d1)\n",
    "\n",
    "d2"
   ]
  },
  {
   "cell_type": "markdown",
   "metadata": {
    "id": "O1JnVXb2AQAB"
   },
   "source": [
    "\n",
    "\n",
    "## * Excersice   3.10\n",
    "\n",
    "    *   Write a Python program to combine two dictionary adding values for common keys.\n",
    "```\n",
    "Given\n",
    "d1 = {'a': 100, 'b': 200, 'c':300}\n",
    "d2 = {'a': 300, 'b': 200, 'd':400}\n",
    "```\n",
    "```\n",
    "Sample output: Counter({'a': 400, 'b': 400, 'd': 400, 'c': 300})\n",
    "```"
   ]
  },
  {
   "cell_type": "code",
   "execution_count": 96,
   "metadata": {
    "id": "9ZmVvM-NA4Lo"
   },
   "outputs": [],
   "source": [
    "#Type your code here\n",
    "d1 = {'a': 100, 'b': 200, 'c':300}\n",
    "d2 = {'a': 300, 'b': 200, 'd':400}\n",
    "\n",
    "        \n",
    "\n",
    "        \n",
    "        \n"
   ]
  },
  {
   "cell_type": "markdown",
   "metadata": {
    "id": "G-8Bpi65BEu4"
   },
   "source": [
    "\n",
    "\n",
    "## * Excersice   3.11\n",
    "\n",
    "    *   Write a Python script to generate and print a dictionary that contains a number (between 1 and n) in the form (x, x*x)\n",
    "\n",
    "\n",
    "```\n",
    "Given input n = 5\n",
    "Expected output  {1: 1, 2: 4, 3: 9, 4: 16, 5: 25}\n",
    "```\n",
    "\n",
    "\n",
    "\n"
   ]
  },
  {
   "cell_type": "code",
   "execution_count": 93,
   "metadata": {
    "id": "I1xHlycuBvjQ"
   },
   "outputs": [],
   "source": [
    "#Type your code here\n",
    "\n",
    "\n",
    "\n"
   ]
  },
  {
   "cell_type": "markdown",
   "metadata": {},
   "source": [
    "# Good Luck"
   ]
  },
  {
   "cell_type": "code",
   "execution_count": null,
   "metadata": {},
   "outputs": [],
   "source": []
  }
 ],
 "metadata": {
  "colab": {
   "collapsed_sections": [],
   "name": "data_types.ipynb",
   "provenance": [],
   "toc_visible": true
  },
  "kernelspec": {
   "display_name": "Python 3 (ipykernel)",
   "language": "python",
   "name": "python3"
  },
  "language_info": {
   "codemirror_mode": {
    "name": "ipython",
    "version": 3
   },
   "file_extension": ".py",
   "mimetype": "text/x-python",
   "name": "python",
   "nbconvert_exporter": "python",
   "pygments_lexer": "ipython3",
   "version": "3.10.9"
  }
 },
 "nbformat": 4,
 "nbformat_minor": 1
}
