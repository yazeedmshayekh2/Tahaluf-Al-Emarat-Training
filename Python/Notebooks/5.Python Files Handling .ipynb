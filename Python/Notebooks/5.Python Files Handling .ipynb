{
 "cells": [
  {
   "cell_type": "markdown",
   "metadata": {
    "id": "J2oV3lvGQeVu"
   },
   "source": [
    "## 4.File Handling and String Formating agenda:\n",
    "* [File Handling](#file_handling)\n",
    "* [Exercise 1](#ex1)\n",
    "* [String Formating](#string_formating)\n",
    "\n",
    "    * [Method 0 Concatenating](#method_0)\n",
    "    * [Method 0 Modulo %](#method_1)\n",
    "    * [Method 0 .format()](#method_2)\n",
    "    * [Method 0 f-string](#method_3)\n",
    "* [Exercise 2](#ex2)\n",
    "\n",
    "    \n"
   ]
  },
  {
   "cell_type": "markdown",
   "metadata": {
    "id": "M9TfB5Bmwiov"
   },
   "source": [
    "## <a id='file_handling'></a>**File Handling**\n",
    "In real apps we take inputs from users. The inputs can be a button click (Computers) , voice (Phone assistant), text files, or any other forms.\n",
    "\n",
    "In this chapter we will discuss how to deal with text files with Python"
   ]
  },
  {
   "cell_type": "code",
   "execution_count": 1,
   "metadata": {
    "id": "6modMIoZvqCk",
    "outputId": "84f748d8-5f52-412d-d0df-4a4fdab917c5"
   },
   "outputs": [
    {
     "name": "stdout",
     "output_type": "stream",
     "text": [
      "0 2\n",
      "\n",
      "1 \n",
      "\n",
      "2 1080\n",
      "\n",
      "3 \n",
      "\n",
      "4 &c\n",
      "\n",
      "5 \n",
      "\n",
      "6 10-point\n",
      "\n",
      "7 \n",
      "\n",
      "8 10th\n",
      "\n",
      "9 \n",
      "\n"
     ]
    }
   ],
   "source": [
    "# variable 'f' is a file handle : a variable that points to (stores) the address of the file\n",
    "f = open(\"words.txt\", encoding = \"utf-8\")\n",
    "# do file operations \n",
    "lines = f.readlines()\n",
    "\n",
    "for i,line in enumerate(lines):\n",
    "    if i == 10:\n",
    "        break\n",
    "    print(i,line)\n",
    "    \n",
    "# It's important to close the file after editing,\n",
    "# otherwise the changes won't be saved to the file\n",
    "# also as long as the file is open, the OS will restrict any other access to the file\n",
    "f.close()\n"
   ]
  },
  {
   "cell_type": "code",
   "execution_count": 17,
   "metadata": {},
   "outputs": [
    {
     "name": "stdout",
     "output_type": "stream",
     "text": [
      "Help on built-in function open in module io:\n",
      "\n",
      "open(file, mode='r', buffering=-1, encoding=None, errors=None, newline=None, closefd=True, opener=None)\n",
      "    Open file and return a stream.  Raise OSError upon failure.\n",
      "    \n",
      "    file is either a text or byte string giving the name (and the path\n",
      "    if the file isn't in the current working directory) of the file to\n",
      "    be opened or an integer file descriptor of the file to be\n",
      "    wrapped. (If a file descriptor is given, it is closed when the\n",
      "    returned I/O object is closed, unless closefd is set to False.)\n",
      "    \n",
      "    mode is an optional string that specifies the mode in which the file\n",
      "    is opened. It defaults to 'r' which means open for reading in text\n",
      "    mode.  Other common values are 'w' for writing (truncating the file if\n",
      "    it already exists), 'x' for creating and writing to a new file, and\n",
      "    'a' for appending (which on some Unix systems, means that all writes\n",
      "    append to the end of the file regardless of the current seek position).\n",
      "    In text mode, if encoding is not specified the encoding used is platform\n",
      "    dependent: locale.getpreferredencoding(False) is called to get the\n",
      "    current locale encoding. (For reading and writing raw bytes use binary\n",
      "    mode and leave encoding unspecified.) The available modes are:\n",
      "    \n",
      "    ========= ===============================================================\n",
      "    Character Meaning\n",
      "    --------- ---------------------------------------------------------------\n",
      "    'r'       open for reading (default)\n",
      "    'w'       open for writing, truncating the file first\n",
      "    'x'       create a new file and open it for writing\n",
      "    'a'       open for writing, appending to the end of the file if it exists\n",
      "    'b'       binary mode\n",
      "    't'       text mode (default)\n",
      "    '+'       open a disk file for updating (reading and writing)\n",
      "    'U'       universal newline mode (deprecated)\n",
      "    ========= ===============================================================\n",
      "    \n",
      "    The default mode is 'rt' (open for reading text). For binary random\n",
      "    access, the mode 'w+b' opens and truncates the file to 0 bytes, while\n",
      "    'r+b' opens the file without truncation. The 'x' mode implies 'w' and\n",
      "    raises an `FileExistsError` if the file already exists.\n",
      "    \n",
      "    Python distinguishes between files opened in binary and text modes,\n",
      "    even when the underlying operating system doesn't. Files opened in\n",
      "    binary mode (appending 'b' to the mode argument) return contents as\n",
      "    bytes objects without any decoding. In text mode (the default, or when\n",
      "    't' is appended to the mode argument), the contents of the file are\n",
      "    returned as strings, the bytes having been first decoded using a\n",
      "    platform-dependent encoding or using the specified encoding if given.\n",
      "    \n",
      "    'U' mode is deprecated and will raise an exception in future versions\n",
      "    of Python.  It has no effect in Python 3.  Use newline to control\n",
      "    universal newlines mode.\n",
      "    \n",
      "    buffering is an optional integer used to set the buffering policy.\n",
      "    Pass 0 to switch buffering off (only allowed in binary mode), 1 to select\n",
      "    line buffering (only usable in text mode), and an integer > 1 to indicate\n",
      "    the size of a fixed-size chunk buffer.  When no buffering argument is\n",
      "    given, the default buffering policy works as follows:\n",
      "    \n",
      "    * Binary files are buffered in fixed-size chunks; the size of the buffer\n",
      "      is chosen using a heuristic trying to determine the underlying device's\n",
      "      \"block size\" and falling back on `io.DEFAULT_BUFFER_SIZE`.\n",
      "      On many systems, the buffer will typically be 4096 or 8192 bytes long.\n",
      "    \n",
      "    * \"Interactive\" text files (files for which isatty() returns True)\n",
      "      use line buffering.  Other text files use the policy described above\n",
      "      for binary files.\n",
      "    \n",
      "    encoding is the name of the encoding used to decode or encode the\n",
      "    file. This should only be used in text mode. The default encoding is\n",
      "    platform dependent, but any encoding supported by Python can be\n",
      "    passed.  See the codecs module for the list of supported encodings.\n",
      "    \n",
      "    errors is an optional string that specifies how encoding errors are to\n",
      "    be handled---this argument should not be used in binary mode. Pass\n",
      "    'strict' to raise a ValueError exception if there is an encoding error\n",
      "    (the default of None has the same effect), or pass 'ignore' to ignore\n",
      "    errors. (Note that ignoring encoding errors can lead to data loss.)\n",
      "    See the documentation for codecs.register or run 'help(codecs.Codec)'\n",
      "    for a list of the permitted encoding error strings.\n",
      "    \n",
      "    newline controls how universal newlines works (it only applies to text\n",
      "    mode). It can be None, '', '\\n', '\\r', and '\\r\\n'.  It works as\n",
      "    follows:\n",
      "    \n",
      "    * On input, if newline is None, universal newlines mode is\n",
      "      enabled. Lines in the input can end in '\\n', '\\r', or '\\r\\n', and\n",
      "      these are translated into '\\n' before being returned to the\n",
      "      caller. If it is '', universal newline mode is enabled, but line\n",
      "      endings are returned to the caller untranslated. If it has any of\n",
      "      the other legal values, input lines are only terminated by the given\n",
      "      string, and the line ending is returned to the caller untranslated.\n",
      "    \n",
      "    * On output, if newline is None, any '\\n' characters written are\n",
      "      translated to the system default line separator, os.linesep. If\n",
      "      newline is '' or '\\n', no translation takes place. If newline is any\n",
      "      of the other legal values, any '\\n' characters written are translated\n",
      "      to the given string.\n",
      "    \n",
      "    If closefd is False, the underlying file descriptor will be kept open\n",
      "    when the file is closed. This does not work when a file name is given\n",
      "    and must be True in that case.\n",
      "    \n",
      "    A custom opener can be used by passing a callable as *opener*. The\n",
      "    underlying file descriptor for the file object is then obtained by\n",
      "    calling *opener* with (*file*, *flags*). *opener* must return an open\n",
      "    file descriptor (passing os.open as *opener* results in functionality\n",
      "    similar to passing None).\n",
      "    \n",
      "    open() returns a file object whose type depends on the mode, and\n",
      "    through which the standard file operations such as reading and writing\n",
      "    are performed. When open() is used to open a file in a text mode ('w',\n",
      "    'r', 'wt', 'rt', etc.), it returns a TextIOWrapper. When used to open\n",
      "    a file in a binary mode, the returned class varies: in read binary\n",
      "    mode, it returns a BufferedReader; in write binary and append binary\n",
      "    modes, it returns a BufferedWriter, and in read/write mode, it returns\n",
      "    a BufferedRandom.\n",
      "    \n",
      "    It is also possible to use a string or bytearray as a file for both\n",
      "    reading and writing. For strings StringIO can be used like a file\n",
      "    opened in a text mode, and for bytes a BytesIO can be used like a file\n",
      "    opened in a binary mode.\n",
      "\n"
     ]
    }
   ],
   "source": [
    "help(open)"
   ]
  },
  {
   "cell_type": "markdown",
   "metadata": {
    "id": "wVzRXUXzxdl-"
   },
   "source": [
    "A better code does error handling. What if the file we are trying to open doesn't exists?"
   ]
  },
  {
   "cell_type": "code",
   "execution_count": 9,
   "metadata": {
    "id": "QZo8879gvqCt",
    "outputId": "fc5f189b-96f7-4388-81fe-a32c2f9e1502"
   },
   "outputs": [
    {
     "name": "stdout",
     "output_type": "stream",
     "text": [
      "open the correct file\n"
     ]
    }
   ],
   "source": [
    "try:\n",
    "    f = open(\"wordss.txt\", encoding = \"utf-8\")\n",
    "    lines = f.readlines()\n",
    "\n",
    "    for i,line in enumerate(lines):\n",
    "        if i == 10:\n",
    "            break\n",
    "        print(line)\n",
    "        \n",
    "except FileNotFoundError:\n",
    "    print(\"open the correct file\")\n",
    "    \n",
    "    \n",
    "    \n",
    "finally:\n",
    "    f.close()\n"
   ]
  },
  {
   "cell_type": "markdown",
   "metadata": {
    "id": "08tvNXv6QeVy"
   },
   "source": [
    "using with statement "
   ]
  },
  {
   "cell_type": "code",
   "execution_count": 13,
   "metadata": {
    "id": "dme_szRavqCt",
    "outputId": "965e08e0-b141-4520-c1fc-d4833e9bda0b"
   },
   "outputs": [
    {
     "name": "stdout",
     "output_type": "stream",
     "text": [
      "2\n",
      "\n",
      "\n",
      "\n",
      "1080\n",
      "\n",
      "\n",
      "\n",
      "&c\n",
      "\n",
      "\n",
      "\n",
      "10-point\n",
      "\n",
      "\n",
      "\n",
      "10th\n",
      "\n",
      "\n",
      "\n"
     ]
    }
   ],
   "source": [
    "with open(\"words.txt\", encoding = \"utf-8\") as f:\n",
    "    lines = f.readlines()\n",
    "    for i,line in enumerate(lines):\n",
    "        if i == 10:\n",
    "            break\n",
    "        print(line)\n"
   ]
  },
  {
   "cell_type": "markdown",
   "metadata": {
    "id": "qBQbAZojQeVz"
   },
   "source": [
    "write in a file using write() method"
   ]
  },
  {
   "cell_type": "code",
   "execution_count": null,
   "metadata": {
    "id": "R9NgK8abvqCu"
   },
   "outputs": [],
   "source": [
    "with  open(\"file.txt\", \"w\", encoding = \"utf-8\") as f:\n",
    "    f.write(\"my first line\\n\")\n",
    "    f.write(\"this is the second line\\n\") "
   ]
  },
  {
   "cell_type": "code",
   "execution_count": null,
   "metadata": {
    "id": "MBvw-M-NQeVz",
    "outputId": "6ec23905-7363-448e-e881-e03a2b1806df"
   },
   "outputs": [
    {
     "name": "stdout",
     "output_type": "stream",
     "text": [
      "my first line\n",
      "\n",
      "this is the second line\n",
      "\n"
     ]
    }
   ],
   "source": [
    "with  open(\"file.txt\", \"r\", encoding = \"utf-8\") as f:\n",
    "    for line in f:\n",
    "        print (line)"
   ]
  },
  {
   "cell_type": "markdown",
   "metadata": {
    "id": "tbpvZ7X8QeV0"
   },
   "source": [
    "Opening a file in write mode will clear its content if exists"
   ]
  },
  {
   "cell_type": "code",
   "execution_count": null,
   "metadata": {
    "id": "MYMLDJXmvqCv"
   },
   "outputs": [],
   "source": [
    "with  open(\"file.txt\", \"r\", encoding = \"utf-8\") as f:\n",
    "    for line in f:\n",
    "        print (line, end = \" \")"
   ]
  },
  {
   "cell_type": "markdown",
   "metadata": {
    "id": "MpTXT0riQeV1"
   },
   "source": [
    "Using readline() method to read lines progressively in a loop"
   ]
  },
  {
   "cell_type": "code",
   "execution_count": null,
   "metadata": {
    "id": "Q5KmC_QIvqCw",
    "outputId": "05b74bf5-35eb-472f-8363-2f0d54aa7e75"
   },
   "outputs": [
    {
     "name": "stdout",
     "output_type": "stream",
     "text": [
      "2\n",
      "\n",
      "1080\n",
      "\n",
      "&c\n",
      "\n",
      "10-point\n",
      "\n",
      "10th\n",
      "\n"
     ]
    }
   ],
   "source": [
    "with  open(\"words.txt\", \"r\", encoding = \"utf-8\") as f:\n",
    "    for i in range(5):\n",
    "        print(f.readline())\n"
   ]
  },
  {
   "cell_type": "markdown",
   "metadata": {
    "id": "HFvD2MyTQeV1"
   },
   "source": [
    "Opening files in append mode to save its content and append only at the end"
   ]
  },
  {
   "cell_type": "code",
   "execution_count": null,
   "metadata": {
    "id": "hsXNG7iYQeV1"
   },
   "outputs": [],
   "source": [
    "with  open(\"file.txt\", \"w\", encoding = \"utf-8\") as f:\n",
    "    f.write(\"my first line\\n\")\n",
    "    f.write(\"this is the second line\\n\") "
   ]
  },
  {
   "cell_type": "code",
   "execution_count": null,
   "metadata": {
    "id": "3tBWvt4JvqCw"
   },
   "outputs": [],
   "source": [
    "with  open(\"file.txt\", \"a\", encoding = \"utf-8\") as f:\n",
    "    f.write(\"this is the third line\\n\") "
   ]
  },
  {
   "cell_type": "code",
   "execution_count": null,
   "metadata": {
    "id": "poM7CJ07vqCw",
    "outputId": "8a6392fa-668c-4ab5-83da-e3904399a58f"
   },
   "outputs": [
    {
     "name": "stdout",
     "output_type": "stream",
     "text": [
      "my first line\n",
      "\n",
      "this is the second line\n",
      "\n",
      "this is the third line\n",
      "\n"
     ]
    }
   ],
   "source": [
    "with  open(\"file.txt\", \"r\", encoding = \"utf-8\") as f:\n",
    "    for line in f:\n",
    "        print (line)"
   ]
  },
  {
   "cell_type": "markdown",
   "metadata": {
    "id": "tIhTyCdWRp4R"
   },
   "source": [
    "## <a id='ex1'></a>**Exercise 1**\n",
    "A common file formate is a **CSV** file, its used to represent tables.    \n",
    "* every entry in the same row in the table is seperated by (**,**).    \n",
    "* evey line represents a row in the table.\n",
    "\n",
    "heres an exmaple of how a csv file looks\n",
    "```\n",
    "row_1col_1,row1_col2,row1_col3    \n",
    "row_2col_1,row2_col2,row2_col3    \n",
    "row_2col_1,row2_col2,row2_col3    \n",
    "```\n",
    "Your task is to:   \n",
    "1- write a csv file where:\n",
    "  * first row has 2 entries **name** and **age**.\n",
    "  * write 5 rows with random names and random ages.\n",
    "\n",
    "2- read this file in a **2D list**\n",
    "  * each row is a list where each entity is an element in this list.\n",
    "  * One list will contains all the lists\n",
    " \n"
   ]
  },
  {
   "cell_type": "code",
   "execution_count": null,
   "metadata": {
    "id": "ityYsgTJdDwj"
   },
   "outputs": [],
   "source": [
    "# create the file and write it \n",
    "\n",
    "\n",
    "# read the file and parse it\n",
    "\n"
   ]
  },
  {
   "cell_type": "markdown",
   "metadata": {
    "id": "293kIR1-zLjd"
   },
   "source": [
    "## **Encoding**\n",
    "\n",
    "Computers understand binary (0's 1's). Encoding means giving every character a certain binary code. When the computer gets the binary code (lets say for letter 'A') it understands that it should display the letter 'A'.\n",
    "\n",
    "A basic encoding is the ASCII which encodes only 128 character. Since this is very limited we had to think of other encodings that include non English characters such as Arabic letters or even Emoji.\n",
    "\n",
    "UTF-8 encodes 1,112,064 different characters"
   ]
  },
  {
   "cell_type": "markdown",
   "metadata": {
    "id": "qs--f5IVbyAt"
   },
   "source": [
    "## <a id='string_formating'></a> **String Formatting**\n",
    "\n",
    "In this part we will discuss how to handle and print strings in a better and elegant way."
   ]
  },
  {
   "cell_type": "markdown",
   "metadata": {
    "id": "to--h1QicCST"
   },
   "source": [
    "## **Injecting an item**\n",
    "\n",
    "So far we have been adding a variable to a string using concatenation but this makes the code less readable and maintainable.\n",
    "\n",
    "In this section we will discuss 3 other ways"
   ]
  },
  {
   "cell_type": "markdown",
   "metadata": {
    "id": "ayw6TVywcXBy"
   },
   "source": [
    "### <a id='method_0'></a> **Method 0: Concatenation**\n",
    "\n",
    "This is the old way. As you can see we have to remember carefully where to put spaces to avoid the issue below \"GoodeveningHoda\". If the number of items we want to inject is large this will cause a greater headache!.\n",
    "\n",
    "This is just one issue with this method, other issues will appear when we discuss the other ways"
   ]
  },
  {
   "cell_type": "code",
   "execution_count": 10,
   "metadata": {
    "colab": {
     "base_uri": "https://localhost:8080/"
    },
    "id": "Ub53dtsMcWHE",
    "outputId": "6598b1d5-132a-4271-a6a1-9e60e026e8b1"
   },
   "outputs": [
    {
     "name": "stdout",
     "output_type": "stream",
     "text": [
      "GoodeveningHoda\n"
     ]
    }
   ],
   "source": [
    "name = \"Hoda\"\n",
    "time = \"evening\"\n",
    "my_bad_str = \"Good\" + time + name\n",
    "\n",
    "print (my_bad_str)"
   ]
  },
  {
   "cell_type": "code",
   "execution_count": 11,
   "metadata": {
    "colab": {
     "base_uri": "https://localhost:8080/"
    },
    "id": "jtHAsNngc_FF",
    "outputId": "d1aad2fe-9fd2-45a3-ebb5-649c873b4d91"
   },
   "outputs": [
    {
     "name": "stdout",
     "output_type": "stream",
     "text": [
      "Good evening Hoda\n"
     ]
    }
   ],
   "source": [
    "my_good_str = \"Good \" + time + \" \" + name\n",
    "print (my_good_str)"
   ]
  },
  {
   "cell_type": "markdown",
   "metadata": {
    "id": "9kbAeUmmdgLz"
   },
   "source": [
    "### <a id='method_1'></a> **Method 1: modulo %**\n",
    "\n",
    "In this method we add a modulo character where we want to add the string "
   ]
  },
  {
   "cell_type": "code",
   "execution_count": 33,
   "metadata": {
    "colab": {
     "base_uri": "https://localhost:8080/"
    },
    "id": "F8MXJesob-4L",
    "outputId": "a4099376-8d47-442b-bb79-67ccc2fc2296"
   },
   "outputs": [
    {
     "name": "stdout",
     "output_type": "stream",
     "text": [
      "Good 1 Hoda\n"
     ]
    }
   ],
   "source": [
    "name = \"Hoda\"\n",
    "time = 1\n",
    "my_modulo_str = \"Good %d %s\" %(time,name)\n",
    "\n",
    "print (my_modulo_str)"
   ]
  },
  {
   "cell_type": "markdown",
   "metadata": {
    "id": "EozInFGKeSVG"
   },
   "source": [
    "%s is called string conversion and indicates that in this place we are going to add a **s**tring.\n",
    "\n",
    "Other conversion:\n",
    "\n",
    "\n",
    "```\n",
    "Conversion\tMeaning\n",
    "d\tSigned integer decimal.\n",
    "i\tSigned integer decimal.\n",
    "o\tUnsigned octal.\n",
    "u\tObsolete and equivalent to 'd', i.e. signed integer decimal.\n",
    "x\tUnsigned hexadecimal (lowercase).\n",
    "X\tUnsigned hexadecimal (uppercase).\n",
    "e\tFloating point exponential format (lowercase).\n",
    "E\tFloating point exponential format (uppercase).\n",
    "f\tFloating point decimal format.\n",
    "F\tFloating point decimal format.\n",
    "g\tSame as \"e\" if exponent is greater than -4 or less than precision, \"f\" otherwise.\n",
    "G\tSame as \"E\" if exponent is greater than -4 or less than precision, \"F\" otherwise.\n",
    "c\tSingle character (accepts integer or single character string).\n",
    "r\tString (converts any python object using repr()).\n",
    "s\tString (converts any python object using str()).\n",
    "%\tNo argument is converted, results in a \"%\" character in the result.\n",
    "```\n",
    "\n",
    "\n"
   ]
  },
  {
   "cell_type": "markdown",
   "metadata": {
    "id": "MYNKVv0vfcJA"
   },
   "source": [
    "Lets experiment more with floating point conversion!\n",
    "\n",
    "As you can see we replaced the placeholder %f with the integer \"score\" however the string contained the float \"88.000000\" because the placeholder did floating conversion.\n",
    "\n",
    "Also notice how we can add several placeholders withe different types in the same string"
   ]
  },
  {
   "cell_type": "code",
   "execution_count": 13,
   "metadata": {
    "colab": {
     "base_uri": "https://localhost:8080/"
    },
    "id": "HAUMfXfyeBrU",
    "outputId": "e7895d11-7e8e-492e-b5f2-3291eb6e2e62"
   },
   "outputs": [
    {
     "name": "stdout",
     "output_type": "stream",
     "text": [
      "Ali score is: 88.000000\n"
     ]
    }
   ],
   "source": [
    "name = \"Ali\"\n",
    "score = 88\n",
    "\n",
    "my_modulo_str = \"%s score is: %f\" %(name,score)\n",
    "\n",
    "print (my_modulo_str)"
   ]
  },
  {
   "cell_type": "markdown",
   "metadata": {
    "id": "-MZ199wdhKOd"
   },
   "source": [
    "Controlling the floating point precision:\n",
    "%8.4f means : the number should take at least 8 characters if there are less then %f will add spaces to the left\n",
    "\n",
    "**.4f** means : the number should have 4 digits after the decimal point. If there are less digits %f will add zeros to the right\n",
    "\n",
    "In our case \"score\" had 7 characters\n",
    " ( + 1 \n",
    "\n",
    "*   2 numbers before the decimal\n",
    "*   4 numbers after the decimal (not 3 because we specified .4f after the decimal point)\n",
    "*   1 decimal point \".\"\n",
    "\n",
    "but since we specified a conversion of 7 characters %f added a space to the right\n",
    "\n",
    "We have 3 digits after the decimal point .456 so %f padded 1 zero to make them 4\n"
   ]
  },
  {
   "cell_type": "code",
   "execution_count": 37,
   "metadata": {
    "colab": {
     "base_uri": "https://localhost:8080/"
    },
    "id": "pBs-tCOhgBv7",
    "outputId": "2ebd089a-980c-424a-dd89-961b0c852e61"
   },
   "outputs": [
    {
     "name": "stdout",
     "output_type": "stream",
     "text": [
      "Ali score is:88.456000000\n"
     ]
    }
   ],
   "source": [
    "name = \"Ali\"\n",
    "score = 88.456\n",
    "\n",
    "my_modulo_str = \"%s score is:%8.9f\" %(name,score)\n",
    "\n",
    "print (my_modulo_str)"
   ]
  },
  {
   "cell_type": "markdown",
   "metadata": {
    "id": "yy0TfujSk1Bp"
   },
   "source": [
    "Notice that if the precision %7.1f the conversion will remove the last digit and does rounding 88.456 -> 88.5"
   ]
  },
  {
   "cell_type": "code",
   "execution_count": null,
   "metadata": {
    "colab": {
     "base_uri": "https://localhost:8080/"
    },
    "id": "ReoYLbC7hsQD",
    "outputId": "711d0b77-9080-4310-e0f7-27dec34c52a7"
   },
   "outputs": [
    {
     "name": "stdout",
     "output_type": "stream",
     "text": [
      "Ali score is:   88.5\n"
     ]
    }
   ],
   "source": [
    "name = \"Ali\"\n",
    "score = 88.456\n",
    "\n",
    "my_modulo_str = \"%s score is:%7.1f\" %(name,score)\n",
    "\n",
    "print (my_modulo_str)"
   ]
  },
  {
   "cell_type": "markdown",
   "metadata": {
    "id": "07Vr3SooliqN"
   },
   "source": [
    "### <a id='method_2'></a> **Method 2: .format()**\n",
    "\n",
    "This method is very similar to the modulo method but with more features"
   ]
  },
  {
   "cell_type": "code",
   "execution_count": 14,
   "metadata": {
    "colab": {
     "base_uri": "https://localhost:8080/"
    },
    "id": "ItJ5Sd_1lJPk",
    "outputId": "764b37a9-b93b-49c1-9f59-2cf26542b97d"
   },
   "outputs": [
    {
     "name": "stdout",
     "output_type": "stream",
     "text": [
      "Good evening Hoda\n"
     ]
    }
   ],
   "source": [
    "name = \"Hoda\"\n",
    "time = \"evening\"\n",
    "my_format_str = \"Good {} {}\".format(time, name)\n",
    "\n",
    "print (my_format_str)"
   ]
  },
  {
   "cell_type": "markdown",
   "metadata": {
    "id": "9_-W5NYbnB-0"
   },
   "source": [
    "#### **Using Index**\n",
    "\n",
    "The first added feature is injected items can be called by index instead of position"
   ]
  },
  {
   "cell_type": "code",
   "execution_count": 15,
   "metadata": {
    "colab": {
     "base_uri": "https://localhost:8080/"
    },
    "id": "uJW3bWS-lzd_",
    "outputId": "c1d49526-237c-464d-a5cd-0d7336da0bca"
   },
   "outputs": [
    {
     "name": "stdout",
     "output_type": "stream",
     "text": [
      "Good evening Hoda\n"
     ]
    }
   ],
   "source": [
    "name = \"Hoda\"\n",
    "time = \"evening\"\n",
    "my_format_str = \"Good {1} {0}\".format(name, time)\n",
    "\n",
    "print (my_format_str)"
   ]
  },
  {
   "cell_type": "markdown",
   "metadata": {
    "id": "Kd5xXOYTnYXK"
   },
   "source": [
    "#### **Keyword index**\n",
    "\n",
    "Another feature is giving the injected items keywords and passing it using them"
   ]
  },
  {
   "cell_type": "code",
   "execution_count": 16,
   "metadata": {
    "colab": {
     "base_uri": "https://localhost:8080/"
    },
    "id": "bGJ-5G1MnTMy",
    "outputId": "adf9eca4-87dd-4765-99d0-9b4e217b7250"
   },
   "outputs": [
    {
     "name": "stdout",
     "output_type": "stream",
     "text": [
      "Good evening Hoda\n"
     ]
    }
   ],
   "source": [
    "name = \"Hoda\"\n",
    "time = \"evening\"\n",
    "my_format_str = \"Good {time_of_day} {n}\".format(n=name, time_of_day=time)\n",
    "\n",
    "print (my_format_str)"
   ]
  },
  {
   "cell_type": "markdown",
   "metadata": {
    "id": "pgEYehXknwnu"
   },
   "source": [
    "You can also use the injected item several times either with numbers or keywords"
   ]
  },
  {
   "cell_type": "code",
   "execution_count": 17,
   "metadata": {
    "colab": {
     "base_uri": "https://localhost:8080/"
    },
    "id": "TCIJmR0cno4x",
    "outputId": "be94c4e9-c846-46f5-d077-57e255301260"
   },
   "outputs": [
    {
     "name": "stdout",
     "output_type": "stream",
     "text": [
      "Welcoming Hoda...\n",
      "Good evening Hoda\n"
     ]
    }
   ],
   "source": [
    "name = \"Hoda\"\n",
    "time = \"evening\"\n",
    "my_format_str = \"Welcoming {n}...\\nGood {time_of_day} {n}\".format(n=name, time_of_day=time)\n",
    "\n",
    "print (my_format_str)"
   ]
  },
  {
   "cell_type": "markdown",
   "metadata": {
    "id": "S49eMyqzoeEq"
   },
   "source": [
    "#### **Floating point**\n",
    "\n",
    "{1:7.1f} : means for the item of index 1 format it to 7.1f"
   ]
  },
  {
   "cell_type": "code",
   "execution_count": 18,
   "metadata": {
    "colab": {
     "base_uri": "https://localhost:8080/"
    },
    "id": "NyEohZU2n5rx",
    "outputId": "f59531df-6a66-42e0-98c7-553e48a8f1cd"
   },
   "outputs": [
    {
     "name": "stdout",
     "output_type": "stream",
     "text": [
      "Ali score is:   88.5\n",
      "Ali score is:   88.5\n"
     ]
    }
   ],
   "source": [
    "name = \"Ali\"\n",
    "score = 88.456\n",
    "\n",
    "my_modulo_str = \"%s score is:%7.1f\" %(name,score)\n",
    "my_format_str =  \"{0} score is:{1:7.1f}\".format(name,score)\n",
    "\n",
    "print (my_modulo_str)\n",
    "print (my_format_str)\n"
   ]
  },
  {
   "cell_type": "markdown",
   "metadata": {
    "id": "Rp3RL9IZqXjV"
   },
   "source": [
    "#### **Alignment and Padding**\n",
    "\n",
    "Now our strings are going to get real pretty\n",
    "\n",
    "Ever wondered how to print tables like this:\n",
    "\n",
    "```\n",
    "Name      | Score\n",
    "Amr       | 78.2\n",
    "Hoda      | 88.5\n",
    "Zainab    | 82.6\n",
    "```\n",
    "\n",
    "The first thought is to keep adding spaces to get things aligned, but with Python we can do that easily"
   ]
  },
  {
   "cell_type": "code",
   "execution_count": 19,
   "metadata": {
    "colab": {
     "base_uri": "https://localhost:8080/"
    },
    "id": "kKz2ABejosV3",
    "outputId": "ce7c77e6-5c71-4114-e45b-441db13f5324"
   },
   "outputs": [
    {
     "name": "stdout",
     "output_type": "stream",
     "text": [
      "Name       | Score     \n",
      "Amr        |       78.2\n",
      "Hoda       |       88.5\n",
      "Zainab     |       82.6\n"
     ]
    }
   ],
   "source": [
    "names_scores_dict = {'Amr':78.2,\n",
    "                     'Hoda':88.5,\n",
    "                     'Zainab':82.6}\n",
    "\n",
    "print('{0:10} | {1:10}'.format('Name', \"Score\"))\n",
    "for name, score in names_scores_dict.items():\n",
    "  print('{0:10} | {1:10}'.format(name, score))"
   ]
  },
  {
   "cell_type": "markdown",
   "metadata": {
    "id": "5gEHVWmHsMyT"
   },
   "source": [
    "Lets make it better! \n",
    "We want to align the word Score to the right along with the numbers\n",
    "\n",
    "The arrow sign > , < or ^ tells .format where to align the string\n",
    "\n",
    "\\> : align to the left\n",
    "\n",
    "< : align to the right\n",
    "\n",
    "^ : align to the center"
   ]
  },
  {
   "cell_type": "code",
   "execution_count": null,
   "metadata": {
    "colab": {
     "base_uri": "https://localhost:8080/"
    },
    "id": "gPHfamvMsGsp",
    "outputId": "e089c9f5-a5ed-4914-a682-252635e7f078"
   },
   "outputs": [
    {
     "name": "stdout",
     "output_type": "stream",
     "text": [
      "Name       |      Score\n",
      "Amr        |       78.2\n",
      "Hoda       |       88.5\n",
      "Zainab     |       82.6\n"
     ]
    }
   ],
   "source": [
    "names_scores_dict = {'Amr':78.2,\n",
    "                     'Hoda':88.5,\n",
    "                     'Zainab':82.6}\n",
    "\n",
    "print('{0:10} | {1:>10}'.format('Name', \"Score\"))\n",
    "for name, score in names_scores_dict.items():\n",
    "  print('{0:10} | {1:>10}'.format(name, score))"
   ]
  },
  {
   "cell_type": "markdown",
   "metadata": {
    "id": "gFsoWgb1snsj"
   },
   "source": [
    "By default .format pads strings with spaces but you can change that to any character\n",
    "\n",
    "Lets pad the header with '.' instead."
   ]
  },
  {
   "cell_type": "code",
   "execution_count": null,
   "metadata": {
    "colab": {
     "base_uri": "https://localhost:8080/"
    },
    "id": "GpgKmd-dsaTF",
    "outputId": "15d264d4-60d5-44b7-b491-465ac599f02c"
   },
   "outputs": [
    {
     "name": "stdout",
     "output_type": "stream",
     "text": [
      "Name...... | .....Score\n",
      "Amr        |       78.2\n",
      "Hoda       |       88.5\n",
      "Zainab     |       82.6\n"
     ]
    }
   ],
   "source": [
    "names_scores_dict = {'Amr':78.2,\n",
    "                     'Hoda':88.5,\n",
    "                     'Zainab':82.6}\n",
    "\n",
    "print('{0:.<10} | {1:.>10}'.format('Name', \"Score\"))\n",
    "for name, score in names_scores_dict.items():\n",
    "  print('{0:10} | {1:>10}'.format(name, score))"
   ]
  },
  {
   "cell_type": "markdown",
   "metadata": {
    "id": "yjXbfLBgt1Ea"
   },
   "source": [
    "### <a id='method_3'></a> **Method 3: f-strings**\n",
    "\n",
    "F-strings have several advantages over .format().\n",
    "\n",
    "Lets see them!\n",
    "\n",
    "In the example below we injected the items immediately into the string. This is way more readable than other methods"
   ]
  },
  {
   "cell_type": "code",
   "execution_count": null,
   "metadata": {
    "colab": {
     "base_uri": "https://localhost:8080/"
    },
    "id": "9qhBPDP4tgH4",
    "outputId": "5a2aad03-766a-4ac0-d249-7da276bd6744"
   },
   "outputs": [
    {
     "name": "stdout",
     "output_type": "stream",
     "text": [
      "Good evening Hoda\n"
     ]
    }
   ],
   "source": [
    "name = \"Hoda\"\n",
    "time = \"evening\"\n",
    "my_f_str = f\"Good {time} {name}\"\n",
    "\n",
    "print (my_f_str)"
   ]
  },
  {
   "cell_type": "markdown",
   "metadata": {
    "id": "uOB7zt34uz_d"
   },
   "source": [
    "#### **Floating point**\n",
    "The syntax for injecting floating point is:\n",
    "\n",
    "{item:{width}.{precision}}\n",
    "\n",
    "The difference here is that precision is the total number of all digits before and after the decimal point.\n"
   ]
  },
  {
   "cell_type": "code",
   "execution_count": null,
   "metadata": {
    "colab": {
     "base_uri": "https://localhost:8080/"
    },
    "id": "EAnuMFSFuMmx",
    "outputId": "ce277f94-f445-4af2-e2d9-a66848d0ad96"
   },
   "outputs": [
    {
     "name": "stdout",
     "output_type": "stream",
     "text": [
      "Ali score is:   88.5\n",
      "Ali score is:  88.46\n"
     ]
    }
   ],
   "source": [
    "name = \"Ali\"\n",
    "score = 88.456\n",
    "\n",
    "my_format_str = \"{0} score is:{1:7.1f}\".format(name,score)\n",
    "my_f_str = f\"{name} score is:{score:{7}.{4}}\"\n",
    "\n",
    "print (my_format_str)\n",
    "print (my_f_str)"
   ]
  },
  {
   "cell_type": "markdown",
   "metadata": {
    "id": "Fviavu6NeDRy"
   },
   "source": [
    "## <a id='ex2'></a>**Exercise 2**\n",
    "\n",
    "**Hi my name is \"name-> string\", I am \"age->int\" years old, my heigth is \"height->float\" meters.**\n",
    "\n",
    "wirte the previos string using each of the 3 formating methods explained above.\n",
    "* you should use the given variables in the code block.\n",
    "* you should use **2 numbers** after the decimal point.\n",
    "\n",
    "\n",
    "\n"
   ]
  },
  {
   "cell_type": "code",
   "execution_count": null,
   "metadata": {
    "id": "LLP40_U6fu1N"
   },
   "outputs": [],
   "source": [
    "# print the string using \"module\" methods\n",
    "\n",
    "# print the string using \".format()\" methods\n",
    "\n",
    "# print the string using  \"f-strings\" methods\n"
   ]
  }
 ],
 "metadata": {
  "colab": {
   "collapsed_sections": [],
   "name": "File Handling and String Formating_ex.ipynb",
   "provenance": []
  },
  "kernelspec": {
   "display_name": "Python 3 (ipykernel)",
   "language": "python",
   "name": "python3"
  },
  "language_info": {
   "codemirror_mode": {
    "name": "ipython",
    "version": 3
   },
   "file_extension": ".py",
   "mimetype": "text/x-python",
   "name": "python",
   "nbconvert_exporter": "python",
   "pygments_lexer": "ipython3",
   "version": "3.9.12"
  }
 },
 "nbformat": 4,
 "nbformat_minor": 1
}
